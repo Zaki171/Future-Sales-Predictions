{
 "cells": [
  {
   "cell_type": "code",
   "execution_count": 1,
   "id": "d32ef65c",
   "metadata": {
    "_cell_guid": "b1076dfc-b9ad-4769-8c92-a6c4dae69d19",
    "_uuid": "8f2839f25d086af736a60e9eeb907d3b93b6e0e5",
    "execution": {
     "iopub.execute_input": "2022-09-15T22:40:16.362202Z",
     "iopub.status.busy": "2022-09-15T22:40:16.361540Z",
     "iopub.status.idle": "2022-09-15T22:40:16.382190Z",
     "shell.execute_reply": "2022-09-15T22:40:16.379954Z"
    },
    "papermill": {
     "duration": 0.040298,
     "end_time": "2022-09-15T22:40:16.386100",
     "exception": false,
     "start_time": "2022-09-15T22:40:16.345802",
     "status": "completed"
    },
    "tags": []
   },
   "outputs": [
    {
     "name": "stdout",
     "output_type": "stream",
     "text": [
      "/kaggle/input/competitive-data-science-predict-future-sales/items.csv\n",
      "/kaggle/input/competitive-data-science-predict-future-sales/sample_submission.csv\n",
      "/kaggle/input/competitive-data-science-predict-future-sales/item_categories.csv\n",
      "/kaggle/input/competitive-data-science-predict-future-sales/sales_train.csv\n",
      "/kaggle/input/competitive-data-science-predict-future-sales/shops.csv\n",
      "/kaggle/input/competitive-data-science-predict-future-sales/test.csv\n"
     ]
    }
   ],
   "source": [
    "# This Python 3 environment comes with many helpful analytics libraries installed\n",
    "# It is defined by the kaggle/python Docker image: https://github.com/kaggle/docker-python\n",
    "# For example, here's several helpful packages to load\n",
    "\n",
    "import numpy as np # linear algebra\n",
    "import pandas as pd # data processing, CSV file I/O (e.g. pd.read_csv)\n",
    "\n",
    "# Input data files are available in the read-only \"../input/\" directory\n",
    "# For example, running this (by clicking run or pressing Shift+Enter) will list all files under the input directory\n",
    "\n",
    "import os\n",
    "for dirname, _, filenames in os.walk('/kaggle/input'):\n",
    "    for filename in filenames:\n",
    "        print(os.path.join(dirname, filename))\n",
    "\n",
    "# You can write up to 20GB to the current directory (/kaggle/working/) that gets preserved as output when you create a version using \"Save & Run All\" \n",
    "# You can also write temporary files to /kaggle/temp/, but they won't be saved outside of the current session"
   ]
  },
  {
   "cell_type": "code",
   "execution_count": 2,
   "id": "9c24d58a",
   "metadata": {
    "execution": {
     "iopub.execute_input": "2022-09-15T22:40:16.408830Z",
     "iopub.status.busy": "2022-09-15T22:40:16.408102Z",
     "iopub.status.idle": "2022-09-15T22:40:19.277896Z",
     "shell.execute_reply": "2022-09-15T22:40:19.276373Z"
    },
    "papermill": {
     "duration": 2.883876,
     "end_time": "2022-09-15T22:40:19.280979",
     "exception": false,
     "start_time": "2022-09-15T22:40:16.397103",
     "status": "completed"
    },
    "tags": []
   },
   "outputs": [
    {
     "data": {
      "text/html": [
       "<div>\n",
       "<style scoped>\n",
       "    .dataframe tbody tr th:only-of-type {\n",
       "        vertical-align: middle;\n",
       "    }\n",
       "\n",
       "    .dataframe tbody tr th {\n",
       "        vertical-align: top;\n",
       "    }\n",
       "\n",
       "    .dataframe thead th {\n",
       "        text-align: right;\n",
       "    }\n",
       "</style>\n",
       "<table border=\"1\" class=\"dataframe\">\n",
       "  <thead>\n",
       "    <tr style=\"text-align: right;\">\n",
       "      <th></th>\n",
       "      <th>date</th>\n",
       "      <th>date_block_num</th>\n",
       "      <th>shop_id</th>\n",
       "      <th>item_id</th>\n",
       "      <th>item_price</th>\n",
       "      <th>item_cnt_day</th>\n",
       "    </tr>\n",
       "  </thead>\n",
       "  <tbody>\n",
       "    <tr>\n",
       "      <th>0</th>\n",
       "      <td>02.01.2013</td>\n",
       "      <td>0</td>\n",
       "      <td>59</td>\n",
       "      <td>22154</td>\n",
       "      <td>999.00</td>\n",
       "      <td>1.0</td>\n",
       "    </tr>\n",
       "    <tr>\n",
       "      <th>1</th>\n",
       "      <td>03.01.2013</td>\n",
       "      <td>0</td>\n",
       "      <td>25</td>\n",
       "      <td>2552</td>\n",
       "      <td>899.00</td>\n",
       "      <td>1.0</td>\n",
       "    </tr>\n",
       "    <tr>\n",
       "      <th>2</th>\n",
       "      <td>05.01.2013</td>\n",
       "      <td>0</td>\n",
       "      <td>25</td>\n",
       "      <td>2552</td>\n",
       "      <td>899.00</td>\n",
       "      <td>-1.0</td>\n",
       "    </tr>\n",
       "    <tr>\n",
       "      <th>3</th>\n",
       "      <td>06.01.2013</td>\n",
       "      <td>0</td>\n",
       "      <td>25</td>\n",
       "      <td>2554</td>\n",
       "      <td>1709.05</td>\n",
       "      <td>1.0</td>\n",
       "    </tr>\n",
       "    <tr>\n",
       "      <th>4</th>\n",
       "      <td>15.01.2013</td>\n",
       "      <td>0</td>\n",
       "      <td>25</td>\n",
       "      <td>2555</td>\n",
       "      <td>1099.00</td>\n",
       "      <td>1.0</td>\n",
       "    </tr>\n",
       "  </tbody>\n",
       "</table>\n",
       "</div>"
      ],
      "text/plain": [
       "         date  date_block_num  shop_id  item_id  item_price  item_cnt_day\n",
       "0  02.01.2013               0       59    22154      999.00           1.0\n",
       "1  03.01.2013               0       25     2552      899.00           1.0\n",
       "2  05.01.2013               0       25     2552      899.00          -1.0\n",
       "3  06.01.2013               0       25     2554     1709.05           1.0\n",
       "4  15.01.2013               0       25     2555     1099.00           1.0"
      ]
     },
     "execution_count": 2,
     "metadata": {},
     "output_type": "execute_result"
    }
   ],
   "source": [
    "train_data = pd.read_csv('../input/competitive-data-science-predict-future-sales/sales_train.csv')\n",
    "train_data.head()"
   ]
  },
  {
   "cell_type": "code",
   "execution_count": 3,
   "id": "4c9c7e1c",
   "metadata": {
    "execution": {
     "iopub.execute_input": "2022-09-15T22:40:19.302674Z",
     "iopub.status.busy": "2022-09-15T22:40:19.302247Z",
     "iopub.status.idle": "2022-09-15T22:40:19.704122Z",
     "shell.execute_reply": "2022-09-15T22:40:19.702936Z"
    },
    "papermill": {
     "duration": 0.41603,
     "end_time": "2022-09-15T22:40:19.707041",
     "exception": false,
     "start_time": "2022-09-15T22:40:19.291011",
     "status": "completed"
    },
    "tags": []
   },
   "outputs": [],
   "source": [
    "train_data = train_data[train_data.item_cnt_day > 0]\n",
    "train_data = train_data[train_data.item_price > 0]"
   ]
  },
  {
   "cell_type": "code",
   "execution_count": 4,
   "id": "15d566c6",
   "metadata": {
    "execution": {
     "iopub.execute_input": "2022-09-15T22:40:19.729878Z",
     "iopub.status.busy": "2022-09-15T22:40:19.729487Z",
     "iopub.status.idle": "2022-09-15T22:40:19.752361Z",
     "shell.execute_reply": "2022-09-15T22:40:19.750836Z"
    },
    "papermill": {
     "duration": 0.037411,
     "end_time": "2022-09-15T22:40:19.756888",
     "exception": false,
     "start_time": "2022-09-15T22:40:19.719477",
     "status": "completed"
    },
    "tags": []
   },
   "outputs": [
    {
     "name": "stdout",
     "output_type": "stream",
     "text": [
      "<class 'pandas.core.frame.DataFrame'>\n",
      "Int64Index: 2928492 entries, 0 to 2935848\n",
      "Data columns (total 6 columns):\n",
      " #   Column          Dtype  \n",
      "---  ------          -----  \n",
      " 0   date            object \n",
      " 1   date_block_num  int64  \n",
      " 2   shop_id         int64  \n",
      " 3   item_id         int64  \n",
      " 4   item_price      float64\n",
      " 5   item_cnt_day    float64\n",
      "dtypes: float64(2), int64(3), object(1)\n",
      "memory usage: 156.4+ MB\n"
     ]
    }
   ],
   "source": [
    "train_data.info()"
   ]
  },
  {
   "cell_type": "code",
   "execution_count": 5,
   "id": "548ee72f",
   "metadata": {
    "execution": {
     "iopub.execute_input": "2022-09-15T22:40:19.777202Z",
     "iopub.status.busy": "2022-09-15T22:40:19.776802Z",
     "iopub.status.idle": "2022-09-15T22:40:19.952799Z",
     "shell.execute_reply": "2022-09-15T22:40:19.951459Z"
    },
    "papermill": {
     "duration": 0.188826,
     "end_time": "2022-09-15T22:40:19.955111",
     "exception": false,
     "start_time": "2022-09-15T22:40:19.766285",
     "status": "completed"
    },
    "tags": []
   },
   "outputs": [
    {
     "data": {
      "text/plain": [
       "date              0\n",
       "date_block_num    0\n",
       "shop_id           0\n",
       "item_id           0\n",
       "item_price        0\n",
       "item_cnt_day      0\n",
       "dtype: int64"
      ]
     },
     "execution_count": 5,
     "metadata": {},
     "output_type": "execute_result"
    }
   ],
   "source": [
    "train_data.isnull().sum()"
   ]
  },
  {
   "cell_type": "code",
   "execution_count": 6,
   "id": "df61b610",
   "metadata": {
    "execution": {
     "iopub.execute_input": "2022-09-15T22:40:19.975263Z",
     "iopub.status.busy": "2022-09-15T22:40:19.974350Z",
     "iopub.status.idle": "2022-09-15T22:40:20.049146Z",
     "shell.execute_reply": "2022-09-15T22:40:20.048165Z"
    },
    "papermill": {
     "duration": 0.088141,
     "end_time": "2022-09-15T22:40:20.052345",
     "exception": false,
     "start_time": "2022-09-15T22:40:19.964204",
     "status": "completed"
    },
    "tags": []
   },
   "outputs": [
    {
     "data": {
      "text/html": [
       "<div>\n",
       "<style scoped>\n",
       "    .dataframe tbody tr th:only-of-type {\n",
       "        vertical-align: middle;\n",
       "    }\n",
       "\n",
       "    .dataframe tbody tr th {\n",
       "        vertical-align: top;\n",
       "    }\n",
       "\n",
       "    .dataframe thead th {\n",
       "        text-align: right;\n",
       "    }\n",
       "</style>\n",
       "<table border=\"1\" class=\"dataframe\">\n",
       "  <thead>\n",
       "    <tr style=\"text-align: right;\">\n",
       "      <th></th>\n",
       "      <th>item_name</th>\n",
       "      <th>item_id</th>\n",
       "      <th>item_category_id</th>\n",
       "    </tr>\n",
       "  </thead>\n",
       "  <tbody>\n",
       "    <tr>\n",
       "      <th>0</th>\n",
       "      <td>! ВО ВЛАСТИ НАВАЖДЕНИЯ (ПЛАСТ.)         D</td>\n",
       "      <td>0</td>\n",
       "      <td>40</td>\n",
       "    </tr>\n",
       "    <tr>\n",
       "      <th>1</th>\n",
       "      <td>!ABBYY FineReader 12 Professional Edition Full...</td>\n",
       "      <td>1</td>\n",
       "      <td>76</td>\n",
       "    </tr>\n",
       "    <tr>\n",
       "      <th>2</th>\n",
       "      <td>***В ЛУЧАХ СЛАВЫ   (UNV)                    D</td>\n",
       "      <td>2</td>\n",
       "      <td>40</td>\n",
       "    </tr>\n",
       "    <tr>\n",
       "      <th>3</th>\n",
       "      <td>***ГОЛУБАЯ ВОЛНА  (Univ)                      D</td>\n",
       "      <td>3</td>\n",
       "      <td>40</td>\n",
       "    </tr>\n",
       "    <tr>\n",
       "      <th>4</th>\n",
       "      <td>***КОРОБКА (СТЕКЛО)                       D</td>\n",
       "      <td>4</td>\n",
       "      <td>40</td>\n",
       "    </tr>\n",
       "  </tbody>\n",
       "</table>\n",
       "</div>"
      ],
      "text/plain": [
       "                                           item_name  item_id  \\\n",
       "0          ! ВО ВЛАСТИ НАВАЖДЕНИЯ (ПЛАСТ.)         D        0   \n",
       "1  !ABBYY FineReader 12 Professional Edition Full...        1   \n",
       "2      ***В ЛУЧАХ СЛАВЫ   (UNV)                    D        2   \n",
       "3    ***ГОЛУБАЯ ВОЛНА  (Univ)                      D        3   \n",
       "4        ***КОРОБКА (СТЕКЛО)                       D        4   \n",
       "\n",
       "   item_category_id  \n",
       "0                40  \n",
       "1                76  \n",
       "2                40  \n",
       "3                40  \n",
       "4                40  "
      ]
     },
     "execution_count": 6,
     "metadata": {},
     "output_type": "execute_result"
    }
   ],
   "source": [
    "items = pd.read_csv('../input/competitive-data-science-predict-future-sales/items.csv')\n",
    "items.head()"
   ]
  },
  {
   "cell_type": "code",
   "execution_count": 7,
   "id": "a255db5b",
   "metadata": {
    "execution": {
     "iopub.execute_input": "2022-09-15T22:40:20.073676Z",
     "iopub.status.busy": "2022-09-15T22:40:20.073030Z",
     "iopub.status.idle": "2022-09-15T22:40:20.089593Z",
     "shell.execute_reply": "2022-09-15T22:40:20.088002Z"
    },
    "papermill": {
     "duration": 0.030228,
     "end_time": "2022-09-15T22:40:20.092169",
     "exception": false,
     "start_time": "2022-09-15T22:40:20.061941",
     "status": "completed"
    },
    "tags": []
   },
   "outputs": [
    {
     "data": {
      "text/html": [
       "<div>\n",
       "<style scoped>\n",
       "    .dataframe tbody tr th:only-of-type {\n",
       "        vertical-align: middle;\n",
       "    }\n",
       "\n",
       "    .dataframe tbody tr th {\n",
       "        vertical-align: top;\n",
       "    }\n",
       "\n",
       "    .dataframe thead th {\n",
       "        text-align: right;\n",
       "    }\n",
       "</style>\n",
       "<table border=\"1\" class=\"dataframe\">\n",
       "  <thead>\n",
       "    <tr style=\"text-align: right;\">\n",
       "      <th></th>\n",
       "      <th>item_category_name</th>\n",
       "      <th>item_category_id</th>\n",
       "    </tr>\n",
       "  </thead>\n",
       "  <tbody>\n",
       "    <tr>\n",
       "      <th>0</th>\n",
       "      <td>PC - Гарнитуры/Наушники</td>\n",
       "      <td>0</td>\n",
       "    </tr>\n",
       "    <tr>\n",
       "      <th>1</th>\n",
       "      <td>Аксессуары - PS2</td>\n",
       "      <td>1</td>\n",
       "    </tr>\n",
       "    <tr>\n",
       "      <th>2</th>\n",
       "      <td>Аксессуары - PS3</td>\n",
       "      <td>2</td>\n",
       "    </tr>\n",
       "    <tr>\n",
       "      <th>3</th>\n",
       "      <td>Аксессуары - PS4</td>\n",
       "      <td>3</td>\n",
       "    </tr>\n",
       "    <tr>\n",
       "      <th>4</th>\n",
       "      <td>Аксессуары - PSP</td>\n",
       "      <td>4</td>\n",
       "    </tr>\n",
       "  </tbody>\n",
       "</table>\n",
       "</div>"
      ],
      "text/plain": [
       "        item_category_name  item_category_id\n",
       "0  PC - Гарнитуры/Наушники                 0\n",
       "1         Аксессуары - PS2                 1\n",
       "2         Аксессуары - PS3                 2\n",
       "3         Аксессуары - PS4                 3\n",
       "4         Аксессуары - PSP                 4"
      ]
     },
     "execution_count": 7,
     "metadata": {},
     "output_type": "execute_result"
    }
   ],
   "source": [
    "item_cats = pd.read_csv('../input/competitive-data-science-predict-future-sales/item_categories.csv')\n",
    "item_cats.head()"
   ]
  },
  {
   "cell_type": "code",
   "execution_count": 8,
   "id": "69261f0a",
   "metadata": {
    "execution": {
     "iopub.execute_input": "2022-09-15T22:40:20.115373Z",
     "iopub.status.busy": "2022-09-15T22:40:20.114582Z",
     "iopub.status.idle": "2022-09-15T22:40:20.132154Z",
     "shell.execute_reply": "2022-09-15T22:40:20.130718Z"
    },
    "papermill": {
     "duration": 0.031673,
     "end_time": "2022-09-15T22:40:20.135090",
     "exception": false,
     "start_time": "2022-09-15T22:40:20.103417",
     "status": "completed"
    },
    "tags": []
   },
   "outputs": [
    {
     "data": {
      "text/html": [
       "<div>\n",
       "<style scoped>\n",
       "    .dataframe tbody tr th:only-of-type {\n",
       "        vertical-align: middle;\n",
       "    }\n",
       "\n",
       "    .dataframe tbody tr th {\n",
       "        vertical-align: top;\n",
       "    }\n",
       "\n",
       "    .dataframe thead th {\n",
       "        text-align: right;\n",
       "    }\n",
       "</style>\n",
       "<table border=\"1\" class=\"dataframe\">\n",
       "  <thead>\n",
       "    <tr style=\"text-align: right;\">\n",
       "      <th></th>\n",
       "      <th>shop_name</th>\n",
       "      <th>shop_id</th>\n",
       "    </tr>\n",
       "  </thead>\n",
       "  <tbody>\n",
       "    <tr>\n",
       "      <th>0</th>\n",
       "      <td>!Якутск Орджоникидзе, 56 фран</td>\n",
       "      <td>0</td>\n",
       "    </tr>\n",
       "    <tr>\n",
       "      <th>1</th>\n",
       "      <td>!Якутск ТЦ \"Центральный\" фран</td>\n",
       "      <td>1</td>\n",
       "    </tr>\n",
       "    <tr>\n",
       "      <th>2</th>\n",
       "      <td>Адыгея ТЦ \"Мега\"</td>\n",
       "      <td>2</td>\n",
       "    </tr>\n",
       "    <tr>\n",
       "      <th>3</th>\n",
       "      <td>Балашиха ТРК \"Октябрь-Киномир\"</td>\n",
       "      <td>3</td>\n",
       "    </tr>\n",
       "    <tr>\n",
       "      <th>4</th>\n",
       "      <td>Волжский ТЦ \"Волга Молл\"</td>\n",
       "      <td>4</td>\n",
       "    </tr>\n",
       "  </tbody>\n",
       "</table>\n",
       "</div>"
      ],
      "text/plain": [
       "                        shop_name  shop_id\n",
       "0   !Якутск Орджоникидзе, 56 фран        0\n",
       "1   !Якутск ТЦ \"Центральный\" фран        1\n",
       "2                Адыгея ТЦ \"Мега\"        2\n",
       "3  Балашиха ТРК \"Октябрь-Киномир\"        3\n",
       "4        Волжский ТЦ \"Волга Молл\"        4"
      ]
     },
     "execution_count": 8,
     "metadata": {},
     "output_type": "execute_result"
    }
   ],
   "source": [
    "shops = pd.read_csv('../input/competitive-data-science-predict-future-sales/shops.csv')\n",
    "shops.head()"
   ]
  },
  {
   "cell_type": "code",
   "execution_count": 9,
   "id": "0a387dcb",
   "metadata": {
    "execution": {
     "iopub.execute_input": "2022-09-15T22:40:20.157164Z",
     "iopub.status.busy": "2022-09-15T22:40:20.156772Z",
     "iopub.status.idle": "2022-09-15T22:40:20.243815Z",
     "shell.execute_reply": "2022-09-15T22:40:20.242749Z"
    },
    "papermill": {
     "duration": 0.10107,
     "end_time": "2022-09-15T22:40:20.246126",
     "exception": false,
     "start_time": "2022-09-15T22:40:20.145056",
     "status": "completed"
    },
    "tags": []
   },
   "outputs": [
    {
     "data": {
      "text/html": [
       "<div>\n",
       "<style scoped>\n",
       "    .dataframe tbody tr th:only-of-type {\n",
       "        vertical-align: middle;\n",
       "    }\n",
       "\n",
       "    .dataframe tbody tr th {\n",
       "        vertical-align: top;\n",
       "    }\n",
       "\n",
       "    .dataframe thead th {\n",
       "        text-align: right;\n",
       "    }\n",
       "</style>\n",
       "<table border=\"1\" class=\"dataframe\">\n",
       "  <thead>\n",
       "    <tr style=\"text-align: right;\">\n",
       "      <th></th>\n",
       "      <th>ID</th>\n",
       "      <th>shop_id</th>\n",
       "      <th>item_id</th>\n",
       "    </tr>\n",
       "  </thead>\n",
       "  <tbody>\n",
       "    <tr>\n",
       "      <th>0</th>\n",
       "      <td>0</td>\n",
       "      <td>5</td>\n",
       "      <td>5037</td>\n",
       "    </tr>\n",
       "    <tr>\n",
       "      <th>1</th>\n",
       "      <td>1</td>\n",
       "      <td>5</td>\n",
       "      <td>5320</td>\n",
       "    </tr>\n",
       "    <tr>\n",
       "      <th>2</th>\n",
       "      <td>2</td>\n",
       "      <td>5</td>\n",
       "      <td>5233</td>\n",
       "    </tr>\n",
       "    <tr>\n",
       "      <th>3</th>\n",
       "      <td>3</td>\n",
       "      <td>5</td>\n",
       "      <td>5232</td>\n",
       "    </tr>\n",
       "    <tr>\n",
       "      <th>4</th>\n",
       "      <td>4</td>\n",
       "      <td>5</td>\n",
       "      <td>5268</td>\n",
       "    </tr>\n",
       "  </tbody>\n",
       "</table>\n",
       "</div>"
      ],
      "text/plain": [
       "   ID  shop_id  item_id\n",
       "0   0        5     5037\n",
       "1   1        5     5320\n",
       "2   2        5     5233\n",
       "3   3        5     5232\n",
       "4   4        5     5268"
      ]
     },
     "execution_count": 9,
     "metadata": {},
     "output_type": "execute_result"
    }
   ],
   "source": [
    "test_data = pd.read_csv('../input/competitive-data-science-predict-future-sales/test.csv')\n",
    "test_data.head()"
   ]
  },
  {
   "cell_type": "code",
   "execution_count": 10,
   "id": "378d6c3a",
   "metadata": {
    "execution": {
     "iopub.execute_input": "2022-09-15T22:40:20.269270Z",
     "iopub.status.busy": "2022-09-15T22:40:20.268819Z",
     "iopub.status.idle": "2022-09-15T22:40:20.700899Z",
     "shell.execute_reply": "2022-09-15T22:40:20.699606Z"
    },
    "papermill": {
     "duration": 0.446582,
     "end_time": "2022-09-15T22:40:20.703364",
     "exception": false,
     "start_time": "2022-09-15T22:40:20.256782",
     "status": "completed"
    },
    "tags": []
   },
   "outputs": [
    {
     "data": {
      "text/plain": [
       "0         2013-01-02\n",
       "1         2013-01-03\n",
       "3         2013-01-06\n",
       "4         2013-01-15\n",
       "5         2013-01-10\n",
       "             ...    \n",
       "2935844   2015-10-10\n",
       "2935845   2015-10-09\n",
       "2935846   2015-10-14\n",
       "2935847   2015-10-22\n",
       "2935848   2015-10-03\n",
       "Name: date, Length: 2928492, dtype: datetime64[ns]"
      ]
     },
     "execution_count": 10,
     "metadata": {},
     "output_type": "execute_result"
    }
   ],
   "source": [
    "train_data['date'] =  pd.to_datetime(train_data['date'],format = '%d.%m.%Y')\n",
    "train_data['date']"
   ]
  },
  {
   "cell_type": "code",
   "execution_count": 11,
   "id": "af6fb075",
   "metadata": {
    "execution": {
     "iopub.execute_input": "2022-09-15T22:40:20.726088Z",
     "iopub.status.busy": "2022-09-15T22:40:20.725710Z",
     "iopub.status.idle": "2022-09-15T22:40:22.132239Z",
     "shell.execute_reply": "2022-09-15T22:40:22.130843Z"
    },
    "papermill": {
     "duration": 1.421624,
     "end_time": "2022-09-15T22:40:22.135512",
     "exception": false,
     "start_time": "2022-09-15T22:40:20.713888",
     "status": "completed"
    },
    "tags": []
   },
   "outputs": [],
   "source": [
    "train_data = train_data.join(items.set_index('item_id'), on = 'item_id')\n",
    "train_data = train_data.join(item_cats.set_index('item_category_id'), on = 'item_category_id')\n",
    "train_data = train_data.join(shops.set_index('shop_id'), on = 'shop_id')"
   ]
  },
  {
   "cell_type": "code",
   "execution_count": 12,
   "id": "a2e28bb9",
   "metadata": {
    "execution": {
     "iopub.execute_input": "2022-09-15T22:40:22.157971Z",
     "iopub.status.busy": "2022-09-15T22:40:22.157585Z",
     "iopub.status.idle": "2022-09-15T22:40:33.318280Z",
     "shell.execute_reply": "2022-09-15T22:40:33.316762Z"
    },
    "papermill": {
     "duration": 11.175295,
     "end_time": "2022-09-15T22:40:33.321296",
     "exception": false,
     "start_time": "2022-09-15T22:40:22.146001",
     "status": "completed"
    },
    "tags": []
   },
   "outputs": [
    {
     "data": {
      "text/plain": [
       "<AxesSubplot:xlabel='item_price', ylabel='item_cnt_day'>"
      ]
     },
     "execution_count": 12,
     "metadata": {},
     "output_type": "execute_result"
    },
    {
     "data": {
      "image/png": "[encoded data removed]",
      "text/plain": [
       "<Figure size 432x288 with 1 Axes>"
      ]
     },
     "metadata": {
      "needs_background": "light"
     },
     "output_type": "display_data"
    }
   ],
   "source": [
    "import seaborn as sns\n",
    "sns.scatterplot(data = train_data, x = 'item_price', y = 'item_cnt_day')"
   ]
  },
  {
   "cell_type": "markdown",
   "id": "16c23e7e",
   "metadata": {
    "papermill": {
     "duration": 0.01053,
     "end_time": "2022-09-15T22:40:33.342806",
     "exception": false,
     "start_time": "2022-09-15T22:40:33.332276",
     "status": "completed"
    },
    "tags": []
   },
   "source": [
    "**There are outliers here!**"
   ]
  },
  {
   "cell_type": "code",
   "execution_count": 13,
   "id": "b3cc3fbf",
   "metadata": {
    "execution": {
     "iopub.execute_input": "2022-09-15T22:40:33.367290Z",
     "iopub.status.busy": "2022-09-15T22:40:33.366648Z",
     "iopub.status.idle": "2022-09-15T22:40:33.845797Z",
     "shell.execute_reply": "2022-09-15T22:40:33.844330Z"
    },
    "papermill": {
     "duration": 0.494824,
     "end_time": "2022-09-15T22:40:33.848684",
     "exception": false,
     "start_time": "2022-09-15T22:40:33.353860",
     "status": "completed"
    },
    "tags": []
   },
   "outputs": [
    {
     "data": {
      "text/html": [
       "<div>\n",
       "<style scoped>\n",
       "    .dataframe tbody tr th:only-of-type {\n",
       "        vertical-align: middle;\n",
       "    }\n",
       "\n",
       "    .dataframe tbody tr th {\n",
       "        vertical-align: top;\n",
       "    }\n",
       "\n",
       "    .dataframe thead th {\n",
       "        text-align: right;\n",
       "    }\n",
       "</style>\n",
       "<table border=\"1\" class=\"dataframe\">\n",
       "  <thead>\n",
       "    <tr style=\"text-align: right;\">\n",
       "      <th></th>\n",
       "      <th>date</th>\n",
       "      <th>date_block_num</th>\n",
       "      <th>shop_id</th>\n",
       "      <th>item_id</th>\n",
       "      <th>item_price</th>\n",
       "      <th>item_cnt_day</th>\n",
       "      <th>item_name</th>\n",
       "      <th>item_category_id</th>\n",
       "      <th>item_category_name</th>\n",
       "      <th>shop_name</th>\n",
       "    </tr>\n",
       "  </thead>\n",
       "  <tbody>\n",
       "    <tr>\n",
       "      <th>1163158</th>\n",
       "      <td>2013-12-13</td>\n",
       "      <td>11</td>\n",
       "      <td>12</td>\n",
       "      <td>6066</td>\n",
       "      <td>307980.0</td>\n",
       "      <td>1.0</td>\n",
       "      <td>Radmin 3  - 522 лиц.</td>\n",
       "      <td>75</td>\n",
       "      <td>Программы - Для дома и офиса</td>\n",
       "      <td>Интернет-магазин ЧС</td>\n",
       "    </tr>\n",
       "  </tbody>\n",
       "</table>\n",
       "</div>"
      ],
      "text/plain": [
       "              date  date_block_num  shop_id  item_id  item_price  \\\n",
       "1163158 2013-12-13              11       12     6066    307980.0   \n",
       "\n",
       "         item_cnt_day             item_name  item_category_id  \\\n",
       "1163158           1.0  Radmin 3  - 522 лиц.                75   \n",
       "\n",
       "                   item_category_name            shop_name  \n",
       "1163158  Программы - Для дома и офиса  Интернет-магазин ЧС  "
      ]
     },
     "execution_count": 13,
     "metadata": {},
     "output_type": "execute_result"
    }
   ],
   "source": [
    "train_data.loc[train_data.item_price > 300000]"
   ]
  },
  {
   "cell_type": "code",
   "execution_count": 14,
   "id": "ac72af7f",
   "metadata": {
    "execution": {
     "iopub.execute_input": "2022-09-15T22:40:33.873226Z",
     "iopub.status.busy": "2022-09-15T22:40:33.872537Z",
     "iopub.status.idle": "2022-09-15T22:40:33.893240Z",
     "shell.execute_reply": "2022-09-15T22:40:33.891864Z"
    },
    "papermill": {
     "duration": 0.035711,
     "end_time": "2022-09-15T22:40:33.895576",
     "exception": false,
     "start_time": "2022-09-15T22:40:33.859865",
     "status": "completed"
    },
    "tags": []
   },
   "outputs": [
    {
     "data": {
      "text/html": [
       "<div>\n",
       "<style scoped>\n",
       "    .dataframe tbody tr th:only-of-type {\n",
       "        vertical-align: middle;\n",
       "    }\n",
       "\n",
       "    .dataframe tbody tr th {\n",
       "        vertical-align: top;\n",
       "    }\n",
       "\n",
       "    .dataframe thead th {\n",
       "        text-align: right;\n",
       "    }\n",
       "</style>\n",
       "<table border=\"1\" class=\"dataframe\">\n",
       "  <thead>\n",
       "    <tr style=\"text-align: right;\">\n",
       "      <th></th>\n",
       "      <th>date</th>\n",
       "      <th>date_block_num</th>\n",
       "      <th>shop_id</th>\n",
       "      <th>item_id</th>\n",
       "      <th>item_price</th>\n",
       "      <th>item_cnt_day</th>\n",
       "      <th>item_name</th>\n",
       "      <th>item_category_id</th>\n",
       "      <th>item_category_name</th>\n",
       "      <th>shop_name</th>\n",
       "    </tr>\n",
       "  </thead>\n",
       "  <tbody>\n",
       "    <tr>\n",
       "      <th>2326930</th>\n",
       "      <td>2015-01-15</td>\n",
       "      <td>24</td>\n",
       "      <td>12</td>\n",
       "      <td>20949</td>\n",
       "      <td>4.000000</td>\n",
       "      <td>1000.0</td>\n",
       "      <td>Фирменный пакет майка 1С Интерес белый (34*42)...</td>\n",
       "      <td>71</td>\n",
       "      <td>Подарки - Сумки, Альбомы, Коврики д/мыши</td>\n",
       "      <td>Интернет-магазин ЧС</td>\n",
       "    </tr>\n",
       "    <tr>\n",
       "      <th>2909818</th>\n",
       "      <td>2015-10-28</td>\n",
       "      <td>33</td>\n",
       "      <td>12</td>\n",
       "      <td>11373</td>\n",
       "      <td>0.908714</td>\n",
       "      <td>2169.0</td>\n",
       "      <td>Доставка до пункта выдачи (Boxberry)</td>\n",
       "      <td>9</td>\n",
       "      <td>Доставка товара</td>\n",
       "      <td>Интернет-магазин ЧС</td>\n",
       "    </tr>\n",
       "  </tbody>\n",
       "</table>\n",
       "</div>"
      ],
      "text/plain": [
       "              date  date_block_num  shop_id  item_id  item_price  \\\n",
       "2326930 2015-01-15              24       12    20949    4.000000   \n",
       "2909818 2015-10-28              33       12    11373    0.908714   \n",
       "\n",
       "         item_cnt_day                                          item_name  \\\n",
       "2326930        1000.0  Фирменный пакет майка 1С Интерес белый (34*42)...   \n",
       "2909818        2169.0               Доставка до пункта выдачи (Boxberry)   \n",
       "\n",
       "         item_category_id                        item_category_name  \\\n",
       "2326930                71  Подарки - Сумки, Альбомы, Коврики д/мыши   \n",
       "2909818                 9                           Доставка товара   \n",
       "\n",
       "                   shop_name  \n",
       "2326930  Интернет-магазин ЧС  \n",
       "2909818  Интернет-магазин ЧС  "
      ]
     },
     "execution_count": 14,
     "metadata": {},
     "output_type": "execute_result"
    }
   ],
   "source": [
    "train_data.loc[train_data.item_cnt_day > 900]"
   ]
  },
  {
   "cell_type": "code",
   "execution_count": 15,
   "id": "86f8a7d4",
   "metadata": {
    "execution": {
     "iopub.execute_input": "2022-09-15T22:40:33.919481Z",
     "iopub.status.busy": "2022-09-15T22:40:33.918801Z",
     "iopub.status.idle": "2022-09-15T22:40:34.515848Z",
     "shell.execute_reply": "2022-09-15T22:40:34.514384Z"
    },
    "papermill": {
     "duration": 0.612313,
     "end_time": "2022-09-15T22:40:34.518829",
     "exception": false,
     "start_time": "2022-09-15T22:40:33.906516",
     "status": "completed"
    },
    "tags": []
   },
   "outputs": [],
   "source": [
    "train_data = train_data.drop(labels = [2326930, 2909818, 1163158], axis = 0)"
   ]
  },
  {
   "cell_type": "code",
   "execution_count": 16,
   "id": "2ac29ed0",
   "metadata": {
    "execution": {
     "iopub.execute_input": "2022-09-15T22:40:34.542406Z",
     "iopub.status.busy": "2022-09-15T22:40:34.541966Z",
     "iopub.status.idle": "2022-09-15T22:41:10.532480Z",
     "shell.execute_reply": "2022-09-15T22:41:10.530605Z"
    },
    "papermill": {
     "duration": 36.006206,
     "end_time": "2022-09-15T22:41:10.536141",
     "exception": false,
     "start_time": "2022-09-15T22:40:34.529935",
     "status": "completed"
    },
    "tags": []
   },
   "outputs": [
    {
     "data": {
      "text/plain": [
       "<AxesSubplot:xlabel='date_block_num', ylabel='item_cnt_day'>"
      ]
     },
     "execution_count": 16,
     "metadata": {},
     "output_type": "execute_result"
    },
    {
     "data": {
      "image/png": "[encoded data removed]",
      "text/plain": [
       "<Figure size 1440x720 with 1 Axes>"
      ]
     },
     "metadata": {
      "needs_background": "light"
     },
     "output_type": "display_data"
    }
   ],
   "source": [
    "import matplotlib.pyplot as plt\n",
    "plt.figure(figsize = (20,10))\n",
    "sns.barplot(data = train_data, x = 'date_block_num', y = 'item_cnt_day')"
   ]
  },
  {
   "cell_type": "code",
   "execution_count": 17,
   "id": "68ca304c",
   "metadata": {
    "execution": {
     "iopub.execute_input": "2022-09-15T22:41:10.562804Z",
     "iopub.status.busy": "2022-09-15T22:41:10.562396Z",
     "iopub.status.idle": "2022-09-15T22:41:12.295383Z",
     "shell.execute_reply": "2022-09-15T22:41:12.293793Z"
    },
    "papermill": {
     "duration": 1.749536,
     "end_time": "2022-09-15T22:41:12.298327",
     "exception": false,
     "start_time": "2022-09-15T22:41:10.548791",
     "status": "completed"
    },
    "tags": []
   },
   "outputs": [
    {
     "data": {
      "text/html": [
       "<div>\n",
       "<style scoped>\n",
       "    .dataframe tbody tr th:only-of-type {\n",
       "        vertical-align: middle;\n",
       "    }\n",
       "\n",
       "    .dataframe tbody tr th {\n",
       "        vertical-align: top;\n",
       "    }\n",
       "\n",
       "    .dataframe thead th {\n",
       "        text-align: right;\n",
       "    }\n",
       "</style>\n",
       "<table border=\"1\" class=\"dataframe\">\n",
       "  <thead>\n",
       "    <tr style=\"text-align: right;\">\n",
       "      <th></th>\n",
       "      <th>date_block_num</th>\n",
       "      <th>shop_id</th>\n",
       "      <th>item_id</th>\n",
       "      <th>item_price</th>\n",
       "      <th>item_cnt_day</th>\n",
       "      <th>item_category_id</th>\n",
       "      <th>item_category_name</th>\n",
       "      <th>shop_name</th>\n",
       "    </tr>\n",
       "  </thead>\n",
       "  <tbody>\n",
       "    <tr>\n",
       "      <th>0</th>\n",
       "      <td>0</td>\n",
       "      <td>59</td>\n",
       "      <td>22154</td>\n",
       "      <td>999.00</td>\n",
       "      <td>1.0</td>\n",
       "      <td>37</td>\n",
       "      <td>37</td>\n",
       "      <td>59</td>\n",
       "    </tr>\n",
       "    <tr>\n",
       "      <th>1</th>\n",
       "      <td>0</td>\n",
       "      <td>25</td>\n",
       "      <td>2552</td>\n",
       "      <td>899.00</td>\n",
       "      <td>1.0</td>\n",
       "      <td>58</td>\n",
       "      <td>58</td>\n",
       "      <td>25</td>\n",
       "    </tr>\n",
       "    <tr>\n",
       "      <th>3</th>\n",
       "      <td>0</td>\n",
       "      <td>25</td>\n",
       "      <td>2554</td>\n",
       "      <td>1709.05</td>\n",
       "      <td>1.0</td>\n",
       "      <td>58</td>\n",
       "      <td>58</td>\n",
       "      <td>25</td>\n",
       "    </tr>\n",
       "    <tr>\n",
       "      <th>4</th>\n",
       "      <td>0</td>\n",
       "      <td>25</td>\n",
       "      <td>2555</td>\n",
       "      <td>1099.00</td>\n",
       "      <td>1.0</td>\n",
       "      <td>56</td>\n",
       "      <td>56</td>\n",
       "      <td>25</td>\n",
       "    </tr>\n",
       "    <tr>\n",
       "      <th>5</th>\n",
       "      <td>0</td>\n",
       "      <td>25</td>\n",
       "      <td>2564</td>\n",
       "      <td>349.00</td>\n",
       "      <td>1.0</td>\n",
       "      <td>59</td>\n",
       "      <td>59</td>\n",
       "      <td>25</td>\n",
       "    </tr>\n",
       "    <tr>\n",
       "      <th>...</th>\n",
       "      <td>...</td>\n",
       "      <td>...</td>\n",
       "      <td>...</td>\n",
       "      <td>...</td>\n",
       "      <td>...</td>\n",
       "      <td>...</td>\n",
       "      <td>...</td>\n",
       "      <td>...</td>\n",
       "    </tr>\n",
       "    <tr>\n",
       "      <th>2935844</th>\n",
       "      <td>33</td>\n",
       "      <td>25</td>\n",
       "      <td>7409</td>\n",
       "      <td>299.00</td>\n",
       "      <td>1.0</td>\n",
       "      <td>55</td>\n",
       "      <td>55</td>\n",
       "      <td>25</td>\n",
       "    </tr>\n",
       "    <tr>\n",
       "      <th>2935845</th>\n",
       "      <td>33</td>\n",
       "      <td>25</td>\n",
       "      <td>7460</td>\n",
       "      <td>299.00</td>\n",
       "      <td>1.0</td>\n",
       "      <td>55</td>\n",
       "      <td>55</td>\n",
       "      <td>25</td>\n",
       "    </tr>\n",
       "    <tr>\n",
       "      <th>2935846</th>\n",
       "      <td>33</td>\n",
       "      <td>25</td>\n",
       "      <td>7459</td>\n",
       "      <td>349.00</td>\n",
       "      <td>1.0</td>\n",
       "      <td>55</td>\n",
       "      <td>55</td>\n",
       "      <td>25</td>\n",
       "    </tr>\n",
       "    <tr>\n",
       "      <th>2935847</th>\n",
       "      <td>33</td>\n",
       "      <td>25</td>\n",
       "      <td>7440</td>\n",
       "      <td>299.00</td>\n",
       "      <td>1.0</td>\n",
       "      <td>57</td>\n",
       "      <td>57</td>\n",
       "      <td>25</td>\n",
       "    </tr>\n",
       "    <tr>\n",
       "      <th>2935848</th>\n",
       "      <td>33</td>\n",
       "      <td>25</td>\n",
       "      <td>7460</td>\n",
       "      <td>299.00</td>\n",
       "      <td>1.0</td>\n",
       "      <td>55</td>\n",
       "      <td>55</td>\n",
       "      <td>25</td>\n",
       "    </tr>\n",
       "  </tbody>\n",
       "</table>\n",
       "<p>2928489 rows × 8 columns</p>\n",
       "</div>"
      ],
      "text/plain": [
       "         date_block_num  shop_id  item_id  item_price  item_cnt_day  \\\n",
       "0                     0       59    22154      999.00           1.0   \n",
       "1                     0       25     2552      899.00           1.0   \n",
       "3                     0       25     2554     1709.05           1.0   \n",
       "4                     0       25     2555     1099.00           1.0   \n",
       "5                     0       25     2564      349.00           1.0   \n",
       "...                 ...      ...      ...         ...           ...   \n",
       "2935844              33       25     7409      299.00           1.0   \n",
       "2935845              33       25     7460      299.00           1.0   \n",
       "2935846              33       25     7459      349.00           1.0   \n",
       "2935847              33       25     7440      299.00           1.0   \n",
       "2935848              33       25     7460      299.00           1.0   \n",
       "\n",
       "         item_category_id  item_category_name  shop_name  \n",
       "0                      37                  37         59  \n",
       "1                      58                  58         25  \n",
       "3                      58                  58         25  \n",
       "4                      56                  56         25  \n",
       "5                      59                  59         25  \n",
       "...                   ...                 ...        ...  \n",
       "2935844                55                  55         25  \n",
       "2935845                55                  55         25  \n",
       "2935846                55                  55         25  \n",
       "2935847                57                  57         25  \n",
       "2935848                55                  55         25  \n",
       "\n",
       "[2928489 rows x 8 columns]"
      ]
     },
     "execution_count": 17,
     "metadata": {},
     "output_type": "execute_result"
    }
   ],
   "source": [
    "from sklearn.preprocessing import LabelEncoder\n",
    "\n",
    "lbl_encoder = LabelEncoder()\n",
    "train_data['item_category_name'] = lbl_encoder.fit_transform(train_data['item_category_name'])\n",
    "train_data['shop_name'] = lbl_encoder.fit_transform(train_data['shop_name'])\n",
    "\n",
    "train_data = train_data.drop(['date', 'item_name'], axis = 1)\n",
    "train_data\n"
   ]
  },
  {
   "cell_type": "code",
   "execution_count": 18,
   "id": "c9c6c578",
   "metadata": {
    "execution": {
     "iopub.execute_input": "2022-09-15T22:41:12.324037Z",
     "iopub.status.busy": "2022-09-15T22:41:12.323168Z",
     "iopub.status.idle": "2022-09-15T22:41:13.192268Z",
     "shell.execute_reply": "2022-09-15T22:41:13.190876Z"
    },
    "papermill": {
     "duration": 0.884865,
     "end_time": "2022-09-15T22:41:13.194982",
     "exception": false,
     "start_time": "2022-09-15T22:41:12.310117",
     "status": "completed"
    },
    "tags": []
   },
   "outputs": [
    {
     "data": {
      "text/html": [
       "<div>\n",
       "<style scoped>\n",
       "    .dataframe tbody tr th:only-of-type {\n",
       "        vertical-align: middle;\n",
       "    }\n",
       "\n",
       "    .dataframe tbody tr th {\n",
       "        vertical-align: top;\n",
       "    }\n",
       "\n",
       "    .dataframe thead th {\n",
       "        text-align: right;\n",
       "    }\n",
       "</style>\n",
       "<table border=\"1\" class=\"dataframe\">\n",
       "  <thead>\n",
       "    <tr style=\"text-align: right;\">\n",
       "      <th></th>\n",
       "      <th>date_block_num</th>\n",
       "      <th>shop_id</th>\n",
       "      <th>item_id</th>\n",
       "      <th>item_cnt_day</th>\n",
       "    </tr>\n",
       "  </thead>\n",
       "  <tbody>\n",
       "    <tr>\n",
       "      <th>1608219</th>\n",
       "      <td>33</td>\n",
       "      <td>59</td>\n",
       "      <td>22087</td>\n",
       "      <td>6.0</td>\n",
       "    </tr>\n",
       "    <tr>\n",
       "      <th>1608220</th>\n",
       "      <td>33</td>\n",
       "      <td>59</td>\n",
       "      <td>22088</td>\n",
       "      <td>2.0</td>\n",
       "    </tr>\n",
       "    <tr>\n",
       "      <th>1608221</th>\n",
       "      <td>33</td>\n",
       "      <td>59</td>\n",
       "      <td>22091</td>\n",
       "      <td>1.0</td>\n",
       "    </tr>\n",
       "    <tr>\n",
       "      <th>1608222</th>\n",
       "      <td>33</td>\n",
       "      <td>59</td>\n",
       "      <td>22100</td>\n",
       "      <td>1.0</td>\n",
       "    </tr>\n",
       "    <tr>\n",
       "      <th>1608223</th>\n",
       "      <td>33</td>\n",
       "      <td>59</td>\n",
       "      <td>22102</td>\n",
       "      <td>1.0</td>\n",
       "    </tr>\n",
       "  </tbody>\n",
       "</table>\n",
       "</div>"
      ],
      "text/plain": [
       "         date_block_num  shop_id  item_id  item_cnt_day\n",
       "1608219              33       59    22087           6.0\n",
       "1608220              33       59    22088           2.0\n",
       "1608221              33       59    22091           1.0\n",
       "1608222              33       59    22100           1.0\n",
       "1608223              33       59    22102           1.0"
      ]
     },
     "execution_count": 18,
     "metadata": {},
     "output_type": "execute_result"
    }
   ],
   "source": [
    "monthly_train_data = train_data.groupby(by = ['date_block_num', 'shop_id', 'item_id'], as_index=False).item_cnt_day.sum()\n",
    "monthly_train_data.tail()"
   ]
  },
  {
   "cell_type": "code",
   "execution_count": 19,
   "id": "fe651a31",
   "metadata": {
    "execution": {
     "iopub.execute_input": "2022-09-15T22:41:13.219944Z",
     "iopub.status.busy": "2022-09-15T22:41:13.219554Z",
     "iopub.status.idle": "2022-09-15T22:41:13.232253Z",
     "shell.execute_reply": "2022-09-15T22:41:13.231330Z"
    },
    "papermill": {
     "duration": 0.028164,
     "end_time": "2022-09-15T22:41:13.234978",
     "exception": false,
     "start_time": "2022-09-15T22:41:13.206814",
     "status": "completed"
    },
    "tags": []
   },
   "outputs": [],
   "source": [
    "monthly_train_data = monthly_train_data.rename(columns={\"item_cnt_day\": \"item_cnt_month\"})"
   ]
  },
  {
   "cell_type": "code",
   "execution_count": 20,
   "id": "d0ab8d33",
   "metadata": {
    "execution": {
     "iopub.execute_input": "2022-09-15T22:41:13.261013Z",
     "iopub.status.busy": "2022-09-15T22:41:13.260080Z",
     "iopub.status.idle": "2022-09-15T22:41:13.904653Z",
     "shell.execute_reply": "2022-09-15T22:41:13.903750Z"
    },
    "papermill": {
     "duration": 0.659855,
     "end_time": "2022-09-15T22:41:13.906791",
     "exception": false,
     "start_time": "2022-09-15T22:41:13.246936",
     "status": "completed"
    },
    "tags": []
   },
   "outputs": [
    {
     "data": {
      "text/html": [
       "<div>\n",
       "<style scoped>\n",
       "    .dataframe tbody tr th:only-of-type {\n",
       "        vertical-align: middle;\n",
       "    }\n",
       "\n",
       "    .dataframe tbody tr th {\n",
       "        vertical-align: top;\n",
       "    }\n",
       "\n",
       "    .dataframe thead th {\n",
       "        text-align: right;\n",
       "    }\n",
       "</style>\n",
       "<table border=\"1\" class=\"dataframe\">\n",
       "  <thead>\n",
       "    <tr style=\"text-align: right;\">\n",
       "      <th></th>\n",
       "      <th>date_block_num</th>\n",
       "      <th>shop_id</th>\n",
       "      <th>item_id</th>\n",
       "      <th>item_cnt_month</th>\n",
       "      <th>item_name</th>\n",
       "      <th>item_category_id</th>\n",
       "      <th>item_category_name</th>\n",
       "      <th>shop_name</th>\n",
       "    </tr>\n",
       "  </thead>\n",
       "  <tbody>\n",
       "    <tr>\n",
       "      <th>0</th>\n",
       "      <td>0</td>\n",
       "      <td>0</td>\n",
       "      <td>32</td>\n",
       "      <td>6.0</td>\n",
       "      <td>1+1</td>\n",
       "      <td>40</td>\n",
       "      <td>Кино - DVD</td>\n",
       "      <td>!Якутск Орджоникидзе, 56 фран</td>\n",
       "    </tr>\n",
       "    <tr>\n",
       "      <th>1</th>\n",
       "      <td>0</td>\n",
       "      <td>0</td>\n",
       "      <td>33</td>\n",
       "      <td>3.0</td>\n",
       "      <td>1+1 (BD)</td>\n",
       "      <td>37</td>\n",
       "      <td>Кино - Blu-Ray</td>\n",
       "      <td>!Якутск Орджоникидзе, 56 фран</td>\n",
       "    </tr>\n",
       "    <tr>\n",
       "      <th>2</th>\n",
       "      <td>0</td>\n",
       "      <td>0</td>\n",
       "      <td>35</td>\n",
       "      <td>1.0</td>\n",
       "      <td>10 ЛЕТ СПУСТЯ</td>\n",
       "      <td>40</td>\n",
       "      <td>Кино - DVD</td>\n",
       "      <td>!Якутск Орджоникидзе, 56 фран</td>\n",
       "    </tr>\n",
       "    <tr>\n",
       "      <th>3</th>\n",
       "      <td>0</td>\n",
       "      <td>0</td>\n",
       "      <td>43</td>\n",
       "      <td>1.0</td>\n",
       "      <td>100 МИЛЛИОНОВ ЕВРО</td>\n",
       "      <td>40</td>\n",
       "      <td>Кино - DVD</td>\n",
       "      <td>!Якутск Орджоникидзе, 56 фран</td>\n",
       "    </tr>\n",
       "    <tr>\n",
       "      <th>4</th>\n",
       "      <td>0</td>\n",
       "      <td>0</td>\n",
       "      <td>51</td>\n",
       "      <td>2.0</td>\n",
       "      <td>100 лучших произведений классики (mp3-CD) (Dig...</td>\n",
       "      <td>57</td>\n",
       "      <td>Музыка - MP3</td>\n",
       "      <td>!Якутск Орджоникидзе, 56 фран</td>\n",
       "    </tr>\n",
       "  </tbody>\n",
       "</table>\n",
       "</div>"
      ],
      "text/plain": [
       "   date_block_num  shop_id  item_id  item_cnt_month  \\\n",
       "0               0        0       32             6.0   \n",
       "1               0        0       33             3.0   \n",
       "2               0        0       35             1.0   \n",
       "3               0        0       43             1.0   \n",
       "4               0        0       51             2.0   \n",
       "\n",
       "                                           item_name  item_category_id  \\\n",
       "0                                                1+1                40   \n",
       "1                                           1+1 (BD)                37   \n",
       "2                                      10 ЛЕТ СПУСТЯ                40   \n",
       "3                                 100 МИЛЛИОНОВ ЕВРО                40   \n",
       "4  100 лучших произведений классики (mp3-CD) (Dig...                57   \n",
       "\n",
       "  item_category_name                      shop_name  \n",
       "0         Кино - DVD  !Якутск Орджоникидзе, 56 фран  \n",
       "1     Кино - Blu-Ray  !Якутск Орджоникидзе, 56 фран  \n",
       "2         Кино - DVD  !Якутск Орджоникидзе, 56 фран  \n",
       "3         Кино - DVD  !Якутск Орджоникидзе, 56 фран  \n",
       "4       Музыка - MP3  !Якутск Орджоникидзе, 56 фран  "
      ]
     },
     "execution_count": 20,
     "metadata": {},
     "output_type": "execute_result"
    }
   ],
   "source": [
    "monthly_train_data = monthly_train_data.join(items.set_index('item_id'), on = 'item_id')\n",
    "monthly_train_data = monthly_train_data.join(item_cats.set_index('item_category_id'), on ='item_category_id')\n",
    "monthly_train_data = monthly_train_data.join(shops.set_index('shop_id'), on = 'shop_id')\n",
    "monthly_train_data.head()\n",
    "                                             "
   ]
  },
  {
   "cell_type": "code",
   "execution_count": 21,
   "id": "f82072d3",
   "metadata": {
    "execution": {
     "iopub.execute_input": "2022-09-15T22:41:13.933199Z",
     "iopub.status.busy": "2022-09-15T22:41:13.932341Z",
     "iopub.status.idle": "2022-09-15T22:41:13.943644Z",
     "shell.execute_reply": "2022-09-15T22:41:13.942696Z"
    },
    "papermill": {
     "duration": 0.0272,
     "end_time": "2022-09-15T22:41:13.945857",
     "exception": false,
     "start_time": "2022-09-15T22:41:13.918657",
     "status": "completed"
    },
    "tags": []
   },
   "outputs": [
    {
     "data": {
      "text/html": [
       "<div>\n",
       "<style scoped>\n",
       "    .dataframe tbody tr th:only-of-type {\n",
       "        vertical-align: middle;\n",
       "    }\n",
       "\n",
       "    .dataframe tbody tr th {\n",
       "        vertical-align: top;\n",
       "    }\n",
       "\n",
       "    .dataframe thead th {\n",
       "        text-align: right;\n",
       "    }\n",
       "</style>\n",
       "<table border=\"1\" class=\"dataframe\">\n",
       "  <thead>\n",
       "    <tr style=\"text-align: right;\">\n",
       "      <th></th>\n",
       "      <th>ID</th>\n",
       "      <th>shop_id</th>\n",
       "      <th>item_id</th>\n",
       "    </tr>\n",
       "  </thead>\n",
       "  <tbody>\n",
       "    <tr>\n",
       "      <th>0</th>\n",
       "      <td>0</td>\n",
       "      <td>5</td>\n",
       "      <td>5037</td>\n",
       "    </tr>\n",
       "    <tr>\n",
       "      <th>1</th>\n",
       "      <td>1</td>\n",
       "      <td>5</td>\n",
       "      <td>5320</td>\n",
       "    </tr>\n",
       "    <tr>\n",
       "      <th>2</th>\n",
       "      <td>2</td>\n",
       "      <td>5</td>\n",
       "      <td>5233</td>\n",
       "    </tr>\n",
       "    <tr>\n",
       "      <th>3</th>\n",
       "      <td>3</td>\n",
       "      <td>5</td>\n",
       "      <td>5232</td>\n",
       "    </tr>\n",
       "    <tr>\n",
       "      <th>4</th>\n",
       "      <td>4</td>\n",
       "      <td>5</td>\n",
       "      <td>5268</td>\n",
       "    </tr>\n",
       "  </tbody>\n",
       "</table>\n",
       "</div>"
      ],
      "text/plain": [
       "   ID  shop_id  item_id\n",
       "0   0        5     5037\n",
       "1   1        5     5320\n",
       "2   2        5     5233\n",
       "3   3        5     5232\n",
       "4   4        5     5268"
      ]
     },
     "execution_count": 21,
     "metadata": {},
     "output_type": "execute_result"
    }
   ],
   "source": [
    "test_data.head()"
   ]
  },
  {
   "cell_type": "code",
   "execution_count": 22,
   "id": "8ecfd020",
   "metadata": {
    "execution": {
     "iopub.execute_input": "2022-09-15T22:41:13.972622Z",
     "iopub.status.busy": "2022-09-15T22:41:13.971883Z",
     "iopub.status.idle": "2022-09-15T22:41:13.984486Z",
     "shell.execute_reply": "2022-09-15T22:41:13.983112Z"
    },
    "papermill": {
     "duration": 0.029163,
     "end_time": "2022-09-15T22:41:13.987243",
     "exception": false,
     "start_time": "2022-09-15T22:41:13.958080",
     "status": "completed"
    },
    "tags": []
   },
   "outputs": [
    {
     "data": {
      "text/html": [
       "<div>\n",
       "<style scoped>\n",
       "    .dataframe tbody tr th:only-of-type {\n",
       "        vertical-align: middle;\n",
       "    }\n",
       "\n",
       "    .dataframe tbody tr th {\n",
       "        vertical-align: top;\n",
       "    }\n",
       "\n",
       "    .dataframe thead th {\n",
       "        text-align: right;\n",
       "    }\n",
       "</style>\n",
       "<table border=\"1\" class=\"dataframe\">\n",
       "  <thead>\n",
       "    <tr style=\"text-align: right;\">\n",
       "      <th></th>\n",
       "      <th>ID</th>\n",
       "      <th>shop_id</th>\n",
       "      <th>item_id</th>\n",
       "      <th>date_block_num</th>\n",
       "    </tr>\n",
       "  </thead>\n",
       "  <tbody>\n",
       "    <tr>\n",
       "      <th>0</th>\n",
       "      <td>0</td>\n",
       "      <td>5</td>\n",
       "      <td>5037</td>\n",
       "      <td>34</td>\n",
       "    </tr>\n",
       "    <tr>\n",
       "      <th>1</th>\n",
       "      <td>1</td>\n",
       "      <td>5</td>\n",
       "      <td>5320</td>\n",
       "      <td>34</td>\n",
       "    </tr>\n",
       "    <tr>\n",
       "      <th>2</th>\n",
       "      <td>2</td>\n",
       "      <td>5</td>\n",
       "      <td>5233</td>\n",
       "      <td>34</td>\n",
       "    </tr>\n",
       "    <tr>\n",
       "      <th>3</th>\n",
       "      <td>3</td>\n",
       "      <td>5</td>\n",
       "      <td>5232</td>\n",
       "      <td>34</td>\n",
       "    </tr>\n",
       "    <tr>\n",
       "      <th>4</th>\n",
       "      <td>4</td>\n",
       "      <td>5</td>\n",
       "      <td>5268</td>\n",
       "      <td>34</td>\n",
       "    </tr>\n",
       "  </tbody>\n",
       "</table>\n",
       "</div>"
      ],
      "text/plain": [
       "   ID  shop_id  item_id  date_block_num\n",
       "0   0        5     5037              34\n",
       "1   1        5     5320              34\n",
       "2   2        5     5233              34\n",
       "3   3        5     5232              34\n",
       "4   4        5     5268              34"
      ]
     },
     "execution_count": 22,
     "metadata": {},
     "output_type": "execute_result"
    }
   ],
   "source": [
    "test_data['date_block_num'] = 34\n",
    "test_data.head()"
   ]
  },
  {
   "cell_type": "code",
   "execution_count": 23,
   "id": "9e820fcd",
   "metadata": {
    "execution": {
     "iopub.execute_input": "2022-09-15T22:41:14.015164Z",
     "iopub.status.busy": "2022-09-15T22:41:14.014116Z",
     "iopub.status.idle": "2022-09-15T22:41:14.134875Z",
     "shell.execute_reply": "2022-09-15T22:41:14.133492Z"
    },
    "papermill": {
     "duration": 0.137654,
     "end_time": "2022-09-15T22:41:14.137496",
     "exception": false,
     "start_time": "2022-09-15T22:41:13.999842",
     "status": "completed"
    },
    "tags": []
   },
   "outputs": [
    {
     "data": {
      "text/html": [
       "<div>\n",
       "<style scoped>\n",
       "    .dataframe tbody tr th:only-of-type {\n",
       "        vertical-align: middle;\n",
       "    }\n",
       "\n",
       "    .dataframe tbody tr th {\n",
       "        vertical-align: top;\n",
       "    }\n",
       "\n",
       "    .dataframe thead th {\n",
       "        text-align: right;\n",
       "    }\n",
       "</style>\n",
       "<table border=\"1\" class=\"dataframe\">\n",
       "  <thead>\n",
       "    <tr style=\"text-align: right;\">\n",
       "      <th></th>\n",
       "      <th>ID</th>\n",
       "      <th>shop_id</th>\n",
       "      <th>item_id</th>\n",
       "      <th>date_block_num</th>\n",
       "      <th>item_category_id</th>\n",
       "      <th>item_category_name</th>\n",
       "      <th>shop_name</th>\n",
       "    </tr>\n",
       "  </thead>\n",
       "  <tbody>\n",
       "    <tr>\n",
       "      <th>0</th>\n",
       "      <td>0</td>\n",
       "      <td>5</td>\n",
       "      <td>5037</td>\n",
       "      <td>34</td>\n",
       "      <td>19</td>\n",
       "      <td>Игры - PS3</td>\n",
       "      <td>Вологда ТРЦ \"Мармелад\"</td>\n",
       "    </tr>\n",
       "    <tr>\n",
       "      <th>1</th>\n",
       "      <td>1</td>\n",
       "      <td>5</td>\n",
       "      <td>5320</td>\n",
       "      <td>34</td>\n",
       "      <td>55</td>\n",
       "      <td>Музыка - CD локального производства</td>\n",
       "      <td>Вологда ТРЦ \"Мармелад\"</td>\n",
       "    </tr>\n",
       "    <tr>\n",
       "      <th>2</th>\n",
       "      <td>2</td>\n",
       "      <td>5</td>\n",
       "      <td>5233</td>\n",
       "      <td>34</td>\n",
       "      <td>19</td>\n",
       "      <td>Игры - PS3</td>\n",
       "      <td>Вологда ТРЦ \"Мармелад\"</td>\n",
       "    </tr>\n",
       "    <tr>\n",
       "      <th>3</th>\n",
       "      <td>3</td>\n",
       "      <td>5</td>\n",
       "      <td>5232</td>\n",
       "      <td>34</td>\n",
       "      <td>23</td>\n",
       "      <td>Игры - XBOX 360</td>\n",
       "      <td>Вологда ТРЦ \"Мармелад\"</td>\n",
       "    </tr>\n",
       "    <tr>\n",
       "      <th>4</th>\n",
       "      <td>4</td>\n",
       "      <td>5</td>\n",
       "      <td>5268</td>\n",
       "      <td>34</td>\n",
       "      <td>20</td>\n",
       "      <td>Игры - PS4</td>\n",
       "      <td>Вологда ТРЦ \"Мармелад\"</td>\n",
       "    </tr>\n",
       "  </tbody>\n",
       "</table>\n",
       "</div>"
      ],
      "text/plain": [
       "   ID  shop_id  item_id  date_block_num  item_category_id  \\\n",
       "0   0        5     5037              34                19   \n",
       "1   1        5     5320              34                55   \n",
       "2   2        5     5233              34                19   \n",
       "3   3        5     5232              34                23   \n",
       "4   4        5     5268              34                20   \n",
       "\n",
       "                    item_category_name               shop_name  \n",
       "0                           Игры - PS3  Вологда ТРЦ \"Мармелад\"  \n",
       "1  Музыка - CD локального производства  Вологда ТРЦ \"Мармелад\"  \n",
       "2                           Игры - PS3  Вологда ТРЦ \"Мармелад\"  \n",
       "3                      Игры - XBOX 360  Вологда ТРЦ \"Мармелад\"  \n",
       "4                           Игры - PS4  Вологда ТРЦ \"Мармелад\"  "
      ]
     },
     "execution_count": 23,
     "metadata": {},
     "output_type": "execute_result"
    }
   ],
   "source": [
    "test_data = test_data.join(items.set_index('item_id'), on = 'item_id')\n",
    "test_data = test_data.join(item_cats.set_index('item_category_id'), on ='item_category_id')\n",
    "test_data = test_data.join(shops.set_index('shop_id'), on = 'shop_id')\n",
    "test_data = test_data.drop('item_name', axis = 1)\n",
    "test_data.head()"
   ]
  },
  {
   "cell_type": "code",
   "execution_count": 24,
   "id": "ba30e867",
   "metadata": {
    "execution": {
     "iopub.execute_input": "2022-09-15T22:41:14.164729Z",
     "iopub.status.busy": "2022-09-15T22:41:14.164247Z",
     "iopub.status.idle": "2022-09-15T22:41:14.289200Z",
     "shell.execute_reply": "2022-09-15T22:41:14.287665Z"
    },
    "papermill": {
     "duration": 0.14171,
     "end_time": "2022-09-15T22:41:14.292209",
     "exception": false,
     "start_time": "2022-09-15T22:41:14.150499",
     "status": "completed"
    },
    "tags": []
   },
   "outputs": [],
   "source": [
    "df_large = pd.concat([monthly_train_data, test_data])"
   ]
  },
  {
   "cell_type": "code",
   "execution_count": 25,
   "id": "d226f20e",
   "metadata": {
    "execution": {
     "iopub.execute_input": "2022-09-15T22:41:14.319995Z",
     "iopub.status.busy": "2022-09-15T22:41:14.319584Z",
     "iopub.status.idle": "2022-09-15T22:41:15.300226Z",
     "shell.execute_reply": "2022-09-15T22:41:15.298867Z"
    },
    "papermill": {
     "duration": 0.99855,
     "end_time": "2022-09-15T22:41:15.303462",
     "exception": false,
     "start_time": "2022-09-15T22:41:14.304912",
     "status": "completed"
    },
    "tags": []
   },
   "outputs": [],
   "source": [
    "lbl_encoder = LabelEncoder()\n",
    "df_large['item_category_name'] =lbl_encoder.fit_transform(df_large['item_category_name'])\n",
    "df_large['shop_name'] = lbl_encoder.fit_transform(df_large['shop_name'])\n",
    "df_large = df_large.drop('item_name', axis =1)\n"
   ]
  },
  {
   "cell_type": "code",
   "execution_count": 26,
   "id": "c0dfe24d",
   "metadata": {
    "execution": {
     "iopub.execute_input": "2022-09-15T22:41:15.332653Z",
     "iopub.status.busy": "2022-09-15T22:41:15.332241Z",
     "iopub.status.idle": "2022-09-15T22:41:15.346169Z",
     "shell.execute_reply": "2022-09-15T22:41:15.344799Z"
    },
    "papermill": {
     "duration": 0.030764,
     "end_time": "2022-09-15T22:41:15.348579",
     "exception": false,
     "start_time": "2022-09-15T22:41:15.317815",
     "status": "completed"
    },
    "tags": []
   },
   "outputs": [
    {
     "data": {
      "text/html": [
       "<div>\n",
       "<style scoped>\n",
       "    .dataframe tbody tr th:only-of-type {\n",
       "        vertical-align: middle;\n",
       "    }\n",
       "\n",
       "    .dataframe tbody tr th {\n",
       "        vertical-align: top;\n",
       "    }\n",
       "\n",
       "    .dataframe thead th {\n",
       "        text-align: right;\n",
       "    }\n",
       "</style>\n",
       "<table border=\"1\" class=\"dataframe\">\n",
       "  <thead>\n",
       "    <tr style=\"text-align: right;\">\n",
       "      <th></th>\n",
       "      <th>date_block_num</th>\n",
       "      <th>shop_id</th>\n",
       "      <th>item_id</th>\n",
       "      <th>item_cnt_month</th>\n",
       "      <th>item_category_id</th>\n",
       "      <th>item_category_name</th>\n",
       "      <th>shop_name</th>\n",
       "      <th>ID</th>\n",
       "    </tr>\n",
       "  </thead>\n",
       "  <tbody>\n",
       "    <tr>\n",
       "      <th>214195</th>\n",
       "      <td>34</td>\n",
       "      <td>45</td>\n",
       "      <td>18454</td>\n",
       "      <td>NaN</td>\n",
       "      <td>55</td>\n",
       "      <td>55</td>\n",
       "      <td>45</td>\n",
       "      <td>214195.0</td>\n",
       "    </tr>\n",
       "    <tr>\n",
       "      <th>214196</th>\n",
       "      <td>34</td>\n",
       "      <td>45</td>\n",
       "      <td>16188</td>\n",
       "      <td>NaN</td>\n",
       "      <td>64</td>\n",
       "      <td>64</td>\n",
       "      <td>45</td>\n",
       "      <td>214196.0</td>\n",
       "    </tr>\n",
       "    <tr>\n",
       "      <th>214197</th>\n",
       "      <td>34</td>\n",
       "      <td>45</td>\n",
       "      <td>15757</td>\n",
       "      <td>NaN</td>\n",
       "      <td>55</td>\n",
       "      <td>55</td>\n",
       "      <td>45</td>\n",
       "      <td>214197.0</td>\n",
       "    </tr>\n",
       "    <tr>\n",
       "      <th>214198</th>\n",
       "      <td>34</td>\n",
       "      <td>45</td>\n",
       "      <td>19648</td>\n",
       "      <td>NaN</td>\n",
       "      <td>40</td>\n",
       "      <td>40</td>\n",
       "      <td>45</td>\n",
       "      <td>214198.0</td>\n",
       "    </tr>\n",
       "    <tr>\n",
       "      <th>214199</th>\n",
       "      <td>34</td>\n",
       "      <td>45</td>\n",
       "      <td>969</td>\n",
       "      <td>NaN</td>\n",
       "      <td>37</td>\n",
       "      <td>37</td>\n",
       "      <td>45</td>\n",
       "      <td>214199.0</td>\n",
       "    </tr>\n",
       "  </tbody>\n",
       "</table>\n",
       "</div>"
      ],
      "text/plain": [
       "        date_block_num  shop_id  item_id  item_cnt_month  item_category_id  \\\n",
       "214195              34       45    18454             NaN                55   \n",
       "214196              34       45    16188             NaN                64   \n",
       "214197              34       45    15757             NaN                55   \n",
       "214198              34       45    19648             NaN                40   \n",
       "214199              34       45      969             NaN                37   \n",
       "\n",
       "        item_category_name  shop_name        ID  \n",
       "214195                  55         45  214195.0  \n",
       "214196                  64         45  214196.0  \n",
       "214197                  55         45  214197.0  \n",
       "214198                  40         45  214198.0  \n",
       "214199                  37         45  214199.0  "
      ]
     },
     "execution_count": 26,
     "metadata": {},
     "output_type": "execute_result"
    }
   ],
   "source": [
    "df_large.tail()"
   ]
  },
  {
   "cell_type": "code",
   "execution_count": 27,
   "id": "dd77afff",
   "metadata": {
    "execution": {
     "iopub.execute_input": "2022-09-15T22:41:15.377455Z",
     "iopub.status.busy": "2022-09-15T22:41:15.376980Z",
     "iopub.status.idle": "2022-09-15T22:41:15.393592Z",
     "shell.execute_reply": "2022-09-15T22:41:15.392230Z"
    },
    "papermill": {
     "duration": 0.034289,
     "end_time": "2022-09-15T22:41:15.396343",
     "exception": false,
     "start_time": "2022-09-15T22:41:15.362054",
     "status": "completed"
    },
    "tags": []
   },
   "outputs": [
    {
     "data": {
      "text/html": [
       "<div>\n",
       "<style scoped>\n",
       "    .dataframe tbody tr th:only-of-type {\n",
       "        vertical-align: middle;\n",
       "    }\n",
       "\n",
       "    .dataframe tbody tr th {\n",
       "        vertical-align: top;\n",
       "    }\n",
       "\n",
       "    .dataframe thead th {\n",
       "        text-align: right;\n",
       "    }\n",
       "</style>\n",
       "<table border=\"1\" class=\"dataframe\">\n",
       "  <thead>\n",
       "    <tr style=\"text-align: right;\">\n",
       "      <th></th>\n",
       "      <th>date_block_num</th>\n",
       "      <th>shop_id</th>\n",
       "      <th>item_id</th>\n",
       "      <th>item_cnt_month</th>\n",
       "      <th>item_name</th>\n",
       "      <th>item_category_id</th>\n",
       "      <th>item_category_name</th>\n",
       "      <th>shop_name</th>\n",
       "    </tr>\n",
       "  </thead>\n",
       "  <tbody>\n",
       "    <tr>\n",
       "      <th>1608219</th>\n",
       "      <td>33</td>\n",
       "      <td>59</td>\n",
       "      <td>22087</td>\n",
       "      <td>6.0</td>\n",
       "      <td>Элемент питания DURACELL LR03-BC2</td>\n",
       "      <td>83</td>\n",
       "      <td>Элементы питания</td>\n",
       "      <td>Ярославль ТЦ \"Альтаир\"</td>\n",
       "    </tr>\n",
       "    <tr>\n",
       "      <th>1608220</th>\n",
       "      <td>33</td>\n",
       "      <td>59</td>\n",
       "      <td>22088</td>\n",
       "      <td>2.0</td>\n",
       "      <td>Элемент питания DURACELL LR06-BC2</td>\n",
       "      <td>83</td>\n",
       "      <td>Элементы питания</td>\n",
       "      <td>Ярославль ТЦ \"Альтаир\"</td>\n",
       "    </tr>\n",
       "    <tr>\n",
       "      <th>1608221</th>\n",
       "      <td>33</td>\n",
       "      <td>59</td>\n",
       "      <td>22091</td>\n",
       "      <td>1.0</td>\n",
       "      <td>Элемент питания DURACELL TURBO LR 03 2*BL</td>\n",
       "      <td>83</td>\n",
       "      <td>Элементы питания</td>\n",
       "      <td>Ярославль ТЦ \"Альтаир\"</td>\n",
       "    </tr>\n",
       "    <tr>\n",
       "      <th>1608222</th>\n",
       "      <td>33</td>\n",
       "      <td>59</td>\n",
       "      <td>22100</td>\n",
       "      <td>1.0</td>\n",
       "      <td>Энциклопедия Adventure Time</td>\n",
       "      <td>42</td>\n",
       "      <td>Книги - Артбуки, энциклопедии</td>\n",
       "      <td>Ярославль ТЦ \"Альтаир\"</td>\n",
       "    </tr>\n",
       "    <tr>\n",
       "      <th>1608223</th>\n",
       "      <td>33</td>\n",
       "      <td>59</td>\n",
       "      <td>22102</td>\n",
       "      <td>1.0</td>\n",
       "      <td>Энциклопедия Мир Ведьмака</td>\n",
       "      <td>42</td>\n",
       "      <td>Книги - Артбуки, энциклопедии</td>\n",
       "      <td>Ярославль ТЦ \"Альтаир\"</td>\n",
       "    </tr>\n",
       "  </tbody>\n",
       "</table>\n",
       "</div>"
      ],
      "text/plain": [
       "         date_block_num  shop_id  item_id  item_cnt_month  \\\n",
       "1608219              33       59    22087             6.0   \n",
       "1608220              33       59    22088             2.0   \n",
       "1608221              33       59    22091             1.0   \n",
       "1608222              33       59    22100             1.0   \n",
       "1608223              33       59    22102             1.0   \n",
       "\n",
       "                                         item_name  item_category_id  \\\n",
       "1608219          Элемент питания DURACELL LR03-BC2                83   \n",
       "1608220          Элемент питания DURACELL LR06-BC2                83   \n",
       "1608221  Элемент питания DURACELL TURBO LR 03 2*BL                83   \n",
       "1608222                Энциклопедия Adventure Time                42   \n",
       "1608223                  Энциклопедия Мир Ведьмака                42   \n",
       "\n",
       "                    item_category_name               shop_name  \n",
       "1608219               Элементы питания  Ярославль ТЦ \"Альтаир\"  \n",
       "1608220               Элементы питания  Ярославль ТЦ \"Альтаир\"  \n",
       "1608221               Элементы питания  Ярославль ТЦ \"Альтаир\"  \n",
       "1608222  Книги - Артбуки, энциклопедии  Ярославль ТЦ \"Альтаир\"  \n",
       "1608223  Книги - Артбуки, энциклопедии  Ярославль ТЦ \"Альтаир\"  "
      ]
     },
     "execution_count": 27,
     "metadata": {},
     "output_type": "execute_result"
    }
   ],
   "source": [
    "monthly_train_data.tail()"
   ]
  },
  {
   "cell_type": "code",
   "execution_count": 28,
   "id": "53af3fab",
   "metadata": {
    "execution": {
     "iopub.execute_input": "2022-09-15T22:41:15.425624Z",
     "iopub.status.busy": "2022-09-15T22:41:15.425205Z",
     "iopub.status.idle": "2022-09-15T22:41:15.554730Z",
     "shell.execute_reply": "2022-09-15T22:41:15.553393Z"
    },
    "papermill": {
     "duration": 0.14739,
     "end_time": "2022-09-15T22:41:15.557380",
     "exception": false,
     "start_time": "2022-09-15T22:41:15.409990",
     "status": "completed"
    },
    "tags": []
   },
   "outputs": [
    {
     "data": {
      "text/html": [
       "<div>\n",
       "<style scoped>\n",
       "    .dataframe tbody tr th:only-of-type {\n",
       "        vertical-align: middle;\n",
       "    }\n",
       "\n",
       "    .dataframe tbody tr th {\n",
       "        vertical-align: top;\n",
       "    }\n",
       "\n",
       "    .dataframe thead th {\n",
       "        text-align: right;\n",
       "    }\n",
       "</style>\n",
       "<table border=\"1\" class=\"dataframe\">\n",
       "  <thead>\n",
       "    <tr style=\"text-align: right;\">\n",
       "      <th></th>\n",
       "      <th>date_block_num</th>\n",
       "      <th>shop_id</th>\n",
       "      <th>item_id</th>\n",
       "      <th>item_cnt_month</th>\n",
       "      <th>item_category_id</th>\n",
       "      <th>item_category_name</th>\n",
       "      <th>shop_name</th>\n",
       "    </tr>\n",
       "  </thead>\n",
       "  <tbody>\n",
       "    <tr>\n",
       "      <th>1608219</th>\n",
       "      <td>33</td>\n",
       "      <td>59</td>\n",
       "      <td>22087</td>\n",
       "      <td>6.0</td>\n",
       "      <td>83</td>\n",
       "      <td>83</td>\n",
       "      <td>59</td>\n",
       "    </tr>\n",
       "    <tr>\n",
       "      <th>1608220</th>\n",
       "      <td>33</td>\n",
       "      <td>59</td>\n",
       "      <td>22088</td>\n",
       "      <td>2.0</td>\n",
       "      <td>83</td>\n",
       "      <td>83</td>\n",
       "      <td>59</td>\n",
       "    </tr>\n",
       "    <tr>\n",
       "      <th>1608221</th>\n",
       "      <td>33</td>\n",
       "      <td>59</td>\n",
       "      <td>22091</td>\n",
       "      <td>1.0</td>\n",
       "      <td>83</td>\n",
       "      <td>83</td>\n",
       "      <td>59</td>\n",
       "    </tr>\n",
       "    <tr>\n",
       "      <th>1608222</th>\n",
       "      <td>33</td>\n",
       "      <td>59</td>\n",
       "      <td>22100</td>\n",
       "      <td>1.0</td>\n",
       "      <td>42</td>\n",
       "      <td>42</td>\n",
       "      <td>59</td>\n",
       "    </tr>\n",
       "    <tr>\n",
       "      <th>1608223</th>\n",
       "      <td>33</td>\n",
       "      <td>59</td>\n",
       "      <td>22102</td>\n",
       "      <td>1.0</td>\n",
       "      <td>42</td>\n",
       "      <td>42</td>\n",
       "      <td>59</td>\n",
       "    </tr>\n",
       "  </tbody>\n",
       "</table>\n",
       "</div>"
      ],
      "text/plain": [
       "         date_block_num  shop_id  item_id  item_cnt_month  item_category_id  \\\n",
       "1608219              33       59    22087             6.0                83   \n",
       "1608220              33       59    22088             2.0                83   \n",
       "1608221              33       59    22091             1.0                83   \n",
       "1608222              33       59    22100             1.0                42   \n",
       "1608223              33       59    22102             1.0                42   \n",
       "\n",
       "         item_category_name  shop_name  \n",
       "1608219                  83         59  \n",
       "1608220                  83         59  \n",
       "1608221                  83         59  \n",
       "1608222                  42         59  \n",
       "1608223                  42         59  "
      ]
     },
     "execution_count": 28,
     "metadata": {},
     "output_type": "execute_result"
    }
   ],
   "source": [
    "train_data = df_large.loc[df_large.date_block_num < 34]\n",
    "train_data = train_data.drop('ID', axis = 1)\n",
    "train_data.tail()"
   ]
  },
  {
   "cell_type": "code",
   "execution_count": 29,
   "id": "9eb64859",
   "metadata": {
    "execution": {
     "iopub.execute_input": "2022-09-15T22:41:15.585925Z",
     "iopub.status.busy": "2022-09-15T22:41:15.585536Z",
     "iopub.status.idle": "2022-09-15T22:41:15.612453Z",
     "shell.execute_reply": "2022-09-15T22:41:15.611508Z"
    },
    "papermill": {
     "duration": 0.044078,
     "end_time": "2022-09-15T22:41:15.614862",
     "exception": false,
     "start_time": "2022-09-15T22:41:15.570784",
     "status": "completed"
    },
    "tags": []
   },
   "outputs": [
    {
     "data": {
      "text/html": [
       "<div>\n",
       "<style scoped>\n",
       "    .dataframe tbody tr th:only-of-type {\n",
       "        vertical-align: middle;\n",
       "    }\n",
       "\n",
       "    .dataframe tbody tr th {\n",
       "        vertical-align: top;\n",
       "    }\n",
       "\n",
       "    .dataframe thead th {\n",
       "        text-align: right;\n",
       "    }\n",
       "</style>\n",
       "<table border=\"1\" class=\"dataframe\">\n",
       "  <thead>\n",
       "    <tr style=\"text-align: right;\">\n",
       "      <th></th>\n",
       "      <th>date_block_num</th>\n",
       "      <th>shop_id</th>\n",
       "      <th>item_id</th>\n",
       "      <th>item_category_id</th>\n",
       "      <th>item_category_name</th>\n",
       "      <th>shop_name</th>\n",
       "      <th>ID</th>\n",
       "    </tr>\n",
       "  </thead>\n",
       "  <tbody>\n",
       "    <tr>\n",
       "      <th>0</th>\n",
       "      <td>34</td>\n",
       "      <td>5</td>\n",
       "      <td>5037</td>\n",
       "      <td>19</td>\n",
       "      <td>19</td>\n",
       "      <td>5</td>\n",
       "      <td>0.0</td>\n",
       "    </tr>\n",
       "    <tr>\n",
       "      <th>1</th>\n",
       "      <td>34</td>\n",
       "      <td>5</td>\n",
       "      <td>5320</td>\n",
       "      <td>55</td>\n",
       "      <td>55</td>\n",
       "      <td>5</td>\n",
       "      <td>1.0</td>\n",
       "    </tr>\n",
       "    <tr>\n",
       "      <th>2</th>\n",
       "      <td>34</td>\n",
       "      <td>5</td>\n",
       "      <td>5233</td>\n",
       "      <td>19</td>\n",
       "      <td>19</td>\n",
       "      <td>5</td>\n",
       "      <td>2.0</td>\n",
       "    </tr>\n",
       "    <tr>\n",
       "      <th>3</th>\n",
       "      <td>34</td>\n",
       "      <td>5</td>\n",
       "      <td>5232</td>\n",
       "      <td>23</td>\n",
       "      <td>23</td>\n",
       "      <td>5</td>\n",
       "      <td>3.0</td>\n",
       "    </tr>\n",
       "    <tr>\n",
       "      <th>4</th>\n",
       "      <td>34</td>\n",
       "      <td>5</td>\n",
       "      <td>5268</td>\n",
       "      <td>20</td>\n",
       "      <td>20</td>\n",
       "      <td>5</td>\n",
       "      <td>4.0</td>\n",
       "    </tr>\n",
       "  </tbody>\n",
       "</table>\n",
       "</div>"
      ],
      "text/plain": [
       "   date_block_num  shop_id  item_id  item_category_id  item_category_name  \\\n",
       "0              34        5     5037                19                  19   \n",
       "1              34        5     5320                55                  55   \n",
       "2              34        5     5233                19                  19   \n",
       "3              34        5     5232                23                  23   \n",
       "4              34        5     5268                20                  20   \n",
       "\n",
       "   shop_name   ID  \n",
       "0          5  0.0  \n",
       "1          5  1.0  \n",
       "2          5  2.0  \n",
       "3          5  3.0  \n",
       "4          5  4.0  "
      ]
     },
     "execution_count": 29,
     "metadata": {},
     "output_type": "execute_result"
    }
   ],
   "source": [
    "test_data = df_large.loc[df_large.date_block_num == 34]\n",
    "test_data = test_data.drop('item_cnt_month', axis = 1)\n",
    "test_data.head()"
   ]
  },
  {
   "cell_type": "code",
   "execution_count": 30,
   "id": "8d16b80d",
   "metadata": {
    "execution": {
     "iopub.execute_input": "2022-09-15T22:41:15.644986Z",
     "iopub.status.busy": "2022-09-15T22:41:15.643887Z",
     "iopub.status.idle": "2022-09-15T22:41:15.651061Z",
     "shell.execute_reply": "2022-09-15T22:41:15.650167Z"
    },
    "papermill": {
     "duration": 0.024592,
     "end_time": "2022-09-15T22:41:15.653348",
     "exception": false,
     "start_time": "2022-09-15T22:41:15.628756",
     "status": "completed"
    },
    "tags": []
   },
   "outputs": [
    {
     "data": {
      "text/plain": [
       "\"\\nfrom sklearn.feature_selection import mutual_info_regression\\ny = train_data['item_cnt_month']\\nX = train_data.drop('item_cnt_month', axis = 1)\\ndisc_feat = X.dtypes == int\\nmi_scores = mutual_info_regression(X, y, discrete_features=disc_feat, random_state = 10)\\nmi_scores = pd.Series(mi_scores, name = 'MI scores', index = X.columns)\\nmi_scores = mi_scores.sort_values(ascending = False)\\nmi_scores\\n\""
      ]
     },
     "execution_count": 30,
     "metadata": {},
     "output_type": "execute_result"
    }
   ],
   "source": [
    "\"\"\"\n",
    "from sklearn.feature_selection import mutual_info_regression\n",
    "y = train_data['item_cnt_month']\n",
    "X = train_data.drop('item_cnt_month', axis = 1)\n",
    "disc_feat = X.dtypes == int\n",
    "mi_scores = mutual_info_regression(X, y, discrete_features=disc_feat, random_state = 10)\n",
    "mi_scores = pd.Series(mi_scores, name = 'MI scores', index = X.columns)\n",
    "mi_scores = mi_scores.sort_values(ascending = False)\n",
    "mi_scores\n",
    "\"\"\""
   ]
  },
  {
   "cell_type": "code",
   "execution_count": 31,
   "id": "d426ed3b",
   "metadata": {
    "execution": {
     "iopub.execute_input": "2022-09-15T22:41:15.682938Z",
     "iopub.status.busy": "2022-09-15T22:41:15.682179Z",
     "iopub.status.idle": "2022-09-15T22:41:15.688220Z",
     "shell.execute_reply": "2022-09-15T22:41:15.687376Z"
    },
    "papermill": {
     "duration": 0.02347,
     "end_time": "2022-09-15T22:41:15.690578",
     "exception": false,
     "start_time": "2022-09-15T22:41:15.667108",
     "status": "completed"
    },
    "tags": []
   },
   "outputs": [
    {
     "data": {
      "text/plain": [
       "'\\nitem_id               0.229333\\nitem_category_id      0.062293\\nitem_category_name    0.062293\\nshop_id               0.013078\\nshop_name             0.013078\\ndate_block_num        0.003998\\nName: MI scores, dtype: float64\\n'"
      ]
     },
     "execution_count": 31,
     "metadata": {},
     "output_type": "execute_result"
    }
   ],
   "source": [
    "\"\"\"\n",
    "item_id               0.229333\n",
    "item_category_id      0.062293\n",
    "item_category_name    0.062293\n",
    "shop_id               0.013078\n",
    "shop_name             0.013078\n",
    "date_block_num        0.003998\n",
    "Name: MI scores, dtype: float64\n",
    "\"\"\""
   ]
  },
  {
   "cell_type": "code",
   "execution_count": 32,
   "id": "475ce77b",
   "metadata": {
    "execution": {
     "iopub.execute_input": "2022-09-15T22:41:15.721178Z",
     "iopub.status.busy": "2022-09-15T22:41:15.720462Z",
     "iopub.status.idle": "2022-09-15T22:50:14.241252Z",
     "shell.execute_reply": "2022-09-15T22:50:14.239587Z"
    },
    "papermill": {
     "duration": 538.539445,
     "end_time": "2022-09-15T22:50:14.244137",
     "exception": false,
     "start_time": "2022-09-15T22:41:15.704692",
     "status": "completed"
    },
    "tags": []
   },
   "outputs": [],
   "source": [
    "from sklearn.model_selection import train_test_split\n",
    "from sklearn.model_selection import KFold\n",
    "from sklearn.model_selection import cross_val_score\n",
    "from sklearn.ensemble import RandomForestRegressor\n",
    "from sklearn.metrics import mean_absolute_error\n",
    "\n",
    "\n",
    "\n",
    "\n",
    "y = train_data['item_cnt_month']\n",
    "X = train_data.drop('item_cnt_month', axis = 1)\n",
    "x_train, x_test, y_train, y_test = train_test_split(X, y, test_size = 0.2, random_state = 10)\n",
    "rf=RandomForestRegressor()\n",
    "\"\"\"\n",
    "rf.fit(x_train, y_train)\n",
    "y_pred = rf.predict(x_test)\n",
    "print(mean_absolute_error(y_test, y_pred))\n",
    "\"\"\"\n",
    "rf.fit(X,y)\n",
    "ids = test_data.ID.values\n",
    "test_data = test_data.drop('ID', axis = 1)\n",
    "preds = rf.predict(test_data)\n"
   ]
  },
  {
   "cell_type": "code",
   "execution_count": null,
   "id": "72c0009a",
   "metadata": {
    "papermill": {
     "duration": 0.013675,
     "end_time": "2022-09-15T22:50:14.272299",
     "exception": false,
     "start_time": "2022-09-15T22:50:14.258624",
     "status": "completed"
    },
    "tags": []
   },
   "outputs": [],
   "source": []
  },
  {
   "cell_type": "code",
   "execution_count": 33,
   "id": "02b953de",
   "metadata": {
    "execution": {
     "iopub.execute_input": "2022-09-15T22:50:14.303035Z",
     "iopub.status.busy": "2022-09-15T22:50:14.302297Z",
     "iopub.status.idle": "2022-09-15T22:50:14.317968Z",
     "shell.execute_reply": "2022-09-15T22:50:14.316620Z"
    },
    "papermill": {
     "duration": 0.033182,
     "end_time": "2022-09-15T22:50:14.320616",
     "exception": false,
     "start_time": "2022-09-15T22:50:14.287434",
     "status": "completed"
    },
    "tags": []
   },
   "outputs": [
    {
     "data": {
      "text/html": [
       "<div>\n",
       "<style scoped>\n",
       "    .dataframe tbody tr th:only-of-type {\n",
       "        vertical-align: middle;\n",
       "    }\n",
       "\n",
       "    .dataframe tbody tr th {\n",
       "        vertical-align: top;\n",
       "    }\n",
       "\n",
       "    .dataframe thead th {\n",
       "        text-align: right;\n",
       "    }\n",
       "</style>\n",
       "<table border=\"1\" class=\"dataframe\">\n",
       "  <thead>\n",
       "    <tr style=\"text-align: right;\">\n",
       "      <th></th>\n",
       "      <th>ID</th>\n",
       "      <th>item_cnt_month</th>\n",
       "    </tr>\n",
       "  </thead>\n",
       "  <tbody>\n",
       "    <tr>\n",
       "      <th>0</th>\n",
       "      <td>0</td>\n",
       "      <td>1.44</td>\n",
       "    </tr>\n",
       "    <tr>\n",
       "      <th>1</th>\n",
       "      <td>1</td>\n",
       "      <td>2.24</td>\n",
       "    </tr>\n",
       "    <tr>\n",
       "      <th>2</th>\n",
       "      <td>2</td>\n",
       "      <td>1.18</td>\n",
       "    </tr>\n",
       "    <tr>\n",
       "      <th>3</th>\n",
       "      <td>3</td>\n",
       "      <td>1.07</td>\n",
       "    </tr>\n",
       "    <tr>\n",
       "      <th>4</th>\n",
       "      <td>4</td>\n",
       "      <td>1.09</td>\n",
       "    </tr>\n",
       "    <tr>\n",
       "      <th>...</th>\n",
       "      <td>...</td>\n",
       "      <td>...</td>\n",
       "    </tr>\n",
       "    <tr>\n",
       "      <th>214195</th>\n",
       "      <td>214195</td>\n",
       "      <td>1.04</td>\n",
       "    </tr>\n",
       "    <tr>\n",
       "      <th>214196</th>\n",
       "      <td>214196</td>\n",
       "      <td>1.00</td>\n",
       "    </tr>\n",
       "    <tr>\n",
       "      <th>214197</th>\n",
       "      <td>214197</td>\n",
       "      <td>1.09</td>\n",
       "    </tr>\n",
       "    <tr>\n",
       "      <th>214198</th>\n",
       "      <td>214198</td>\n",
       "      <td>1.00</td>\n",
       "    </tr>\n",
       "    <tr>\n",
       "      <th>214199</th>\n",
       "      <td>214199</td>\n",
       "      <td>1.09</td>\n",
       "    </tr>\n",
       "  </tbody>\n",
       "</table>\n",
       "<p>214200 rows × 2 columns</p>\n",
       "</div>"
      ],
      "text/plain": [
       "            ID  item_cnt_month\n",
       "0            0            1.44\n",
       "1            1            2.24\n",
       "2            2            1.18\n",
       "3            3            1.07\n",
       "4            4            1.09\n",
       "...        ...             ...\n",
       "214195  214195            1.04\n",
       "214196  214196            1.00\n",
       "214197  214197            1.09\n",
       "214198  214198            1.00\n",
       "214199  214199            1.09\n",
       "\n",
       "[214200 rows x 2 columns]"
      ]
     },
     "execution_count": 33,
     "metadata": {},
     "output_type": "execute_result"
    }
   ],
   "source": [
    "submission = pd.DataFrame({'ID':ids.astype('int'),'item_cnt_month':preds})\n",
    "submission"
   ]
  },
  {
   "cell_type": "code",
   "execution_count": 34,
   "id": "0aa6b106",
   "metadata": {
    "execution": {
     "iopub.execute_input": "2022-09-15T22:50:14.351086Z",
     "iopub.status.busy": "2022-09-15T22:50:14.350249Z",
     "iopub.status.idle": "2022-09-15T22:50:14.677610Z",
     "shell.execute_reply": "2022-09-15T22:50:14.676399Z"
    },
    "papermill": {
     "duration": 0.345788,
     "end_time": "2022-09-15T22:50:14.680485",
     "exception": false,
     "start_time": "2022-09-15T22:50:14.334697",
     "status": "completed"
    },
    "tags": []
   },
   "outputs": [],
   "source": [
    "submission.to_csv('submission.csv', index = False)"
   ]
  },
  {
   "cell_type": "code",
   "execution_count": null,
   "id": "7d93519e",
   "metadata": {
    "papermill": {
     "duration": 0.013391,
     "end_time": "2022-09-15T22:50:14.707938",
     "exception": false,
     "start_time": "2022-09-15T22:50:14.694547",
     "status": "completed"
    },
    "tags": []
   },
   "outputs": [],
   "source": []
  }
 ],
 "metadata": {
  "kernelspec": {
   "display_name": "Python 3",
   "language": "python",
   "name": "python3"
  },
  "language_info": {
   "codemirror_mode": {
    "name": "ipython",
    "version": 3
   },
   "file_extension": ".py",
   "mimetype": "text/x-python",
   "name": "python",
   "nbconvert_exporter": "python",
   "pygments_lexer": "ipython3",
   "version": "3.7.12"
  },
  "papermill": {
   "default_parameters": {},
   "duration": 610.086781,
   "end_time": "2022-09-15T22:50:16.651100",
   "environment_variables": {},
   "exception": null,
   "input_path": "__notebook__.ipynb",
   "output_path": "__notebook__.ipynb",
   "parameters": {},
   "start_time": "2022-09-15T22:40:06.564319",
   "version": "2.3.4"
  }
 },
 "nbformat": 4,
 "nbformat_minor": 5
}
