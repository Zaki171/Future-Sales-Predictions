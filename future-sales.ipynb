{
 "cells": [
  {
   "cell_type": "code",
   "execution_count": 1,
   "id": "460c58df",
   "metadata": {
    "_cell_guid": "b1076dfc-b9ad-4769-8c92-a6c4dae69d19",
    "_uuid": "8f2839f25d086af736a60e9eeb907d3b93b6e0e5",
    "execution": {
     "iopub.execute_input": "2022-09-11T13:02:28.121326Z",
     "iopub.status.busy": "2022-09-11T13:02:28.120491Z",
     "iopub.status.idle": "2022-09-11T13:02:28.135627Z",
     "shell.execute_reply": "2022-09-11T13:02:28.134743Z"
    },
    "papermill": {
     "duration": 0.032165,
     "end_time": "2022-09-11T13:02:28.138951",
     "exception": false,
     "start_time": "2022-09-11T13:02:28.106786",
     "status": "completed"
    },
    "tags": []
   },
   "outputs": [
    {
     "name": "stdout",
     "output_type": "stream",
     "text": [
      "/kaggle/input/competitive-data-science-predict-future-sales/items.csv\n",
      "/kaggle/input/competitive-data-science-predict-future-sales/sample_submission.csv\n",
      "/kaggle/input/competitive-data-science-predict-future-sales/item_categories.csv\n",
      "/kaggle/input/competitive-data-science-predict-future-sales/sales_train.csv\n",
      "/kaggle/input/competitive-data-science-predict-future-sales/shops.csv\n",
      "/kaggle/input/competitive-data-science-predict-future-sales/test.csv\n"
     ]
    }
   ],
   "source": [
    "# This Python 3 environment comes with many helpful analytics libraries installed\n",
    "# It is defined by the kaggle/python Docker image: https://github.com/kaggle/docker-python\n",
    "# For example, here's several helpful packages to load\n",
    "\n",
    "import numpy as np # linear algebra\n",
    "import pandas as pd # data processing, CSV file I/O (e.g. pd.read_csv)\n",
    "\n",
    "# Input data files are available in the read-only \"../input/\" directory\n",
    "# For example, running this (by clicking run or pressing Shift+Enter) will list all files under the input directory\n",
    "\n",
    "import os\n",
    "for dirname, _, filenames in os.walk('/kaggle/input'):\n",
    "    for filename in filenames:\n",
    "        print(os.path.join(dirname, filename))\n",
    "\n",
    "# You can write up to 20GB to the current directory (/kaggle/working/) that gets preserved as output when you create a version using \"Save & Run All\" \n",
    "# You can also write temporary files to /kaggle/temp/, but they won't be saved outside of the current session"
   ]
  },
  {
   "cell_type": "code",
   "execution_count": 2,
   "id": "fbd8b1bd",
   "metadata": {
    "execution": {
     "iopub.execute_input": "2022-09-11T13:02:28.163171Z",
     "iopub.status.busy": "2022-09-11T13:02:28.162738Z",
     "iopub.status.idle": "2022-09-11T13:02:30.592214Z",
     "shell.execute_reply": "2022-09-11T13:02:30.591390Z"
    },
    "papermill": {
     "duration": 2.443902,
     "end_time": "2022-09-11T13:02:30.594535",
     "exception": false,
     "start_time": "2022-09-11T13:02:28.150633",
     "status": "completed"
    },
    "tags": []
   },
   "outputs": [
    {
     "data": {
      "text/html": [
       "<div>\n",
       "<style scoped>\n",
       "    .dataframe tbody tr th:only-of-type {\n",
       "        vertical-align: middle;\n",
       "    }\n",
       "\n",
       "    .dataframe tbody tr th {\n",
       "        vertical-align: top;\n",
       "    }\n",
       "\n",
       "    .dataframe thead th {\n",
       "        text-align: right;\n",
       "    }\n",
       "</style>\n",
       "<table border=\"1\" class=\"dataframe\">\n",
       "  <thead>\n",
       "    <tr style=\"text-align: right;\">\n",
       "      <th></th>\n",
       "      <th>date</th>\n",
       "      <th>date_block_num</th>\n",
       "      <th>shop_id</th>\n",
       "      <th>item_id</th>\n",
       "      <th>item_price</th>\n",
       "      <th>item_cnt_day</th>\n",
       "    </tr>\n",
       "  </thead>\n",
       "  <tbody>\n",
       "    <tr>\n",
       "      <th>0</th>\n",
       "      <td>02.01.2013</td>\n",
       "      <td>0</td>\n",
       "      <td>59</td>\n",
       "      <td>22154</td>\n",
       "      <td>999.00</td>\n",
       "      <td>1.0</td>\n",
       "    </tr>\n",
       "    <tr>\n",
       "      <th>1</th>\n",
       "      <td>03.01.2013</td>\n",
       "      <td>0</td>\n",
       "      <td>25</td>\n",
       "      <td>2552</td>\n",
       "      <td>899.00</td>\n",
       "      <td>1.0</td>\n",
       "    </tr>\n",
       "    <tr>\n",
       "      <th>2</th>\n",
       "      <td>05.01.2013</td>\n",
       "      <td>0</td>\n",
       "      <td>25</td>\n",
       "      <td>2552</td>\n",
       "      <td>899.00</td>\n",
       "      <td>-1.0</td>\n",
       "    </tr>\n",
       "    <tr>\n",
       "      <th>3</th>\n",
       "      <td>06.01.2013</td>\n",
       "      <td>0</td>\n",
       "      <td>25</td>\n",
       "      <td>2554</td>\n",
       "      <td>1709.05</td>\n",
       "      <td>1.0</td>\n",
       "    </tr>\n",
       "    <tr>\n",
       "      <th>4</th>\n",
       "      <td>15.01.2013</td>\n",
       "      <td>0</td>\n",
       "      <td>25</td>\n",
       "      <td>2555</td>\n",
       "      <td>1099.00</td>\n",
       "      <td>1.0</td>\n",
       "    </tr>\n",
       "  </tbody>\n",
       "</table>\n",
       "</div>"
      ],
      "text/plain": [
       "         date  date_block_num  shop_id  item_id  item_price  item_cnt_day\n",
       "0  02.01.2013               0       59    22154      999.00           1.0\n",
       "1  03.01.2013               0       25     2552      899.00           1.0\n",
       "2  05.01.2013               0       25     2552      899.00          -1.0\n",
       "3  06.01.2013               0       25     2554     1709.05           1.0\n",
       "4  15.01.2013               0       25     2555     1099.00           1.0"
      ]
     },
     "execution_count": 2,
     "metadata": {},
     "output_type": "execute_result"
    }
   ],
   "source": [
    "train_data = pd.read_csv('../input/competitive-data-science-predict-future-sales/sales_train.csv')\n",
    "train_data.head()"
   ]
  },
  {
   "cell_type": "code",
   "execution_count": 3,
   "id": "7e8083aa",
   "metadata": {
    "execution": {
     "iopub.execute_input": "2022-09-11T13:02:30.614671Z",
     "iopub.status.busy": "2022-09-11T13:02:30.613946Z",
     "iopub.status.idle": "2022-09-11T13:02:30.638969Z",
     "shell.execute_reply": "2022-09-11T13:02:30.636945Z"
    },
    "papermill": {
     "duration": 0.037873,
     "end_time": "2022-09-11T13:02:30.641616",
     "exception": false,
     "start_time": "2022-09-11T13:02:30.603743",
     "status": "completed"
    },
    "tags": []
   },
   "outputs": [
    {
     "name": "stdout",
     "output_type": "stream",
     "text": [
      "<class 'pandas.core.frame.DataFrame'>\n",
      "RangeIndex: 2935849 entries, 0 to 2935848\n",
      "Data columns (total 6 columns):\n",
      " #   Column          Dtype  \n",
      "---  ------          -----  \n",
      " 0   date            object \n",
      " 1   date_block_num  int64  \n",
      " 2   shop_id         int64  \n",
      " 3   item_id         int64  \n",
      " 4   item_price      float64\n",
      " 5   item_cnt_day    float64\n",
      "dtypes: float64(2), int64(3), object(1)\n",
      "memory usage: 134.4+ MB\n"
     ]
    }
   ],
   "source": [
    "train_data.info()"
   ]
  },
  {
   "cell_type": "code",
   "execution_count": 4,
   "id": "8b8ea5c0",
   "metadata": {
    "execution": {
     "iopub.execute_input": "2022-09-11T13:02:30.661663Z",
     "iopub.status.busy": "2022-09-11T13:02:30.660965Z",
     "iopub.status.idle": "2022-09-11T13:02:30.820131Z",
     "shell.execute_reply": "2022-09-11T13:02:30.818912Z"
    },
    "papermill": {
     "duration": 0.172154,
     "end_time": "2022-09-11T13:02:30.822926",
     "exception": false,
     "start_time": "2022-09-11T13:02:30.650772",
     "status": "completed"
    },
    "tags": []
   },
   "outputs": [
    {
     "data": {
      "text/plain": [
       "date              0\n",
       "date_block_num    0\n",
       "shop_id           0\n",
       "item_id           0\n",
       "item_price        0\n",
       "item_cnt_day      0\n",
       "dtype: int64"
      ]
     },
     "execution_count": 4,
     "metadata": {},
     "output_type": "execute_result"
    }
   ],
   "source": [
    "train_data.isnull().sum()"
   ]
  },
  {
   "cell_type": "code",
   "execution_count": 5,
   "id": "dd8c03c3",
   "metadata": {
    "execution": {
     "iopub.execute_input": "2022-09-11T13:02:30.844282Z",
     "iopub.status.busy": "2022-09-11T13:02:30.843850Z",
     "iopub.status.idle": "2022-09-11T13:02:30.914776Z",
     "shell.execute_reply": "2022-09-11T13:02:30.913644Z"
    },
    "papermill": {
     "duration": 0.083888,
     "end_time": "2022-09-11T13:02:30.917118",
     "exception": false,
     "start_time": "2022-09-11T13:02:30.833230",
     "status": "completed"
    },
    "tags": []
   },
   "outputs": [
    {
     "data": {
      "text/html": [
       "<div>\n",
       "<style scoped>\n",
       "    .dataframe tbody tr th:only-of-type {\n",
       "        vertical-align: middle;\n",
       "    }\n",
       "\n",
       "    .dataframe tbody tr th {\n",
       "        vertical-align: top;\n",
       "    }\n",
       "\n",
       "    .dataframe thead th {\n",
       "        text-align: right;\n",
       "    }\n",
       "</style>\n",
       "<table border=\"1\" class=\"dataframe\">\n",
       "  <thead>\n",
       "    <tr style=\"text-align: right;\">\n",
       "      <th></th>\n",
       "      <th>item_name</th>\n",
       "      <th>item_id</th>\n",
       "      <th>item_category_id</th>\n",
       "    </tr>\n",
       "  </thead>\n",
       "  <tbody>\n",
       "    <tr>\n",
       "      <th>0</th>\n",
       "      <td>! ВО ВЛАСТИ НАВАЖДЕНИЯ (ПЛАСТ.)         D</td>\n",
       "      <td>0</td>\n",
       "      <td>40</td>\n",
       "    </tr>\n",
       "    <tr>\n",
       "      <th>1</th>\n",
       "      <td>!ABBYY FineReader 12 Professional Edition Full...</td>\n",
       "      <td>1</td>\n",
       "      <td>76</td>\n",
       "    </tr>\n",
       "    <tr>\n",
       "      <th>2</th>\n",
       "      <td>***В ЛУЧАХ СЛАВЫ   (UNV)                    D</td>\n",
       "      <td>2</td>\n",
       "      <td>40</td>\n",
       "    </tr>\n",
       "    <tr>\n",
       "      <th>3</th>\n",
       "      <td>***ГОЛУБАЯ ВОЛНА  (Univ)                      D</td>\n",
       "      <td>3</td>\n",
       "      <td>40</td>\n",
       "    </tr>\n",
       "    <tr>\n",
       "      <th>4</th>\n",
       "      <td>***КОРОБКА (СТЕКЛО)                       D</td>\n",
       "      <td>4</td>\n",
       "      <td>40</td>\n",
       "    </tr>\n",
       "  </tbody>\n",
       "</table>\n",
       "</div>"
      ],
      "text/plain": [
       "                                           item_name  item_id  \\\n",
       "0          ! ВО ВЛАСТИ НАВАЖДЕНИЯ (ПЛАСТ.)         D        0   \n",
       "1  !ABBYY FineReader 12 Professional Edition Full...        1   \n",
       "2      ***В ЛУЧАХ СЛАВЫ   (UNV)                    D        2   \n",
       "3    ***ГОЛУБАЯ ВОЛНА  (Univ)                      D        3   \n",
       "4        ***КОРОБКА (СТЕКЛО)                       D        4   \n",
       "\n",
       "   item_category_id  \n",
       "0                40  \n",
       "1                76  \n",
       "2                40  \n",
       "3                40  \n",
       "4                40  "
      ]
     },
     "execution_count": 5,
     "metadata": {},
     "output_type": "execute_result"
    }
   ],
   "source": [
    "items = pd.read_csv('../input/competitive-data-science-predict-future-sales/items.csv')\n",
    "items.head()"
   ]
  },
  {
   "cell_type": "code",
   "execution_count": 6,
   "id": "fc5bf0b5",
   "metadata": {
    "execution": {
     "iopub.execute_input": "2022-09-11T13:02:30.938964Z",
     "iopub.status.busy": "2022-09-11T13:02:30.937875Z",
     "iopub.status.idle": "2022-09-11T13:02:30.956946Z",
     "shell.execute_reply": "2022-09-11T13:02:30.955795Z"
    },
    "papermill": {
     "duration": 0.033059,
     "end_time": "2022-09-11T13:02:30.959891",
     "exception": false,
     "start_time": "2022-09-11T13:02:30.926832",
     "status": "completed"
    },
    "tags": []
   },
   "outputs": [
    {
     "data": {
      "text/html": [
       "<div>\n",
       "<style scoped>\n",
       "    .dataframe tbody tr th:only-of-type {\n",
       "        vertical-align: middle;\n",
       "    }\n",
       "\n",
       "    .dataframe tbody tr th {\n",
       "        vertical-align: top;\n",
       "    }\n",
       "\n",
       "    .dataframe thead th {\n",
       "        text-align: right;\n",
       "    }\n",
       "</style>\n",
       "<table border=\"1\" class=\"dataframe\">\n",
       "  <thead>\n",
       "    <tr style=\"text-align: right;\">\n",
       "      <th></th>\n",
       "      <th>item_category_name</th>\n",
       "      <th>item_category_id</th>\n",
       "    </tr>\n",
       "  </thead>\n",
       "  <tbody>\n",
       "    <tr>\n",
       "      <th>0</th>\n",
       "      <td>PC - Гарнитуры/Наушники</td>\n",
       "      <td>0</td>\n",
       "    </tr>\n",
       "    <tr>\n",
       "      <th>1</th>\n",
       "      <td>Аксессуары - PS2</td>\n",
       "      <td>1</td>\n",
       "    </tr>\n",
       "    <tr>\n",
       "      <th>2</th>\n",
       "      <td>Аксессуары - PS3</td>\n",
       "      <td>2</td>\n",
       "    </tr>\n",
       "    <tr>\n",
       "      <th>3</th>\n",
       "      <td>Аксессуары - PS4</td>\n",
       "      <td>3</td>\n",
       "    </tr>\n",
       "    <tr>\n",
       "      <th>4</th>\n",
       "      <td>Аксессуары - PSP</td>\n",
       "      <td>4</td>\n",
       "    </tr>\n",
       "  </tbody>\n",
       "</table>\n",
       "</div>"
      ],
      "text/plain": [
       "        item_category_name  item_category_id\n",
       "0  PC - Гарнитуры/Наушники                 0\n",
       "1         Аксессуары - PS2                 1\n",
       "2         Аксессуары - PS3                 2\n",
       "3         Аксессуары - PS4                 3\n",
       "4         Аксессуары - PSP                 4"
      ]
     },
     "execution_count": 6,
     "metadata": {},
     "output_type": "execute_result"
    }
   ],
   "source": [
    "item_cats = pd.read_csv('../input/competitive-data-science-predict-future-sales/item_categories.csv')\n",
    "item_cats.head()"
   ]
  },
  {
   "cell_type": "code",
   "execution_count": 7,
   "id": "60e0df15",
   "metadata": {
    "execution": {
     "iopub.execute_input": "2022-09-11T13:02:30.982137Z",
     "iopub.status.busy": "2022-09-11T13:02:30.981715Z",
     "iopub.status.idle": "2022-09-11T13:02:30.995697Z",
     "shell.execute_reply": "2022-09-11T13:02:30.994867Z"
    },
    "papermill": {
     "duration": 0.026964,
     "end_time": "2022-09-11T13:02:30.997749",
     "exception": false,
     "start_time": "2022-09-11T13:02:30.970785",
     "status": "completed"
    },
    "tags": []
   },
   "outputs": [
    {
     "data": {
      "text/html": [
       "<div>\n",
       "<style scoped>\n",
       "    .dataframe tbody tr th:only-of-type {\n",
       "        vertical-align: middle;\n",
       "    }\n",
       "\n",
       "    .dataframe tbody tr th {\n",
       "        vertical-align: top;\n",
       "    }\n",
       "\n",
       "    .dataframe thead th {\n",
       "        text-align: right;\n",
       "    }\n",
       "</style>\n",
       "<table border=\"1\" class=\"dataframe\">\n",
       "  <thead>\n",
       "    <tr style=\"text-align: right;\">\n",
       "      <th></th>\n",
       "      <th>shop_name</th>\n",
       "      <th>shop_id</th>\n",
       "    </tr>\n",
       "  </thead>\n",
       "  <tbody>\n",
       "    <tr>\n",
       "      <th>0</th>\n",
       "      <td>!Якутск Орджоникидзе, 56 фран</td>\n",
       "      <td>0</td>\n",
       "    </tr>\n",
       "    <tr>\n",
       "      <th>1</th>\n",
       "      <td>!Якутск ТЦ \"Центральный\" фран</td>\n",
       "      <td>1</td>\n",
       "    </tr>\n",
       "    <tr>\n",
       "      <th>2</th>\n",
       "      <td>Адыгея ТЦ \"Мега\"</td>\n",
       "      <td>2</td>\n",
       "    </tr>\n",
       "    <tr>\n",
       "      <th>3</th>\n",
       "      <td>Балашиха ТРК \"Октябрь-Киномир\"</td>\n",
       "      <td>3</td>\n",
       "    </tr>\n",
       "    <tr>\n",
       "      <th>4</th>\n",
       "      <td>Волжский ТЦ \"Волга Молл\"</td>\n",
       "      <td>4</td>\n",
       "    </tr>\n",
       "  </tbody>\n",
       "</table>\n",
       "</div>"
      ],
      "text/plain": [
       "                        shop_name  shop_id\n",
       "0   !Якутск Орджоникидзе, 56 фран        0\n",
       "1   !Якутск ТЦ \"Центральный\" фран        1\n",
       "2                Адыгея ТЦ \"Мега\"        2\n",
       "3  Балашиха ТРК \"Октябрь-Киномир\"        3\n",
       "4        Волжский ТЦ \"Волга Молл\"        4"
      ]
     },
     "execution_count": 7,
     "metadata": {},
     "output_type": "execute_result"
    }
   ],
   "source": [
    "shops = pd.read_csv('../input/competitive-data-science-predict-future-sales/shops.csv')\n",
    "shops.head()"
   ]
  },
  {
   "cell_type": "code",
   "execution_count": 8,
   "id": "34553159",
   "metadata": {
    "execution": {
     "iopub.execute_input": "2022-09-11T13:02:31.019766Z",
     "iopub.status.busy": "2022-09-11T13:02:31.019008Z",
     "iopub.status.idle": "2022-09-11T13:02:31.120189Z",
     "shell.execute_reply": "2022-09-11T13:02:31.119073Z"
    },
    "papermill": {
     "duration": 0.114941,
     "end_time": "2022-09-11T13:02:31.122684",
     "exception": false,
     "start_time": "2022-09-11T13:02:31.007743",
     "status": "completed"
    },
    "tags": []
   },
   "outputs": [
    {
     "data": {
      "text/html": [
       "<div>\n",
       "<style scoped>\n",
       "    .dataframe tbody tr th:only-of-type {\n",
       "        vertical-align: middle;\n",
       "    }\n",
       "\n",
       "    .dataframe tbody tr th {\n",
       "        vertical-align: top;\n",
       "    }\n",
       "\n",
       "    .dataframe thead th {\n",
       "        text-align: right;\n",
       "    }\n",
       "</style>\n",
       "<table border=\"1\" class=\"dataframe\">\n",
       "  <thead>\n",
       "    <tr style=\"text-align: right;\">\n",
       "      <th></th>\n",
       "      <th>ID</th>\n",
       "      <th>shop_id</th>\n",
       "      <th>item_id</th>\n",
       "    </tr>\n",
       "  </thead>\n",
       "  <tbody>\n",
       "    <tr>\n",
       "      <th>0</th>\n",
       "      <td>0</td>\n",
       "      <td>5</td>\n",
       "      <td>5037</td>\n",
       "    </tr>\n",
       "    <tr>\n",
       "      <th>1</th>\n",
       "      <td>1</td>\n",
       "      <td>5</td>\n",
       "      <td>5320</td>\n",
       "    </tr>\n",
       "    <tr>\n",
       "      <th>2</th>\n",
       "      <td>2</td>\n",
       "      <td>5</td>\n",
       "      <td>5233</td>\n",
       "    </tr>\n",
       "    <tr>\n",
       "      <th>3</th>\n",
       "      <td>3</td>\n",
       "      <td>5</td>\n",
       "      <td>5232</td>\n",
       "    </tr>\n",
       "    <tr>\n",
       "      <th>4</th>\n",
       "      <td>4</td>\n",
       "      <td>5</td>\n",
       "      <td>5268</td>\n",
       "    </tr>\n",
       "  </tbody>\n",
       "</table>\n",
       "</div>"
      ],
      "text/plain": [
       "   ID  shop_id  item_id\n",
       "0   0        5     5037\n",
       "1   1        5     5320\n",
       "2   2        5     5233\n",
       "3   3        5     5232\n",
       "4   4        5     5268"
      ]
     },
     "execution_count": 8,
     "metadata": {},
     "output_type": "execute_result"
    }
   ],
   "source": [
    "test_data = pd.read_csv('../input/competitive-data-science-predict-future-sales/test.csv')\n",
    "test_data.head()"
   ]
  },
  {
   "cell_type": "code",
   "execution_count": 9,
   "id": "f3a9af09",
   "metadata": {
    "execution": {
     "iopub.execute_input": "2022-09-11T13:02:31.146185Z",
     "iopub.status.busy": "2022-09-11T13:02:31.145229Z",
     "iopub.status.idle": "2022-09-11T13:02:31.564519Z",
     "shell.execute_reply": "2022-09-11T13:02:31.563371Z"
    },
    "papermill": {
     "duration": 0.433546,
     "end_time": "2022-09-11T13:02:31.566962",
     "exception": false,
     "start_time": "2022-09-11T13:02:31.133416",
     "status": "completed"
    },
    "tags": []
   },
   "outputs": [
    {
     "data": {
      "text/plain": [
       "0         2013-01-02\n",
       "1         2013-01-03\n",
       "2         2013-01-05\n",
       "3         2013-01-06\n",
       "4         2013-01-15\n",
       "             ...    \n",
       "2935844   2015-10-10\n",
       "2935845   2015-10-09\n",
       "2935846   2015-10-14\n",
       "2935847   2015-10-22\n",
       "2935848   2015-10-03\n",
       "Name: date, Length: 2935849, dtype: datetime64[ns]"
      ]
     },
     "execution_count": 9,
     "metadata": {},
     "output_type": "execute_result"
    }
   ],
   "source": [
    "train_data['date'] =  pd.to_datetime(train_data['date'],format = '%d.%m.%Y')\n",
    "train_data['date']"
   ]
  },
  {
   "cell_type": "code",
   "execution_count": 10,
   "id": "3857f9e7",
   "metadata": {
    "execution": {
     "iopub.execute_input": "2022-09-11T13:02:31.589350Z",
     "iopub.status.busy": "2022-09-11T13:02:31.588944Z",
     "iopub.status.idle": "2022-09-11T13:02:32.763525Z",
     "shell.execute_reply": "2022-09-11T13:02:32.762334Z"
    },
    "papermill": {
     "duration": 1.189156,
     "end_time": "2022-09-11T13:02:32.766462",
     "exception": false,
     "start_time": "2022-09-11T13:02:31.577306",
     "status": "completed"
    },
    "tags": []
   },
   "outputs": [],
   "source": [
    "train_data = train_data.join(items.set_index('item_id'), on = 'item_id')\n",
    "train_data = train_data.join(item_cats.set_index('item_category_id'), on = 'item_category_id')\n",
    "train_data = train_data.join(shops.set_index('shop_id'), on = 'shop_id')"
   ]
  },
  {
   "cell_type": "code",
   "execution_count": 11,
   "id": "7088e885",
   "metadata": {
    "execution": {
     "iopub.execute_input": "2022-09-11T13:02:32.789506Z",
     "iopub.status.busy": "2022-09-11T13:02:32.789131Z",
     "iopub.status.idle": "2022-09-11T13:02:44.172146Z",
     "shell.execute_reply": "2022-09-11T13:02:44.170974Z"
    },
    "papermill": {
     "duration": 11.397545,
     "end_time": "2022-09-11T13:02:44.174726",
     "exception": false,
     "start_time": "2022-09-11T13:02:32.777181",
     "status": "completed"
    },
    "tags": []
   },
   "outputs": [
    {
     "data": {
      "text/plain": [
       "<AxesSubplot:xlabel='item_price', ylabel='item_cnt_day'>"
      ]
     },
     "execution_count": 11,
     "metadata": {},
     "output_type": "execute_result"
    },
    {
     "data": {
      "image/png": "[encoded data removed]",
      "text/plain": [
       "<Figure size 432x288 with 1 Axes>"
      ]
     },
     "metadata": {
      "needs_background": "light"
     },
     "output_type": "display_data"
    }
   ],
   "source": [
    "import seaborn as sns\n",
    "sns.scatterplot(data = train_data, x = 'item_price', y = 'item_cnt_day')"
   ]
  },
  {
   "cell_type": "markdown",
   "id": "73fe4729",
   "metadata": {
    "papermill": {
     "duration": 0.010277,
     "end_time": "2022-09-11T13:02:44.195893",
     "exception": false,
     "start_time": "2022-09-11T13:02:44.185616",
     "status": "completed"
    },
    "tags": []
   },
   "source": [
    "**There are outliers here!**"
   ]
  },
  {
   "cell_type": "code",
   "execution_count": 12,
   "id": "54f98528",
   "metadata": {
    "execution": {
     "iopub.execute_input": "2022-09-11T13:02:44.219056Z",
     "iopub.status.busy": "2022-09-11T13:02:44.218676Z",
     "iopub.status.idle": "2022-09-11T13:02:44.665847Z",
     "shell.execute_reply": "2022-09-11T13:02:44.664684Z"
    },
    "papermill": {
     "duration": 0.462118,
     "end_time": "2022-09-11T13:02:44.668696",
     "exception": false,
     "start_time": "2022-09-11T13:02:44.206578",
     "status": "completed"
    },
    "tags": []
   },
   "outputs": [
    {
     "data": {
      "text/html": [
       "<div>\n",
       "<style scoped>\n",
       "    .dataframe tbody tr th:only-of-type {\n",
       "        vertical-align: middle;\n",
       "    }\n",
       "\n",
       "    .dataframe tbody tr th {\n",
       "        vertical-align: top;\n",
       "    }\n",
       "\n",
       "    .dataframe thead th {\n",
       "        text-align: right;\n",
       "    }\n",
       "</style>\n",
       "<table border=\"1\" class=\"dataframe\">\n",
       "  <thead>\n",
       "    <tr style=\"text-align: right;\">\n",
       "      <th></th>\n",
       "      <th>date</th>\n",
       "      <th>date_block_num</th>\n",
       "      <th>shop_id</th>\n",
       "      <th>item_id</th>\n",
       "      <th>item_price</th>\n",
       "      <th>item_cnt_day</th>\n",
       "      <th>item_name</th>\n",
       "      <th>item_category_id</th>\n",
       "      <th>item_category_name</th>\n",
       "      <th>shop_name</th>\n",
       "    </tr>\n",
       "  </thead>\n",
       "  <tbody>\n",
       "    <tr>\n",
       "      <th>1163158</th>\n",
       "      <td>2013-12-13</td>\n",
       "      <td>11</td>\n",
       "      <td>12</td>\n",
       "      <td>6066</td>\n",
       "      <td>307980.0</td>\n",
       "      <td>1.0</td>\n",
       "      <td>Radmin 3  - 522 лиц.</td>\n",
       "      <td>75</td>\n",
       "      <td>Программы - Для дома и офиса</td>\n",
       "      <td>Интернет-магазин ЧС</td>\n",
       "    </tr>\n",
       "  </tbody>\n",
       "</table>\n",
       "</div>"
      ],
      "text/plain": [
       "              date  date_block_num  shop_id  item_id  item_price  \\\n",
       "1163158 2013-12-13              11       12     6066    307980.0   \n",
       "\n",
       "         item_cnt_day             item_name  item_category_id  \\\n",
       "1163158           1.0  Radmin 3  - 522 лиц.                75   \n",
       "\n",
       "                   item_category_name            shop_name  \n",
       "1163158  Программы - Для дома и офиса  Интернет-магазин ЧС  "
      ]
     },
     "execution_count": 12,
     "metadata": {},
     "output_type": "execute_result"
    }
   ],
   "source": [
    "train_data.loc[train_data.item_price > 300000]"
   ]
  },
  {
   "cell_type": "code",
   "execution_count": 13,
   "id": "9c5196c1",
   "metadata": {
    "execution": {
     "iopub.execute_input": "2022-09-11T13:02:44.692036Z",
     "iopub.status.busy": "2022-09-11T13:02:44.691627Z",
     "iopub.status.idle": "2022-09-11T13:02:44.711433Z",
     "shell.execute_reply": "2022-09-11T13:02:44.710239Z"
    },
    "papermill": {
     "duration": 0.03447,
     "end_time": "2022-09-11T13:02:44.714000",
     "exception": false,
     "start_time": "2022-09-11T13:02:44.679530",
     "status": "completed"
    },
    "tags": []
   },
   "outputs": [
    {
     "data": {
      "text/html": [
       "<div>\n",
       "<style scoped>\n",
       "    .dataframe tbody tr th:only-of-type {\n",
       "        vertical-align: middle;\n",
       "    }\n",
       "\n",
       "    .dataframe tbody tr th {\n",
       "        vertical-align: top;\n",
       "    }\n",
       "\n",
       "    .dataframe thead th {\n",
       "        text-align: right;\n",
       "    }\n",
       "</style>\n",
       "<table border=\"1\" class=\"dataframe\">\n",
       "  <thead>\n",
       "    <tr style=\"text-align: right;\">\n",
       "      <th></th>\n",
       "      <th>date</th>\n",
       "      <th>date_block_num</th>\n",
       "      <th>shop_id</th>\n",
       "      <th>item_id</th>\n",
       "      <th>item_price</th>\n",
       "      <th>item_cnt_day</th>\n",
       "      <th>item_name</th>\n",
       "      <th>item_category_id</th>\n",
       "      <th>item_category_name</th>\n",
       "      <th>shop_name</th>\n",
       "    </tr>\n",
       "  </thead>\n",
       "  <tbody>\n",
       "    <tr>\n",
       "      <th>2326930</th>\n",
       "      <td>2015-01-15</td>\n",
       "      <td>24</td>\n",
       "      <td>12</td>\n",
       "      <td>20949</td>\n",
       "      <td>4.000000</td>\n",
       "      <td>1000.0</td>\n",
       "      <td>Фирменный пакет майка 1С Интерес белый (34*42)...</td>\n",
       "      <td>71</td>\n",
       "      <td>Подарки - Сумки, Альбомы, Коврики д/мыши</td>\n",
       "      <td>Интернет-магазин ЧС</td>\n",
       "    </tr>\n",
       "    <tr>\n",
       "      <th>2909818</th>\n",
       "      <td>2015-10-28</td>\n",
       "      <td>33</td>\n",
       "      <td>12</td>\n",
       "      <td>11373</td>\n",
       "      <td>0.908714</td>\n",
       "      <td>2169.0</td>\n",
       "      <td>Доставка до пункта выдачи (Boxberry)</td>\n",
       "      <td>9</td>\n",
       "      <td>Доставка товара</td>\n",
       "      <td>Интернет-магазин ЧС</td>\n",
       "    </tr>\n",
       "  </tbody>\n",
       "</table>\n",
       "</div>"
      ],
      "text/plain": [
       "              date  date_block_num  shop_id  item_id  item_price  \\\n",
       "2326930 2015-01-15              24       12    20949    4.000000   \n",
       "2909818 2015-10-28              33       12    11373    0.908714   \n",
       "\n",
       "         item_cnt_day                                          item_name  \\\n",
       "2326930        1000.0  Фирменный пакет майка 1С Интерес белый (34*42)...   \n",
       "2909818        2169.0               Доставка до пункта выдачи (Boxberry)   \n",
       "\n",
       "         item_category_id                        item_category_name  \\\n",
       "2326930                71  Подарки - Сумки, Альбомы, Коврики д/мыши   \n",
       "2909818                 9                           Доставка товара   \n",
       "\n",
       "                   shop_name  \n",
       "2326930  Интернет-магазин ЧС  \n",
       "2909818  Интернет-магазин ЧС  "
      ]
     },
     "execution_count": 13,
     "metadata": {},
     "output_type": "execute_result"
    }
   ],
   "source": [
    "train_data.loc[train_data.item_cnt_day > 900]"
   ]
  },
  {
   "cell_type": "code",
   "execution_count": 14,
   "id": "57790246",
   "metadata": {
    "execution": {
     "iopub.execute_input": "2022-09-11T13:02:44.738463Z",
     "iopub.status.busy": "2022-09-11T13:02:44.738038Z",
     "iopub.status.idle": "2022-09-11T13:02:45.060445Z",
     "shell.execute_reply": "2022-09-11T13:02:45.058836Z"
    },
    "papermill": {
     "duration": 0.337936,
     "end_time": "2022-09-11T13:02:45.063019",
     "exception": false,
     "start_time": "2022-09-11T13:02:44.725083",
     "status": "completed"
    },
    "tags": []
   },
   "outputs": [],
   "source": [
    "train_data = train_data.drop(labels = [2326930, 2909818, 1163158], axis = 0)"
   ]
  },
  {
   "cell_type": "code",
   "execution_count": 15,
   "id": "2e7b007a",
   "metadata": {
    "execution": {
     "iopub.execute_input": "2022-09-11T13:02:45.086955Z",
     "iopub.status.busy": "2022-09-11T13:02:45.086537Z",
     "iopub.status.idle": "2022-09-11T13:03:19.876427Z",
     "shell.execute_reply": "2022-09-11T13:03:19.875119Z"
    },
    "papermill": {
     "duration": 34.804791,
     "end_time": "2022-09-11T13:03:19.879108",
     "exception": false,
     "start_time": "2022-09-11T13:02:45.074317",
     "status": "completed"
    },
    "tags": []
   },
   "outputs": [
    {
     "data": {
      "text/plain": [
       "<AxesSubplot:xlabel='date_block_num', ylabel='item_cnt_day'>"
      ]
     },
     "execution_count": 15,
     "metadata": {},
     "output_type": "execute_result"
    },
    {
     "data": {
      "image/png": "[encoded data removed]",
      "text/plain": [
       "<Figure size 1440x720 with 1 Axes>"
      ]
     },
     "metadata": {
      "needs_background": "light"
     },
     "output_type": "display_data"
    }
   ],
   "source": [
    "import matplotlib.pyplot as plt\n",
    "plt.figure(figsize = (20,10))\n",
    "sns.barplot(data = train_data, x = 'date_block_num', y = 'item_cnt_day')"
   ]
  },
  {
   "cell_type": "code",
   "execution_count": 16,
   "id": "3d35055d",
   "metadata": {
    "execution": {
     "iopub.execute_input": "2022-09-11T13:03:19.904639Z",
     "iopub.status.busy": "2022-09-11T13:03:19.903900Z",
     "iopub.status.idle": "2022-09-11T13:03:20.096184Z",
     "shell.execute_reply": "2022-09-11T13:03:20.095266Z"
    },
    "papermill": {
     "duration": 0.207471,
     "end_time": "2022-09-11T13:03:20.098517",
     "exception": false,
     "start_time": "2022-09-11T13:03:19.891046",
     "status": "completed"
    },
    "tags": []
   },
   "outputs": [
    {
     "data": {
      "text/plain": [
       "Фирменный пакет майка 1С Интерес белый (34*42) 45 мкм                                                   31339\n",
       "Playstation Store пополнение бумажника: Карта оплаты 1000 руб.                                           9408\n",
       "Прием денежных средств для 1С-Онлайн                                                                     9067\n",
       "Diablo III [PC, Jewel, русская версия]                                                                   7479\n",
       "Kaspersky Internet Security Multi-Device Russian Edition. 2-Device 1 year Renewal Box                    6853\n",
       "                                                                                                        ...  \n",
       "1С:Образовательная коллекция. Изучаем единицы измерения! Интерактивный тренажёр [PC, Цифровая версия        1\n",
       "Смешарики. Калейдоскоп игр 3. Романтика [PC, Цифровая версия]                                               1\n",
       "Сдаем ЕГЭ по обществознанию 2013 [PC, Цифровая версия]                                                      1\n",
       "The Sims Medieval: Пираты и Знать [PC, Цифровая версия]                                                     1\n",
       "WARHAMMER MINIATURES: Stormcast Eternals Paladins арт. 96-12                                                1\n",
       "Name: item_name, Length: 21806, dtype: int64"
      ]
     },
     "execution_count": 16,
     "metadata": {},
     "output_type": "execute_result"
    }
   ],
   "source": [
    "train_data.item_name.value_counts()"
   ]
  },
  {
   "cell_type": "code",
   "execution_count": 17,
   "id": "4d30c8d9",
   "metadata": {
    "execution": {
     "iopub.execute_input": "2022-09-11T13:03:20.124514Z",
     "iopub.status.busy": "2022-09-11T13:03:20.123395Z",
     "iopub.status.idle": "2022-09-11T13:03:20.251610Z",
     "shell.execute_reply": "2022-09-11T13:03:20.250405Z"
    },
    "papermill": {
     "duration": 0.144063,
     "end_time": "2022-09-11T13:03:20.254198",
     "exception": false,
     "start_time": "2022-09-11T13:03:20.110135",
     "status": "completed"
    },
    "tags": []
   },
   "outputs": [
    {
     "data": {
      "text/plain": [
       "Кино - DVD                             564652\n",
       "Игры PC - Стандартные издания          351591\n",
       "Музыка - CD локального производства    339585\n",
       "Игры - PS3                             208219\n",
       "Кино - Blu-Ray                         192674\n",
       "                                        ...  \n",
       "Книги - Путеводители                        3\n",
       "Аксессуары - PS2                            2\n",
       "Книги - Открытки                            2\n",
       "Книги - Познавательная литература           1\n",
       "Игровые консоли - PS2                       1\n",
       "Name: item_category_name, Length: 84, dtype: int64"
      ]
     },
     "execution_count": 17,
     "metadata": {},
     "output_type": "execute_result"
    }
   ],
   "source": [
    "train_data.item_category_name.value_counts()"
   ]
  },
  {
   "cell_type": "code",
   "execution_count": 18,
   "id": "df035e86",
   "metadata": {
    "execution": {
     "iopub.execute_input": "2022-09-11T13:03:20.279779Z",
     "iopub.status.busy": "2022-09-11T13:03:20.279399Z",
     "iopub.status.idle": "2022-09-11T13:03:20.407996Z",
     "shell.execute_reply": "2022-09-11T13:03:20.406937Z"
    },
    "papermill": {
     "duration": 0.144406,
     "end_time": "2022-09-11T13:03:20.410386",
     "exception": false,
     "start_time": "2022-09-11T13:03:20.265980",
     "status": "completed"
    },
    "tags": []
   },
   "outputs": [
    {
     "data": {
      "text/plain": [
       "Москва ТЦ \"Семеновский\"                            235636\n",
       "Москва ТРК \"Атриум\"                                186104\n",
       "Химки ТЦ \"Мега\"                                    143480\n",
       "Москва ТЦ \"МЕГА Теплый Стан\" II                    142234\n",
       "Якутск Орджоникидзе, 56                            117428\n",
       "СПб ТК \"Невский Центр\"                             109253\n",
       "Москва ТЦ \"МЕГА Белая Дача II\"                     105366\n",
       "Воронеж (Плехановская, 13)                          82663\n",
       "Якутск ТЦ \"Центральный\"                             71441\n",
       "Чехов ТРЦ \"Карнавал\"                                69573\n",
       "Сергиев Посад ТЦ \"7Я\"                               66321\n",
       "Тюмень ТЦ \"Гудвин\"                                  65173\n",
       "Курск ТЦ \"Пушкинский\"                               63911\n",
       "Калуга ТРЦ \"XXI век\"                                59511\n",
       "Н.Новгород ТРЦ \"Фантастика\"                         58445\n",
       "Москва МТРЦ \"Афи Молл\"                              58133\n",
       "Воронеж ТРЦ \"Максимир\"                              58076\n",
       "Сургут ТРЦ \"Сити Молл\"                              56695\n",
       "Москва ТЦ \"Ареал\" (Беляево)                         53910\n",
       "Красноярск ТЦ \"Июнь\"                                53227\n",
       "Москва ТК \"Буденовский\" (пав.К7)                    53032\n",
       "Уфа ТЦ \"Семья\" 2                                    52921\n",
       "Коломна ТЦ \"Рио\"                                    52734\n",
       "Москва ТЦ \"Перловский\"                              50860\n",
       "Москва ТЦ \"Новый век\" (Новокосино)                  49225\n",
       "Омск ТЦ \"Мега\"                                      46013\n",
       "Москва Магазин С21                                  45434\n",
       "Тюмень ТЦ \"Зеленый Берег\"                           44433\n",
       "Уфа ТК \"Центральный\"                                43502\n",
       "Ярославль ТЦ \"Альтаир\"                              42108\n",
       "РостовНаДону ТЦ \"Мега\"                              41967\n",
       "Новосибирск ТЦ \"Мега\"                               39638\n",
       "Самара ТЦ \"Мелодия\"                                 39530\n",
       "СПб ТК \"Сенная\"                                     39282\n",
       "Волжский ТЦ \"Волга Молл\"                            38242\n",
       "Вологда ТРЦ \"Мармелад\"                              38179\n",
       "Казань ТЦ \"ПаркХаус\" II                             36979\n",
       "Самара ТЦ \"ПаркХаус\"                                35891\n",
       "Цифровой склад 1С-Онлайн                            34769\n",
       "Интернет-магазин ЧС                                 34691\n",
       "Адыгея ТЦ \"Мега\"                                    25991\n",
       "Балашиха ТРК \"Октябрь-Киномир\"                      25532\n",
       "Красноярск ТЦ \"Взлетка Плаза\"                       22950\n",
       "Томск ТРЦ \"Изумрудный Город\"                        21612\n",
       "Жуковский ул. Чкалова 39м?                          21397\n",
       "Казань ТЦ \"Бехетле\"                                 17824\n",
       "Тюмень ТРЦ \"Кристалл\"                               15849\n",
       "РостовНаДону ТРК \"Мегацентр Горизонт\"               13440\n",
       "!Якутск Орджоникидзе, 56 фран                        9857\n",
       "Москва ТЦ \"Серебряный Дом\"                           7947\n",
       "Москва ТК \"Буденовский\" (пав.А2)                     6963\n",
       "Н.Новгород ТРЦ \"РИО\"                                 5752\n",
       "!Якутск ТЦ \"Центральный\" фран                        5678\n",
       "Мытищи ТРК \"XL-3\"                                    5027\n",
       "РостовНаДону ТРК \"Мегацентр Горизонт\" Островной      4257\n",
       "Выездная Торговля                                    3751\n",
       "Воронеж ТРЦ Сити-Парк \"Град\"                         3412\n",
       "Москва \"Распродажа\"                                  1792\n",
       "Жуковский ул. Чкалова 39м²                            499\n",
       "Новосибирск ТРЦ \"Галерея Новосибирск\"                 306\n",
       "Name: shop_name, dtype: int64"
      ]
     },
     "execution_count": 18,
     "metadata": {},
     "output_type": "execute_result"
    }
   ],
   "source": [
    "train_data.shop_name.value_counts()"
   ]
  },
  {
   "cell_type": "code",
   "execution_count": 19,
   "id": "d7c2eec6",
   "metadata": {
    "execution": {
     "iopub.execute_input": "2022-09-11T13:03:20.436602Z",
     "iopub.status.busy": "2022-09-11T13:03:20.436229Z",
     "iopub.status.idle": "2022-09-11T13:03:22.266502Z",
     "shell.execute_reply": "2022-09-11T13:03:22.265239Z"
    },
    "papermill": {
     "duration": 1.846542,
     "end_time": "2022-09-11T13:03:22.269057",
     "exception": false,
     "start_time": "2022-09-11T13:03:20.422515",
     "status": "completed"
    },
    "tags": []
   },
   "outputs": [
    {
     "data": {
      "text/html": [
       "<div>\n",
       "<style scoped>\n",
       "    .dataframe tbody tr th:only-of-type {\n",
       "        vertical-align: middle;\n",
       "    }\n",
       "\n",
       "    .dataframe tbody tr th {\n",
       "        vertical-align: top;\n",
       "    }\n",
       "\n",
       "    .dataframe thead th {\n",
       "        text-align: right;\n",
       "    }\n",
       "</style>\n",
       "<table border=\"1\" class=\"dataframe\">\n",
       "  <thead>\n",
       "    <tr style=\"text-align: right;\">\n",
       "      <th></th>\n",
       "      <th>date_block_num</th>\n",
       "      <th>shop_id</th>\n",
       "      <th>item_id</th>\n",
       "      <th>item_price</th>\n",
       "      <th>item_cnt_day</th>\n",
       "      <th>item_category_id</th>\n",
       "      <th>item_category_name</th>\n",
       "      <th>shop_name</th>\n",
       "    </tr>\n",
       "  </thead>\n",
       "  <tbody>\n",
       "    <tr>\n",
       "      <th>0</th>\n",
       "      <td>0</td>\n",
       "      <td>59</td>\n",
       "      <td>22154</td>\n",
       "      <td>999.00</td>\n",
       "      <td>1.0</td>\n",
       "      <td>37</td>\n",
       "      <td>37</td>\n",
       "      <td>59</td>\n",
       "    </tr>\n",
       "    <tr>\n",
       "      <th>1</th>\n",
       "      <td>0</td>\n",
       "      <td>25</td>\n",
       "      <td>2552</td>\n",
       "      <td>899.00</td>\n",
       "      <td>1.0</td>\n",
       "      <td>58</td>\n",
       "      <td>58</td>\n",
       "      <td>25</td>\n",
       "    </tr>\n",
       "    <tr>\n",
       "      <th>2</th>\n",
       "      <td>0</td>\n",
       "      <td>25</td>\n",
       "      <td>2552</td>\n",
       "      <td>899.00</td>\n",
       "      <td>-1.0</td>\n",
       "      <td>58</td>\n",
       "      <td>58</td>\n",
       "      <td>25</td>\n",
       "    </tr>\n",
       "    <tr>\n",
       "      <th>3</th>\n",
       "      <td>0</td>\n",
       "      <td>25</td>\n",
       "      <td>2554</td>\n",
       "      <td>1709.05</td>\n",
       "      <td>1.0</td>\n",
       "      <td>58</td>\n",
       "      <td>58</td>\n",
       "      <td>25</td>\n",
       "    </tr>\n",
       "    <tr>\n",
       "      <th>4</th>\n",
       "      <td>0</td>\n",
       "      <td>25</td>\n",
       "      <td>2555</td>\n",
       "      <td>1099.00</td>\n",
       "      <td>1.0</td>\n",
       "      <td>56</td>\n",
       "      <td>56</td>\n",
       "      <td>25</td>\n",
       "    </tr>\n",
       "    <tr>\n",
       "      <th>...</th>\n",
       "      <td>...</td>\n",
       "      <td>...</td>\n",
       "      <td>...</td>\n",
       "      <td>...</td>\n",
       "      <td>...</td>\n",
       "      <td>...</td>\n",
       "      <td>...</td>\n",
       "      <td>...</td>\n",
       "    </tr>\n",
       "    <tr>\n",
       "      <th>2935844</th>\n",
       "      <td>33</td>\n",
       "      <td>25</td>\n",
       "      <td>7409</td>\n",
       "      <td>299.00</td>\n",
       "      <td>1.0</td>\n",
       "      <td>55</td>\n",
       "      <td>55</td>\n",
       "      <td>25</td>\n",
       "    </tr>\n",
       "    <tr>\n",
       "      <th>2935845</th>\n",
       "      <td>33</td>\n",
       "      <td>25</td>\n",
       "      <td>7460</td>\n",
       "      <td>299.00</td>\n",
       "      <td>1.0</td>\n",
       "      <td>55</td>\n",
       "      <td>55</td>\n",
       "      <td>25</td>\n",
       "    </tr>\n",
       "    <tr>\n",
       "      <th>2935846</th>\n",
       "      <td>33</td>\n",
       "      <td>25</td>\n",
       "      <td>7459</td>\n",
       "      <td>349.00</td>\n",
       "      <td>1.0</td>\n",
       "      <td>55</td>\n",
       "      <td>55</td>\n",
       "      <td>25</td>\n",
       "    </tr>\n",
       "    <tr>\n",
       "      <th>2935847</th>\n",
       "      <td>33</td>\n",
       "      <td>25</td>\n",
       "      <td>7440</td>\n",
       "      <td>299.00</td>\n",
       "      <td>1.0</td>\n",
       "      <td>57</td>\n",
       "      <td>57</td>\n",
       "      <td>25</td>\n",
       "    </tr>\n",
       "    <tr>\n",
       "      <th>2935848</th>\n",
       "      <td>33</td>\n",
       "      <td>25</td>\n",
       "      <td>7460</td>\n",
       "      <td>299.00</td>\n",
       "      <td>1.0</td>\n",
       "      <td>55</td>\n",
       "      <td>55</td>\n",
       "      <td>25</td>\n",
       "    </tr>\n",
       "  </tbody>\n",
       "</table>\n",
       "<p>2935846 rows × 8 columns</p>\n",
       "</div>"
      ],
      "text/plain": [
       "         date_block_num  shop_id  item_id  item_price  item_cnt_day  \\\n",
       "0                     0       59    22154      999.00           1.0   \n",
       "1                     0       25     2552      899.00           1.0   \n",
       "2                     0       25     2552      899.00          -1.0   \n",
       "3                     0       25     2554     1709.05           1.0   \n",
       "4                     0       25     2555     1099.00           1.0   \n",
       "...                 ...      ...      ...         ...           ...   \n",
       "2935844              33       25     7409      299.00           1.0   \n",
       "2935845              33       25     7460      299.00           1.0   \n",
       "2935846              33       25     7459      349.00           1.0   \n",
       "2935847              33       25     7440      299.00           1.0   \n",
       "2935848              33       25     7460      299.00           1.0   \n",
       "\n",
       "         item_category_id  item_category_name  shop_name  \n",
       "0                      37                  37         59  \n",
       "1                      58                  58         25  \n",
       "2                      58                  58         25  \n",
       "3                      58                  58         25  \n",
       "4                      56                  56         25  \n",
       "...                   ...                 ...        ...  \n",
       "2935844                55                  55         25  \n",
       "2935845                55                  55         25  \n",
       "2935846                55                  55         25  \n",
       "2935847                57                  57         25  \n",
       "2935848                55                  55         25  \n",
       "\n",
       "[2935846 rows x 8 columns]"
      ]
     },
     "execution_count": 19,
     "metadata": {},
     "output_type": "execute_result"
    }
   ],
   "source": [
    "from sklearn.preprocessing import LabelEncoder\n",
    "\n",
    "lbl_encoder = LabelEncoder()\n",
    "train_data['item_category_name'] = lbl_encoder.fit_transform(train_data['item_category_name'])\n",
    "train_data['shop_name'] = lbl_encoder.fit_transform(train_data['shop_name'])\n",
    "\n",
    "train_data = train_data.drop(['date', 'item_name'], axis = 1)\n",
    "train_data\n"
   ]
  },
  {
   "cell_type": "code",
   "execution_count": 20,
   "id": "da4d9619",
   "metadata": {
    "execution": {
     "iopub.execute_input": "2022-09-11T13:03:22.295747Z",
     "iopub.status.busy": "2022-09-11T13:03:22.295372Z",
     "iopub.status.idle": "2022-09-11T13:03:23.023463Z",
     "shell.execute_reply": "2022-09-11T13:03:23.022379Z"
    },
    "papermill": {
     "duration": 0.744248,
     "end_time": "2022-09-11T13:03:23.025880",
     "exception": false,
     "start_time": "2022-09-11T13:03:22.281632",
     "status": "completed"
    },
    "tags": []
   },
   "outputs": [
    {
     "data": {
      "text/html": [
       "<div>\n",
       "<style scoped>\n",
       "    .dataframe tbody tr th:only-of-type {\n",
       "        vertical-align: middle;\n",
       "    }\n",
       "\n",
       "    .dataframe tbody tr th {\n",
       "        vertical-align: top;\n",
       "    }\n",
       "\n",
       "    .dataframe thead th {\n",
       "        text-align: right;\n",
       "    }\n",
       "</style>\n",
       "<table border=\"1\" class=\"dataframe\">\n",
       "  <thead>\n",
       "    <tr style=\"text-align: right;\">\n",
       "      <th></th>\n",
       "      <th>date_block_num</th>\n",
       "      <th>shop_id</th>\n",
       "      <th>item_id</th>\n",
       "      <th>item_cnt_day</th>\n",
       "    </tr>\n",
       "  </thead>\n",
       "  <tbody>\n",
       "    <tr>\n",
       "      <th>1609117</th>\n",
       "      <td>33</td>\n",
       "      <td>59</td>\n",
       "      <td>22087</td>\n",
       "      <td>6.0</td>\n",
       "    </tr>\n",
       "    <tr>\n",
       "      <th>1609118</th>\n",
       "      <td>33</td>\n",
       "      <td>59</td>\n",
       "      <td>22088</td>\n",
       "      <td>2.0</td>\n",
       "    </tr>\n",
       "    <tr>\n",
       "      <th>1609119</th>\n",
       "      <td>33</td>\n",
       "      <td>59</td>\n",
       "      <td>22091</td>\n",
       "      <td>1.0</td>\n",
       "    </tr>\n",
       "    <tr>\n",
       "      <th>1609120</th>\n",
       "      <td>33</td>\n",
       "      <td>59</td>\n",
       "      <td>22100</td>\n",
       "      <td>1.0</td>\n",
       "    </tr>\n",
       "    <tr>\n",
       "      <th>1609121</th>\n",
       "      <td>33</td>\n",
       "      <td>59</td>\n",
       "      <td>22102</td>\n",
       "      <td>1.0</td>\n",
       "    </tr>\n",
       "  </tbody>\n",
       "</table>\n",
       "</div>"
      ],
      "text/plain": [
       "         date_block_num  shop_id  item_id  item_cnt_day\n",
       "1609117              33       59    22087           6.0\n",
       "1609118              33       59    22088           2.0\n",
       "1609119              33       59    22091           1.0\n",
       "1609120              33       59    22100           1.0\n",
       "1609121              33       59    22102           1.0"
      ]
     },
     "execution_count": 20,
     "metadata": {},
     "output_type": "execute_result"
    }
   ],
   "source": [
    "monthly_train_data = train_data.groupby(by = ['date_block_num', 'shop_id', 'item_id'], as_index=False).item_cnt_day.sum()\n",
    "monthly_train_data.tail()"
   ]
  },
  {
   "cell_type": "code",
   "execution_count": 21,
   "id": "77e24d88",
   "metadata": {
    "execution": {
     "iopub.execute_input": "2022-09-11T13:03:23.052690Z",
     "iopub.status.busy": "2022-09-11T13:03:23.052270Z",
     "iopub.status.idle": "2022-09-11T13:03:23.068454Z",
     "shell.execute_reply": "2022-09-11T13:03:23.067174Z"
    },
    "papermill": {
     "duration": 0.032946,
     "end_time": "2022-09-11T13:03:23.071227",
     "exception": false,
     "start_time": "2022-09-11T13:03:23.038281",
     "status": "completed"
    },
    "tags": []
   },
   "outputs": [],
   "source": [
    "monthly_train_data = monthly_train_data.rename(columns={\"item_cnt_day\": \"item_cnt_month\"})"
   ]
  },
  {
   "cell_type": "code",
   "execution_count": 22,
   "id": "636ab2b3",
   "metadata": {
    "execution": {
     "iopub.execute_input": "2022-09-11T13:03:23.097689Z",
     "iopub.status.busy": "2022-09-11T13:03:23.097309Z",
     "iopub.status.idle": "2022-09-11T13:03:23.652258Z",
     "shell.execute_reply": "2022-09-11T13:03:23.651167Z"
    },
    "papermill": {
     "duration": 0.571462,
     "end_time": "2022-09-11T13:03:23.655025",
     "exception": false,
     "start_time": "2022-09-11T13:03:23.083563",
     "status": "completed"
    },
    "tags": []
   },
   "outputs": [
    {
     "data": {
      "text/html": [
       "<div>\n",
       "<style scoped>\n",
       "    .dataframe tbody tr th:only-of-type {\n",
       "        vertical-align: middle;\n",
       "    }\n",
       "\n",
       "    .dataframe tbody tr th {\n",
       "        vertical-align: top;\n",
       "    }\n",
       "\n",
       "    .dataframe thead th {\n",
       "        text-align: right;\n",
       "    }\n",
       "</style>\n",
       "<table border=\"1\" class=\"dataframe\">\n",
       "  <thead>\n",
       "    <tr style=\"text-align: right;\">\n",
       "      <th></th>\n",
       "      <th>date_block_num</th>\n",
       "      <th>shop_id</th>\n",
       "      <th>item_id</th>\n",
       "      <th>item_cnt_month</th>\n",
       "      <th>item_name</th>\n",
       "      <th>item_category_id</th>\n",
       "      <th>item_category_name</th>\n",
       "      <th>shop_name</th>\n",
       "    </tr>\n",
       "  </thead>\n",
       "  <tbody>\n",
       "    <tr>\n",
       "      <th>0</th>\n",
       "      <td>0</td>\n",
       "      <td>0</td>\n",
       "      <td>32</td>\n",
       "      <td>6.0</td>\n",
       "      <td>1+1</td>\n",
       "      <td>40</td>\n",
       "      <td>Кино - DVD</td>\n",
       "      <td>!Якутск Орджоникидзе, 56 фран</td>\n",
       "    </tr>\n",
       "    <tr>\n",
       "      <th>1</th>\n",
       "      <td>0</td>\n",
       "      <td>0</td>\n",
       "      <td>33</td>\n",
       "      <td>3.0</td>\n",
       "      <td>1+1 (BD)</td>\n",
       "      <td>37</td>\n",
       "      <td>Кино - Blu-Ray</td>\n",
       "      <td>!Якутск Орджоникидзе, 56 фран</td>\n",
       "    </tr>\n",
       "    <tr>\n",
       "      <th>2</th>\n",
       "      <td>0</td>\n",
       "      <td>0</td>\n",
       "      <td>35</td>\n",
       "      <td>1.0</td>\n",
       "      <td>10 ЛЕТ СПУСТЯ</td>\n",
       "      <td>40</td>\n",
       "      <td>Кино - DVD</td>\n",
       "      <td>!Якутск Орджоникидзе, 56 фран</td>\n",
       "    </tr>\n",
       "    <tr>\n",
       "      <th>3</th>\n",
       "      <td>0</td>\n",
       "      <td>0</td>\n",
       "      <td>43</td>\n",
       "      <td>1.0</td>\n",
       "      <td>100 МИЛЛИОНОВ ЕВРО</td>\n",
       "      <td>40</td>\n",
       "      <td>Кино - DVD</td>\n",
       "      <td>!Якутск Орджоникидзе, 56 фран</td>\n",
       "    </tr>\n",
       "    <tr>\n",
       "      <th>4</th>\n",
       "      <td>0</td>\n",
       "      <td>0</td>\n",
       "      <td>51</td>\n",
       "      <td>2.0</td>\n",
       "      <td>100 лучших произведений классики (mp3-CD) (Dig...</td>\n",
       "      <td>57</td>\n",
       "      <td>Музыка - MP3</td>\n",
       "      <td>!Якутск Орджоникидзе, 56 фран</td>\n",
       "    </tr>\n",
       "  </tbody>\n",
       "</table>\n",
       "</div>"
      ],
      "text/plain": [
       "   date_block_num  shop_id  item_id  item_cnt_month  \\\n",
       "0               0        0       32             6.0   \n",
       "1               0        0       33             3.0   \n",
       "2               0        0       35             1.0   \n",
       "3               0        0       43             1.0   \n",
       "4               0        0       51             2.0   \n",
       "\n",
       "                                           item_name  item_category_id  \\\n",
       "0                                                1+1                40   \n",
       "1                                           1+1 (BD)                37   \n",
       "2                                      10 ЛЕТ СПУСТЯ                40   \n",
       "3                                 100 МИЛЛИОНОВ ЕВРО                40   \n",
       "4  100 лучших произведений классики (mp3-CD) (Dig...                57   \n",
       "\n",
       "  item_category_name                      shop_name  \n",
       "0         Кино - DVD  !Якутск Орджоникидзе, 56 фран  \n",
       "1     Кино - Blu-Ray  !Якутск Орджоникидзе, 56 фран  \n",
       "2         Кино - DVD  !Якутск Орджоникидзе, 56 фран  \n",
       "3         Кино - DVD  !Якутск Орджоникидзе, 56 фран  \n",
       "4       Музыка - MP3  !Якутск Орджоникидзе, 56 фран  "
      ]
     },
     "execution_count": 22,
     "metadata": {},
     "output_type": "execute_result"
    }
   ],
   "source": [
    "monthly_train_data = monthly_train_data.join(items.set_index('item_id'), on = 'item_id')\n",
    "monthly_train_data = monthly_train_data.join(item_cats.set_index('item_category_id'), on ='item_category_id')\n",
    "monthly_train_data = monthly_train_data.join(shops.set_index('shop_id'), on = 'shop_id')\n",
    "monthly_train_data.head()\n",
    "                                             "
   ]
  },
  {
   "cell_type": "code",
   "execution_count": 23,
   "id": "3fd7f6d7",
   "metadata": {
    "execution": {
     "iopub.execute_input": "2022-09-11T13:03:23.682512Z",
     "iopub.status.busy": "2022-09-11T13:03:23.682051Z",
     "iopub.status.idle": "2022-09-11T13:03:23.690322Z",
     "shell.execute_reply": "2022-09-11T13:03:23.689041Z"
    },
    "papermill": {
     "duration": 0.024835,
     "end_time": "2022-09-11T13:03:23.692753",
     "exception": false,
     "start_time": "2022-09-11T13:03:23.667918",
     "status": "completed"
    },
    "tags": []
   },
   "outputs": [
    {
     "data": {
      "text/plain": [
       "\"\\nfrom sklearn.feature_selection import mutual_info_regression\\ny = monthly_train_data['item_cnt_month']\\nX = monthly_train_data.drop('item_cnt_month', axis = 1)\\ndisc_feat = X.dtypes == int\\nmi_scores = mutual_info_regression(X, y, discrete_features=disc_feat, random_state = 10)\\nmi_scores = pd.Series(mi_scores, name = 'MI scores', index = X.columns)\\nmi_scores = mi_scores.sort_values(ascending = False)\\nmi_scores\\n\""
      ]
     },
     "execution_count": 23,
     "metadata": {},
     "output_type": "execute_result"
    }
   ],
   "source": [
    "\"\"\"\n",
    "from sklearn.feature_selection import mutual_info_regression\n",
    "y = monthly_train_data['item_cnt_month']\n",
    "X = monthly_train_data.drop('item_cnt_month', axis = 1)\n",
    "disc_feat = X.dtypes == int\n",
    "mi_scores = mutual_info_regression(X, y, discrete_features=disc_feat, random_state = 10)\n",
    "mi_scores = pd.Series(mi_scores, name = 'MI scores', index = X.columns)\n",
    "mi_scores = mi_scores.sort_values(ascending = False)\n",
    "mi_scores\n",
    "\"\"\""
   ]
  },
  {
   "cell_type": "code",
   "execution_count": 24,
   "id": "961a12e8",
   "metadata": {
    "execution": {
     "iopub.execute_input": "2022-09-11T13:03:23.722190Z",
     "iopub.status.busy": "2022-09-11T13:03:23.721776Z",
     "iopub.status.idle": "2022-09-11T13:03:23.732289Z",
     "shell.execute_reply": "2022-09-11T13:03:23.731124Z"
    },
    "papermill": {
     "duration": 0.028695,
     "end_time": "2022-09-11T13:03:23.734534",
     "exception": false,
     "start_time": "2022-09-11T13:03:23.705839",
     "status": "completed"
    },
    "tags": []
   },
   "outputs": [
    {
     "data": {
      "text/html": [
       "<div>\n",
       "<style scoped>\n",
       "    .dataframe tbody tr th:only-of-type {\n",
       "        vertical-align: middle;\n",
       "    }\n",
       "\n",
       "    .dataframe tbody tr th {\n",
       "        vertical-align: top;\n",
       "    }\n",
       "\n",
       "    .dataframe thead th {\n",
       "        text-align: right;\n",
       "    }\n",
       "</style>\n",
       "<table border=\"1\" class=\"dataframe\">\n",
       "  <thead>\n",
       "    <tr style=\"text-align: right;\">\n",
       "      <th></th>\n",
       "      <th>ID</th>\n",
       "      <th>shop_id</th>\n",
       "      <th>item_id</th>\n",
       "    </tr>\n",
       "  </thead>\n",
       "  <tbody>\n",
       "    <tr>\n",
       "      <th>0</th>\n",
       "      <td>0</td>\n",
       "      <td>5</td>\n",
       "      <td>5037</td>\n",
       "    </tr>\n",
       "    <tr>\n",
       "      <th>1</th>\n",
       "      <td>1</td>\n",
       "      <td>5</td>\n",
       "      <td>5320</td>\n",
       "    </tr>\n",
       "    <tr>\n",
       "      <th>2</th>\n",
       "      <td>2</td>\n",
       "      <td>5</td>\n",
       "      <td>5233</td>\n",
       "    </tr>\n",
       "    <tr>\n",
       "      <th>3</th>\n",
       "      <td>3</td>\n",
       "      <td>5</td>\n",
       "      <td>5232</td>\n",
       "    </tr>\n",
       "    <tr>\n",
       "      <th>4</th>\n",
       "      <td>4</td>\n",
       "      <td>5</td>\n",
       "      <td>5268</td>\n",
       "    </tr>\n",
       "  </tbody>\n",
       "</table>\n",
       "</div>"
      ],
      "text/plain": [
       "   ID  shop_id  item_id\n",
       "0   0        5     5037\n",
       "1   1        5     5320\n",
       "2   2        5     5233\n",
       "3   3        5     5232\n",
       "4   4        5     5268"
      ]
     },
     "execution_count": 24,
     "metadata": {},
     "output_type": "execute_result"
    }
   ],
   "source": [
    "test_data.head()"
   ]
  },
  {
   "cell_type": "code",
   "execution_count": 25,
   "id": "f84d7870",
   "metadata": {
    "execution": {
     "iopub.execute_input": "2022-09-11T13:03:23.762465Z",
     "iopub.status.busy": "2022-09-11T13:03:23.761972Z",
     "iopub.status.idle": "2022-09-11T13:03:23.773924Z",
     "shell.execute_reply": "2022-09-11T13:03:23.772869Z"
    },
    "papermill": {
     "duration": 0.028828,
     "end_time": "2022-09-11T13:03:23.776344",
     "exception": false,
     "start_time": "2022-09-11T13:03:23.747516",
     "status": "completed"
    },
    "tags": []
   },
   "outputs": [
    {
     "data": {
      "text/html": [
       "<div>\n",
       "<style scoped>\n",
       "    .dataframe tbody tr th:only-of-type {\n",
       "        vertical-align: middle;\n",
       "    }\n",
       "\n",
       "    .dataframe tbody tr th {\n",
       "        vertical-align: top;\n",
       "    }\n",
       "\n",
       "    .dataframe thead th {\n",
       "        text-align: right;\n",
       "    }\n",
       "</style>\n",
       "<table border=\"1\" class=\"dataframe\">\n",
       "  <thead>\n",
       "    <tr style=\"text-align: right;\">\n",
       "      <th></th>\n",
       "      <th>ID</th>\n",
       "      <th>shop_id</th>\n",
       "      <th>item_id</th>\n",
       "      <th>date_block_num</th>\n",
       "    </tr>\n",
       "  </thead>\n",
       "  <tbody>\n",
       "    <tr>\n",
       "      <th>0</th>\n",
       "      <td>0</td>\n",
       "      <td>5</td>\n",
       "      <td>5037</td>\n",
       "      <td>34</td>\n",
       "    </tr>\n",
       "    <tr>\n",
       "      <th>1</th>\n",
       "      <td>1</td>\n",
       "      <td>5</td>\n",
       "      <td>5320</td>\n",
       "      <td>34</td>\n",
       "    </tr>\n",
       "    <tr>\n",
       "      <th>2</th>\n",
       "      <td>2</td>\n",
       "      <td>5</td>\n",
       "      <td>5233</td>\n",
       "      <td>34</td>\n",
       "    </tr>\n",
       "    <tr>\n",
       "      <th>3</th>\n",
       "      <td>3</td>\n",
       "      <td>5</td>\n",
       "      <td>5232</td>\n",
       "      <td>34</td>\n",
       "    </tr>\n",
       "    <tr>\n",
       "      <th>4</th>\n",
       "      <td>4</td>\n",
       "      <td>5</td>\n",
       "      <td>5268</td>\n",
       "      <td>34</td>\n",
       "    </tr>\n",
       "  </tbody>\n",
       "</table>\n",
       "</div>"
      ],
      "text/plain": [
       "   ID  shop_id  item_id  date_block_num\n",
       "0   0        5     5037              34\n",
       "1   1        5     5320              34\n",
       "2   2        5     5233              34\n",
       "3   3        5     5232              34\n",
       "4   4        5     5268              34"
      ]
     },
     "execution_count": 25,
     "metadata": {},
     "output_type": "execute_result"
    }
   ],
   "source": [
    "test_data['date_block_num'] = 34\n",
    "test_data.head()"
   ]
  },
  {
   "cell_type": "code",
   "execution_count": 26,
   "id": "1572155b",
   "metadata": {
    "execution": {
     "iopub.execute_input": "2022-09-11T13:03:23.804570Z",
     "iopub.status.busy": "2022-09-11T13:03:23.804205Z",
     "iopub.status.idle": "2022-09-11T13:03:23.912334Z",
     "shell.execute_reply": "2022-09-11T13:03:23.911136Z"
    },
    "papermill": {
     "duration": 0.125597,
     "end_time": "2022-09-11T13:03:23.915147",
     "exception": false,
     "start_time": "2022-09-11T13:03:23.789550",
     "status": "completed"
    },
    "tags": []
   },
   "outputs": [
    {
     "data": {
      "text/html": [
       "<div>\n",
       "<style scoped>\n",
       "    .dataframe tbody tr th:only-of-type {\n",
       "        vertical-align: middle;\n",
       "    }\n",
       "\n",
       "    .dataframe tbody tr th {\n",
       "        vertical-align: top;\n",
       "    }\n",
       "\n",
       "    .dataframe thead th {\n",
       "        text-align: right;\n",
       "    }\n",
       "</style>\n",
       "<table border=\"1\" class=\"dataframe\">\n",
       "  <thead>\n",
       "    <tr style=\"text-align: right;\">\n",
       "      <th></th>\n",
       "      <th>ID</th>\n",
       "      <th>shop_id</th>\n",
       "      <th>item_id</th>\n",
       "      <th>date_block_num</th>\n",
       "      <th>item_category_id</th>\n",
       "      <th>item_category_name</th>\n",
       "      <th>shop_name</th>\n",
       "    </tr>\n",
       "  </thead>\n",
       "  <tbody>\n",
       "    <tr>\n",
       "      <th>0</th>\n",
       "      <td>0</td>\n",
       "      <td>5</td>\n",
       "      <td>5037</td>\n",
       "      <td>34</td>\n",
       "      <td>19</td>\n",
       "      <td>Игры - PS3</td>\n",
       "      <td>Вологда ТРЦ \"Мармелад\"</td>\n",
       "    </tr>\n",
       "    <tr>\n",
       "      <th>1</th>\n",
       "      <td>1</td>\n",
       "      <td>5</td>\n",
       "      <td>5320</td>\n",
       "      <td>34</td>\n",
       "      <td>55</td>\n",
       "      <td>Музыка - CD локального производства</td>\n",
       "      <td>Вологда ТРЦ \"Мармелад\"</td>\n",
       "    </tr>\n",
       "    <tr>\n",
       "      <th>2</th>\n",
       "      <td>2</td>\n",
       "      <td>5</td>\n",
       "      <td>5233</td>\n",
       "      <td>34</td>\n",
       "      <td>19</td>\n",
       "      <td>Игры - PS3</td>\n",
       "      <td>Вологда ТРЦ \"Мармелад\"</td>\n",
       "    </tr>\n",
       "    <tr>\n",
       "      <th>3</th>\n",
       "      <td>3</td>\n",
       "      <td>5</td>\n",
       "      <td>5232</td>\n",
       "      <td>34</td>\n",
       "      <td>23</td>\n",
       "      <td>Игры - XBOX 360</td>\n",
       "      <td>Вологда ТРЦ \"Мармелад\"</td>\n",
       "    </tr>\n",
       "    <tr>\n",
       "      <th>4</th>\n",
       "      <td>4</td>\n",
       "      <td>5</td>\n",
       "      <td>5268</td>\n",
       "      <td>34</td>\n",
       "      <td>20</td>\n",
       "      <td>Игры - PS4</td>\n",
       "      <td>Вологда ТРЦ \"Мармелад\"</td>\n",
       "    </tr>\n",
       "  </tbody>\n",
       "</table>\n",
       "</div>"
      ],
      "text/plain": [
       "   ID  shop_id  item_id  date_block_num  item_category_id  \\\n",
       "0   0        5     5037              34                19   \n",
       "1   1        5     5320              34                55   \n",
       "2   2        5     5233              34                19   \n",
       "3   3        5     5232              34                23   \n",
       "4   4        5     5268              34                20   \n",
       "\n",
       "                    item_category_name               shop_name  \n",
       "0                           Игры - PS3  Вологда ТРЦ \"Мармелад\"  \n",
       "1  Музыка - CD локального производства  Вологда ТРЦ \"Мармелад\"  \n",
       "2                           Игры - PS3  Вологда ТРЦ \"Мармелад\"  \n",
       "3                      Игры - XBOX 360  Вологда ТРЦ \"Мармелад\"  \n",
       "4                           Игры - PS4  Вологда ТРЦ \"Мармелад\"  "
      ]
     },
     "execution_count": 26,
     "metadata": {},
     "output_type": "execute_result"
    }
   ],
   "source": [
    "test_data = test_data.join(items.set_index('item_id'), on = 'item_id')\n",
    "test_data = test_data.join(item_cats.set_index('item_category_id'), on ='item_category_id')\n",
    "test_data = test_data.join(shops.set_index('shop_id'), on = 'shop_id')\n",
    "test_data = test_data.drop('item_name', axis = 1)\n",
    "test_data.head()"
   ]
  },
  {
   "cell_type": "code",
   "execution_count": 27,
   "id": "45197d8a",
   "metadata": {
    "execution": {
     "iopub.execute_input": "2022-09-11T13:03:23.944481Z",
     "iopub.status.busy": "2022-09-11T13:03:23.944032Z",
     "iopub.status.idle": "2022-09-11T13:03:24.063968Z",
     "shell.execute_reply": "2022-09-11T13:03:24.062548Z"
    },
    "papermill": {
     "duration": 0.137843,
     "end_time": "2022-09-11T13:03:24.066724",
     "exception": false,
     "start_time": "2022-09-11T13:03:23.928881",
     "status": "completed"
    },
    "tags": []
   },
   "outputs": [],
   "source": [
    "df_large = pd.concat([monthly_train_data, test_data])"
   ]
  },
  {
   "cell_type": "code",
   "execution_count": 28,
   "id": "c0430a9d",
   "metadata": {
    "execution": {
     "iopub.execute_input": "2022-09-11T13:03:24.095503Z",
     "iopub.status.busy": "2022-09-11T13:03:24.095077Z",
     "iopub.status.idle": "2022-09-11T13:03:25.091723Z",
     "shell.execute_reply": "2022-09-11T13:03:25.090721Z"
    },
    "papermill": {
     "duration": 1.013976,
     "end_time": "2022-09-11T13:03:25.094236",
     "exception": false,
     "start_time": "2022-09-11T13:03:24.080260",
     "status": "completed"
    },
    "tags": []
   },
   "outputs": [],
   "source": [
    "lbl_encoder = LabelEncoder()\n",
    "df_large['item_category_name'] =lbl_encoder.fit_transform(df_large['item_category_name'])\n",
    "df_large['shop_name'] = lbl_encoder.fit_transform(df_large['shop_name'])\n",
    "df_large = df_large.drop('item_name', axis =1)\n"
   ]
  },
  {
   "cell_type": "code",
   "execution_count": 29,
   "id": "60cb3dc2",
   "metadata": {
    "execution": {
     "iopub.execute_input": "2022-09-11T13:03:25.123792Z",
     "iopub.status.busy": "2022-09-11T13:03:25.123130Z",
     "iopub.status.idle": "2022-09-11T13:03:25.135444Z",
     "shell.execute_reply": "2022-09-11T13:03:25.134572Z"
    },
    "papermill": {
     "duration": 0.02964,
     "end_time": "2022-09-11T13:03:25.137541",
     "exception": false,
     "start_time": "2022-09-11T13:03:25.107901",
     "status": "completed"
    },
    "tags": []
   },
   "outputs": [
    {
     "data": {
      "text/html": [
       "<div>\n",
       "<style scoped>\n",
       "    .dataframe tbody tr th:only-of-type {\n",
       "        vertical-align: middle;\n",
       "    }\n",
       "\n",
       "    .dataframe tbody tr th {\n",
       "        vertical-align: top;\n",
       "    }\n",
       "\n",
       "    .dataframe thead th {\n",
       "        text-align: right;\n",
       "    }\n",
       "</style>\n",
       "<table border=\"1\" class=\"dataframe\">\n",
       "  <thead>\n",
       "    <tr style=\"text-align: right;\">\n",
       "      <th></th>\n",
       "      <th>date_block_num</th>\n",
       "      <th>shop_id</th>\n",
       "      <th>item_id</th>\n",
       "      <th>item_cnt_month</th>\n",
       "      <th>item_category_id</th>\n",
       "      <th>item_category_name</th>\n",
       "      <th>shop_name</th>\n",
       "      <th>ID</th>\n",
       "    </tr>\n",
       "  </thead>\n",
       "  <tbody>\n",
       "    <tr>\n",
       "      <th>214195</th>\n",
       "      <td>34</td>\n",
       "      <td>45</td>\n",
       "      <td>18454</td>\n",
       "      <td>NaN</td>\n",
       "      <td>55</td>\n",
       "      <td>55</td>\n",
       "      <td>45</td>\n",
       "      <td>214195.0</td>\n",
       "    </tr>\n",
       "    <tr>\n",
       "      <th>214196</th>\n",
       "      <td>34</td>\n",
       "      <td>45</td>\n",
       "      <td>16188</td>\n",
       "      <td>NaN</td>\n",
       "      <td>64</td>\n",
       "      <td>64</td>\n",
       "      <td>45</td>\n",
       "      <td>214196.0</td>\n",
       "    </tr>\n",
       "    <tr>\n",
       "      <th>214197</th>\n",
       "      <td>34</td>\n",
       "      <td>45</td>\n",
       "      <td>15757</td>\n",
       "      <td>NaN</td>\n",
       "      <td>55</td>\n",
       "      <td>55</td>\n",
       "      <td>45</td>\n",
       "      <td>214197.0</td>\n",
       "    </tr>\n",
       "    <tr>\n",
       "      <th>214198</th>\n",
       "      <td>34</td>\n",
       "      <td>45</td>\n",
       "      <td>19648</td>\n",
       "      <td>NaN</td>\n",
       "      <td>40</td>\n",
       "      <td>40</td>\n",
       "      <td>45</td>\n",
       "      <td>214198.0</td>\n",
       "    </tr>\n",
       "    <tr>\n",
       "      <th>214199</th>\n",
       "      <td>34</td>\n",
       "      <td>45</td>\n",
       "      <td>969</td>\n",
       "      <td>NaN</td>\n",
       "      <td>37</td>\n",
       "      <td>37</td>\n",
       "      <td>45</td>\n",
       "      <td>214199.0</td>\n",
       "    </tr>\n",
       "  </tbody>\n",
       "</table>\n",
       "</div>"
      ],
      "text/plain": [
       "        date_block_num  shop_id  item_id  item_cnt_month  item_category_id  \\\n",
       "214195              34       45    18454             NaN                55   \n",
       "214196              34       45    16188             NaN                64   \n",
       "214197              34       45    15757             NaN                55   \n",
       "214198              34       45    19648             NaN                40   \n",
       "214199              34       45      969             NaN                37   \n",
       "\n",
       "        item_category_name  shop_name        ID  \n",
       "214195                  55         45  214195.0  \n",
       "214196                  64         45  214196.0  \n",
       "214197                  55         45  214197.0  \n",
       "214198                  40         45  214198.0  \n",
       "214199                  37         45  214199.0  "
      ]
     },
     "execution_count": 29,
     "metadata": {},
     "output_type": "execute_result"
    }
   ],
   "source": [
    "df_large.tail()"
   ]
  },
  {
   "cell_type": "code",
   "execution_count": 30,
   "id": "01ef9dfb",
   "metadata": {
    "execution": {
     "iopub.execute_input": "2022-09-11T13:03:25.166870Z",
     "iopub.status.busy": "2022-09-11T13:03:25.166289Z",
     "iopub.status.idle": "2022-09-11T13:03:25.178967Z",
     "shell.execute_reply": "2022-09-11T13:03:25.178114Z"
    },
    "papermill": {
     "duration": 0.030083,
     "end_time": "2022-09-11T13:03:25.181046",
     "exception": false,
     "start_time": "2022-09-11T13:03:25.150963",
     "status": "completed"
    },
    "tags": []
   },
   "outputs": [
    {
     "data": {
      "text/html": [
       "<div>\n",
       "<style scoped>\n",
       "    .dataframe tbody tr th:only-of-type {\n",
       "        vertical-align: middle;\n",
       "    }\n",
       "\n",
       "    .dataframe tbody tr th {\n",
       "        vertical-align: top;\n",
       "    }\n",
       "\n",
       "    .dataframe thead th {\n",
       "        text-align: right;\n",
       "    }\n",
       "</style>\n",
       "<table border=\"1\" class=\"dataframe\">\n",
       "  <thead>\n",
       "    <tr style=\"text-align: right;\">\n",
       "      <th></th>\n",
       "      <th>date_block_num</th>\n",
       "      <th>shop_id</th>\n",
       "      <th>item_id</th>\n",
       "      <th>item_cnt_month</th>\n",
       "      <th>item_name</th>\n",
       "      <th>item_category_id</th>\n",
       "      <th>item_category_name</th>\n",
       "      <th>shop_name</th>\n",
       "    </tr>\n",
       "  </thead>\n",
       "  <tbody>\n",
       "    <tr>\n",
       "      <th>1609117</th>\n",
       "      <td>33</td>\n",
       "      <td>59</td>\n",
       "      <td>22087</td>\n",
       "      <td>6.0</td>\n",
       "      <td>Элемент питания DURACELL LR03-BC2</td>\n",
       "      <td>83</td>\n",
       "      <td>Элементы питания</td>\n",
       "      <td>Ярославль ТЦ \"Альтаир\"</td>\n",
       "    </tr>\n",
       "    <tr>\n",
       "      <th>1609118</th>\n",
       "      <td>33</td>\n",
       "      <td>59</td>\n",
       "      <td>22088</td>\n",
       "      <td>2.0</td>\n",
       "      <td>Элемент питания DURACELL LR06-BC2</td>\n",
       "      <td>83</td>\n",
       "      <td>Элементы питания</td>\n",
       "      <td>Ярославль ТЦ \"Альтаир\"</td>\n",
       "    </tr>\n",
       "    <tr>\n",
       "      <th>1609119</th>\n",
       "      <td>33</td>\n",
       "      <td>59</td>\n",
       "      <td>22091</td>\n",
       "      <td>1.0</td>\n",
       "      <td>Элемент питания DURACELL TURBO LR 03 2*BL</td>\n",
       "      <td>83</td>\n",
       "      <td>Элементы питания</td>\n",
       "      <td>Ярославль ТЦ \"Альтаир\"</td>\n",
       "    </tr>\n",
       "    <tr>\n",
       "      <th>1609120</th>\n",
       "      <td>33</td>\n",
       "      <td>59</td>\n",
       "      <td>22100</td>\n",
       "      <td>1.0</td>\n",
       "      <td>Энциклопедия Adventure Time</td>\n",
       "      <td>42</td>\n",
       "      <td>Книги - Артбуки, энциклопедии</td>\n",
       "      <td>Ярославль ТЦ \"Альтаир\"</td>\n",
       "    </tr>\n",
       "    <tr>\n",
       "      <th>1609121</th>\n",
       "      <td>33</td>\n",
       "      <td>59</td>\n",
       "      <td>22102</td>\n",
       "      <td>1.0</td>\n",
       "      <td>Энциклопедия Мир Ведьмака</td>\n",
       "      <td>42</td>\n",
       "      <td>Книги - Артбуки, энциклопедии</td>\n",
       "      <td>Ярославль ТЦ \"Альтаир\"</td>\n",
       "    </tr>\n",
       "  </tbody>\n",
       "</table>\n",
       "</div>"
      ],
      "text/plain": [
       "         date_block_num  shop_id  item_id  item_cnt_month  \\\n",
       "1609117              33       59    22087             6.0   \n",
       "1609118              33       59    22088             2.0   \n",
       "1609119              33       59    22091             1.0   \n",
       "1609120              33       59    22100             1.0   \n",
       "1609121              33       59    22102             1.0   \n",
       "\n",
       "                                         item_name  item_category_id  \\\n",
       "1609117          Элемент питания DURACELL LR03-BC2                83   \n",
       "1609118          Элемент питания DURACELL LR06-BC2                83   \n",
       "1609119  Элемент питания DURACELL TURBO LR 03 2*BL                83   \n",
       "1609120                Энциклопедия Adventure Time                42   \n",
       "1609121                  Энциклопедия Мир Ведьмака                42   \n",
       "\n",
       "                    item_category_name               shop_name  \n",
       "1609117               Элементы питания  Ярославль ТЦ \"Альтаир\"  \n",
       "1609118               Элементы питания  Ярославль ТЦ \"Альтаир\"  \n",
       "1609119               Элементы питания  Ярославль ТЦ \"Альтаир\"  \n",
       "1609120  Книги - Артбуки, энциклопедии  Ярославль ТЦ \"Альтаир\"  \n",
       "1609121  Книги - Артбуки, энциклопедии  Ярославль ТЦ \"Альтаир\"  "
      ]
     },
     "execution_count": 30,
     "metadata": {},
     "output_type": "execute_result"
    }
   ],
   "source": [
    "monthly_train_data.tail()"
   ]
  },
  {
   "cell_type": "code",
   "execution_count": 31,
   "id": "0666b2f7",
   "metadata": {
    "execution": {
     "iopub.execute_input": "2022-09-11T13:03:25.211117Z",
     "iopub.status.busy": "2022-09-11T13:03:25.210440Z",
     "iopub.status.idle": "2022-09-11T13:03:25.329584Z",
     "shell.execute_reply": "2022-09-11T13:03:25.328706Z"
    },
    "papermill": {
     "duration": 0.136891,
     "end_time": "2022-09-11T13:03:25.331836",
     "exception": false,
     "start_time": "2022-09-11T13:03:25.194945",
     "status": "completed"
    },
    "tags": []
   },
   "outputs": [
    {
     "data": {
      "text/html": [
       "<div>\n",
       "<style scoped>\n",
       "    .dataframe tbody tr th:only-of-type {\n",
       "        vertical-align: middle;\n",
       "    }\n",
       "\n",
       "    .dataframe tbody tr th {\n",
       "        vertical-align: top;\n",
       "    }\n",
       "\n",
       "    .dataframe thead th {\n",
       "        text-align: right;\n",
       "    }\n",
       "</style>\n",
       "<table border=\"1\" class=\"dataframe\">\n",
       "  <thead>\n",
       "    <tr style=\"text-align: right;\">\n",
       "      <th></th>\n",
       "      <th>date_block_num</th>\n",
       "      <th>shop_id</th>\n",
       "      <th>item_id</th>\n",
       "      <th>item_cnt_month</th>\n",
       "      <th>item_category_id</th>\n",
       "      <th>item_category_name</th>\n",
       "      <th>shop_name</th>\n",
       "    </tr>\n",
       "  </thead>\n",
       "  <tbody>\n",
       "    <tr>\n",
       "      <th>1609117</th>\n",
       "      <td>33</td>\n",
       "      <td>59</td>\n",
       "      <td>22087</td>\n",
       "      <td>6.0</td>\n",
       "      <td>83</td>\n",
       "      <td>83</td>\n",
       "      <td>59</td>\n",
       "    </tr>\n",
       "    <tr>\n",
       "      <th>1609118</th>\n",
       "      <td>33</td>\n",
       "      <td>59</td>\n",
       "      <td>22088</td>\n",
       "      <td>2.0</td>\n",
       "      <td>83</td>\n",
       "      <td>83</td>\n",
       "      <td>59</td>\n",
       "    </tr>\n",
       "    <tr>\n",
       "      <th>1609119</th>\n",
       "      <td>33</td>\n",
       "      <td>59</td>\n",
       "      <td>22091</td>\n",
       "      <td>1.0</td>\n",
       "      <td>83</td>\n",
       "      <td>83</td>\n",
       "      <td>59</td>\n",
       "    </tr>\n",
       "    <tr>\n",
       "      <th>1609120</th>\n",
       "      <td>33</td>\n",
       "      <td>59</td>\n",
       "      <td>22100</td>\n",
       "      <td>1.0</td>\n",
       "      <td>42</td>\n",
       "      <td>42</td>\n",
       "      <td>59</td>\n",
       "    </tr>\n",
       "    <tr>\n",
       "      <th>1609121</th>\n",
       "      <td>33</td>\n",
       "      <td>59</td>\n",
       "      <td>22102</td>\n",
       "      <td>1.0</td>\n",
       "      <td>42</td>\n",
       "      <td>42</td>\n",
       "      <td>59</td>\n",
       "    </tr>\n",
       "  </tbody>\n",
       "</table>\n",
       "</div>"
      ],
      "text/plain": [
       "         date_block_num  shop_id  item_id  item_cnt_month  item_category_id  \\\n",
       "1609117              33       59    22087             6.0                83   \n",
       "1609118              33       59    22088             2.0                83   \n",
       "1609119              33       59    22091             1.0                83   \n",
       "1609120              33       59    22100             1.0                42   \n",
       "1609121              33       59    22102             1.0                42   \n",
       "\n",
       "         item_category_name  shop_name  \n",
       "1609117                  83         59  \n",
       "1609118                  83         59  \n",
       "1609119                  83         59  \n",
       "1609120                  42         59  \n",
       "1609121                  42         59  "
      ]
     },
     "execution_count": 31,
     "metadata": {},
     "output_type": "execute_result"
    }
   ],
   "source": [
    "train_data = df_large.loc[df_large.date_block_num < 34]\n",
    "train_data = train_data.drop('ID', axis = 1)\n",
    "train_data.tail()"
   ]
  },
  {
   "cell_type": "code",
   "execution_count": 32,
   "id": "6c43edc2",
   "metadata": {
    "execution": {
     "iopub.execute_input": "2022-09-11T13:03:25.362515Z",
     "iopub.status.busy": "2022-09-11T13:03:25.361404Z",
     "iopub.status.idle": "2022-09-11T13:03:25.391142Z",
     "shell.execute_reply": "2022-09-11T13:03:25.389942Z"
    },
    "papermill": {
     "duration": 0.047655,
     "end_time": "2022-09-11T13:03:25.393834",
     "exception": false,
     "start_time": "2022-09-11T13:03:25.346179",
     "status": "completed"
    },
    "tags": []
   },
   "outputs": [
    {
     "data": {
      "text/html": [
       "<div>\n",
       "<style scoped>\n",
       "    .dataframe tbody tr th:only-of-type {\n",
       "        vertical-align: middle;\n",
       "    }\n",
       "\n",
       "    .dataframe tbody tr th {\n",
       "        vertical-align: top;\n",
       "    }\n",
       "\n",
       "    .dataframe thead th {\n",
       "        text-align: right;\n",
       "    }\n",
       "</style>\n",
       "<table border=\"1\" class=\"dataframe\">\n",
       "  <thead>\n",
       "    <tr style=\"text-align: right;\">\n",
       "      <th></th>\n",
       "      <th>date_block_num</th>\n",
       "      <th>shop_id</th>\n",
       "      <th>item_id</th>\n",
       "      <th>item_category_id</th>\n",
       "      <th>item_category_name</th>\n",
       "      <th>shop_name</th>\n",
       "      <th>ID</th>\n",
       "    </tr>\n",
       "  </thead>\n",
       "  <tbody>\n",
       "    <tr>\n",
       "      <th>0</th>\n",
       "      <td>34</td>\n",
       "      <td>5</td>\n",
       "      <td>5037</td>\n",
       "      <td>19</td>\n",
       "      <td>19</td>\n",
       "      <td>5</td>\n",
       "      <td>0.0</td>\n",
       "    </tr>\n",
       "    <tr>\n",
       "      <th>1</th>\n",
       "      <td>34</td>\n",
       "      <td>5</td>\n",
       "      <td>5320</td>\n",
       "      <td>55</td>\n",
       "      <td>55</td>\n",
       "      <td>5</td>\n",
       "      <td>1.0</td>\n",
       "    </tr>\n",
       "    <tr>\n",
       "      <th>2</th>\n",
       "      <td>34</td>\n",
       "      <td>5</td>\n",
       "      <td>5233</td>\n",
       "      <td>19</td>\n",
       "      <td>19</td>\n",
       "      <td>5</td>\n",
       "      <td>2.0</td>\n",
       "    </tr>\n",
       "    <tr>\n",
       "      <th>3</th>\n",
       "      <td>34</td>\n",
       "      <td>5</td>\n",
       "      <td>5232</td>\n",
       "      <td>23</td>\n",
       "      <td>23</td>\n",
       "      <td>5</td>\n",
       "      <td>3.0</td>\n",
       "    </tr>\n",
       "    <tr>\n",
       "      <th>4</th>\n",
       "      <td>34</td>\n",
       "      <td>5</td>\n",
       "      <td>5268</td>\n",
       "      <td>20</td>\n",
       "      <td>20</td>\n",
       "      <td>5</td>\n",
       "      <td>4.0</td>\n",
       "    </tr>\n",
       "  </tbody>\n",
       "</table>\n",
       "</div>"
      ],
      "text/plain": [
       "   date_block_num  shop_id  item_id  item_category_id  item_category_name  \\\n",
       "0              34        5     5037                19                  19   \n",
       "1              34        5     5320                55                  55   \n",
       "2              34        5     5233                19                  19   \n",
       "3              34        5     5232                23                  23   \n",
       "4              34        5     5268                20                  20   \n",
       "\n",
       "   shop_name   ID  \n",
       "0          5  0.0  \n",
       "1          5  1.0  \n",
       "2          5  2.0  \n",
       "3          5  3.0  \n",
       "4          5  4.0  "
      ]
     },
     "execution_count": 32,
     "metadata": {},
     "output_type": "execute_result"
    }
   ],
   "source": [
    "test_data = df_large.loc[df_large.date_block_num == 34]\n",
    "test_data = test_data.drop('item_cnt_month', axis = 1)\n",
    "test_data.head()"
   ]
  },
  {
   "cell_type": "code",
   "execution_count": 33,
   "id": "7284b9c3",
   "metadata": {
    "execution": {
     "iopub.execute_input": "2022-09-11T13:03:25.424729Z",
     "iopub.status.busy": "2022-09-11T13:03:25.423700Z",
     "iopub.status.idle": "2022-09-11T13:13:07.989796Z",
     "shell.execute_reply": "2022-09-11T13:13:07.988475Z"
    },
    "papermill": {
     "duration": 582.584491,
     "end_time": "2022-09-11T13:13:07.992725",
     "exception": false,
     "start_time": "2022-09-11T13:03:25.408234",
     "status": "completed"
    },
    "tags": []
   },
   "outputs": [],
   "source": [
    "from sklearn.model_selection import train_test_split\n",
    "from sklearn.model_selection import KFold\n",
    "from sklearn.model_selection import cross_val_score\n",
    "from sklearn.ensemble import RandomForestRegressor\n",
    "from sklearn.metrics import mean_absolute_error\n",
    "\n",
    "\n",
    "\n",
    "\n",
    "y = train_data['item_cnt_month']\n",
    "X = train_data.drop('item_cnt_month', axis = 1)\n",
    "x_train, x_test, y_train, y_test = train_test_split(X, y, test_size = 0.2, random_state = 10)\n",
    "rf=RandomForestRegressor()\n",
    "\"\"\"\n",
    "rf.fit(x_train, y_train)\n",
    "y_pred = rf.predict(x_test)\n",
    "print(mean_absolute_error(y_test, y_pred))\n",
    "\"\"\"\n",
    "rf.fit(X,y)\n",
    "ids = test_data.ID.values\n",
    "test_data = test_data.drop('ID', axis = 1)\n",
    "preds = rf.predict(test_data)\n"
   ]
  },
  {
   "cell_type": "code",
   "execution_count": null,
   "id": "a8467ce2",
   "metadata": {
    "execution": {
     "iopub.execute_input": "2022-09-11T12:59:36.637179Z",
     "iopub.status.busy": "2022-09-11T12:59:36.636725Z",
     "iopub.status.idle": "2022-09-11T12:59:36.644950Z",
     "shell.execute_reply": "2022-09-11T12:59:36.644006Z",
     "shell.execute_reply.started": "2022-09-11T12:59:36.637140Z"
    },
    "papermill": {
     "duration": 0.014755,
     "end_time": "2022-09-11T13:13:08.022347",
     "exception": false,
     "start_time": "2022-09-11T13:13:08.007592",
     "status": "completed"
    },
    "tags": []
   },
   "outputs": [],
   "source": []
  },
  {
   "cell_type": "code",
   "execution_count": 34,
   "id": "fa473951",
   "metadata": {
    "execution": {
     "iopub.execute_input": "2022-09-11T13:13:08.053456Z",
     "iopub.status.busy": "2022-09-11T13:13:08.052730Z",
     "iopub.status.idle": "2022-09-11T13:13:08.067642Z",
     "shell.execute_reply": "2022-09-11T13:13:08.066590Z"
    },
    "papermill": {
     "duration": 0.033177,
     "end_time": "2022-09-11T13:13:08.070212",
     "exception": false,
     "start_time": "2022-09-11T13:13:08.037035",
     "status": "completed"
    },
    "tags": []
   },
   "outputs": [
    {
     "data": {
      "text/html": [
       "<div>\n",
       "<style scoped>\n",
       "    .dataframe tbody tr th:only-of-type {\n",
       "        vertical-align: middle;\n",
       "    }\n",
       "\n",
       "    .dataframe tbody tr th {\n",
       "        vertical-align: top;\n",
       "    }\n",
       "\n",
       "    .dataframe thead th {\n",
       "        text-align: right;\n",
       "    }\n",
       "</style>\n",
       "<table border=\"1\" class=\"dataframe\">\n",
       "  <thead>\n",
       "    <tr style=\"text-align: right;\">\n",
       "      <th></th>\n",
       "      <th>ID</th>\n",
       "      <th>item_cnt_month</th>\n",
       "    </tr>\n",
       "  </thead>\n",
       "  <tbody>\n",
       "    <tr>\n",
       "      <th>0</th>\n",
       "      <td>0</td>\n",
       "      <td>1.70</td>\n",
       "    </tr>\n",
       "    <tr>\n",
       "      <th>1</th>\n",
       "      <td>1</td>\n",
       "      <td>2.14</td>\n",
       "    </tr>\n",
       "    <tr>\n",
       "      <th>2</th>\n",
       "      <td>2</td>\n",
       "      <td>1.20</td>\n",
       "    </tr>\n",
       "    <tr>\n",
       "      <th>3</th>\n",
       "      <td>3</td>\n",
       "      <td>1.03</td>\n",
       "    </tr>\n",
       "    <tr>\n",
       "      <th>4</th>\n",
       "      <td>4</td>\n",
       "      <td>1.12</td>\n",
       "    </tr>\n",
       "    <tr>\n",
       "      <th>...</th>\n",
       "      <td>...</td>\n",
       "      <td>...</td>\n",
       "    </tr>\n",
       "    <tr>\n",
       "      <th>214195</th>\n",
       "      <td>214195</td>\n",
       "      <td>1.01</td>\n",
       "    </tr>\n",
       "    <tr>\n",
       "      <th>214196</th>\n",
       "      <td>214196</td>\n",
       "      <td>1.00</td>\n",
       "    </tr>\n",
       "    <tr>\n",
       "      <th>214197</th>\n",
       "      <td>214197</td>\n",
       "      <td>1.05</td>\n",
       "    </tr>\n",
       "    <tr>\n",
       "      <th>214198</th>\n",
       "      <td>214198</td>\n",
       "      <td>1.01</td>\n",
       "    </tr>\n",
       "    <tr>\n",
       "      <th>214199</th>\n",
       "      <td>214199</td>\n",
       "      <td>1.04</td>\n",
       "    </tr>\n",
       "  </tbody>\n",
       "</table>\n",
       "<p>214200 rows × 2 columns</p>\n",
       "</div>"
      ],
      "text/plain": [
       "            ID  item_cnt_month\n",
       "0            0            1.70\n",
       "1            1            2.14\n",
       "2            2            1.20\n",
       "3            3            1.03\n",
       "4            4            1.12\n",
       "...        ...             ...\n",
       "214195  214195            1.01\n",
       "214196  214196            1.00\n",
       "214197  214197            1.05\n",
       "214198  214198            1.01\n",
       "214199  214199            1.04\n",
       "\n",
       "[214200 rows x 2 columns]"
      ]
     },
     "execution_count": 34,
     "metadata": {},
     "output_type": "execute_result"
    }
   ],
   "source": [
    "submission = pd.DataFrame({'ID':ids.astype('int'),'item_cnt_month':preds})\n",
    "submission"
   ]
  },
  {
   "cell_type": "code",
   "execution_count": 35,
   "id": "3ede4aa9",
   "metadata": {
    "execution": {
     "iopub.execute_input": "2022-09-11T13:13:08.101345Z",
     "iopub.status.busy": "2022-09-11T13:13:08.100681Z",
     "iopub.status.idle": "2022-09-11T13:13:08.418406Z",
     "shell.execute_reply": "2022-09-11T13:13:08.417402Z"
    },
    "papermill": {
     "duration": 0.336329,
     "end_time": "2022-09-11T13:13:08.421152",
     "exception": false,
     "start_time": "2022-09-11T13:13:08.084823",
     "status": "completed"
    },
    "tags": []
   },
   "outputs": [],
   "source": [
    "submission.to_csv('submission.csv', index = False)"
   ]
  },
  {
   "cell_type": "code",
   "execution_count": null,
   "id": "e206c0d6",
   "metadata": {
    "papermill": {
     "duration": 0.01455,
     "end_time": "2022-09-11T13:13:08.450856",
     "exception": false,
     "start_time": "2022-09-11T13:13:08.436306",
     "status": "completed"
    },
    "tags": []
   },
   "outputs": [],
   "source": []
  }
 ],
 "metadata": {
  "kernelspec": {
   "display_name": "Python 3",
   "language": "python",
   "name": "python3"
  },
  "language_info": {
   "codemirror_mode": {
    "name": "ipython",
    "version": 3
   },
   "file_extension": ".py",
   "mimetype": "text/x-python",
   "name": "python",
   "nbconvert_exporter": "python",
   "pygments_lexer": "ipython3",
   "version": "3.7.12"
  },
  "papermill": {
   "default_parameters": {},
   "duration": 650.886357,
   "end_time": "2022-09-11T13:13:09.791168",
   "environment_variables": {},
   "exception": null,
   "input_path": "__notebook__.ipynb",
   "output_path": "__notebook__.ipynb",
   "parameters": {},
   "start_time": "2022-09-11T13:02:18.904811",
   "version": "2.3.4"
  }
 },
 "nbformat": 4,
 "nbformat_minor": 5
}
