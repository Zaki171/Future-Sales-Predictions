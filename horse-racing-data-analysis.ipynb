{
 "cells": [
  {
   "cell_type": "code",
   "execution_count": 1,
   "id": "30df2c4d",
   "metadata": {
    "_cell_guid": "b1076dfc-b9ad-4769-8c92-a6c4dae69d19",
    "_uuid": "8f2839f25d086af736a60e9eeb907d3b93b6e0e5",
    "execution": {
     "iopub.execute_input": "2022-09-15T22:35:58.603789Z",
     "iopub.status.busy": "2022-09-15T22:35:58.603340Z",
     "iopub.status.idle": "2022-09-15T22:35:59.744734Z",
     "shell.execute_reply": "2022-09-15T22:35:59.743414Z"
    },
    "papermill": {
     "duration": 1.153317,
     "end_time": "2022-09-15T22:35:59.748286",
     "exception": false,
     "start_time": "2022-09-15T22:35:58.594969",
     "status": "completed"
    },
    "tags": []
   },
   "outputs": [
    {
     "name": "stdout",
     "output_type": "stream",
     "text": [
      "/kaggle/input/big-data-derby-2022/nyra_tracking_table.csv\n",
      "/kaggle/input/big-data-derby-2022/nyra_start_table.csv\n",
      "/kaggle/input/big-data-derby-2022/nyra_race_table.csv\n",
      "/kaggle/input/big-data-derby-2022/nyra_2019_complete.csv\n"
     ]
    }
   ],
   "source": [
    "# This Python 3 environment comes with many helpful analytics libraries installed\n",
    "# It is defined by the kaggle/python Docker image: https://github.com/kaggle/docker-python\n",
    "# For example, here's several helpful packages to load\n",
    "\n",
    "import numpy as np # linear algebra\n",
    "import pandas as pd # data processing, CSV file I/O (e.g. pd.read_csv)\n",
    "\n",
    "from matplotlib import pyplot as plt\n",
    "import seaborn as sns\n",
    "\n",
    "# Input data files are available in the read-only \"../input/\" directory\n",
    "# For example, running this (by clicking run or pressing Shift+Enter) will list all files under the input directory\n",
    "\n",
    "import os\n",
    "for dirname, _, filenames in os.walk('/kaggle/input'):\n",
    "    for filename in filenames:\n",
    "        print(os.path.join(dirname, filename))\n",
    "\n",
    "# You can write up to 20GB to the current directory (/kaggle/working/) that gets preserved as output when you create a version using \"Save & Run All\" \n",
    "# You can also write temporary files to /kaggle/temp/, but they won't be saved outside of the current session"
   ]
  },
  {
   "cell_type": "code",
   "execution_count": 2,
   "id": "6a3116e2",
   "metadata": {
    "execution": {
     "iopub.execute_input": "2022-09-15T22:35:59.761819Z",
     "iopub.status.busy": "2022-09-15T22:35:59.761443Z",
     "iopub.status.idle": "2022-09-15T22:36:07.975471Z",
     "shell.execute_reply": "2022-09-15T22:36:07.974289Z"
    },
    "papermill": {
     "duration": 8.223508,
     "end_time": "2022-09-15T22:36:07.978145",
     "exception": false,
     "start_time": "2022-09-15T22:35:59.754637",
     "status": "completed"
    },
    "tags": []
   },
   "outputs": [
    {
     "name": "stderr",
     "output_type": "stream",
     "text": [
      "/opt/conda/lib/python3.7/site-packages/IPython/core/interactiveshell.py:3552: DtypeWarning: Columns (2,4,5,6) have mixed types.Specify dtype option on import or set low_memory=False.\n",
      "  exec(code_obj, self.user_global_ns, self.user_ns)\n"
     ]
    }
   ],
   "source": [
    "horse_data = pd.read_csv('/kaggle/input/big-data-derby-2022/nyra_start_table.csv',names = ['track_id', 'race_date', 'race_number', 'program_number', 'weight_carried', 'jockey', 'odds', 'position_at_finish'])\n",
    "track_data = pd.read_csv('/kaggle/input/big-data-derby-2022/nyra_race_table.csv')\n",
    "tracking_data = pd.read_csv('/kaggle/input/big-data-derby-2022/nyra_tracking_table.csv', names = ['track_id', 'race_date', 'race_number', 'program_number', 'trakus_index', 'latitude', 'longitude'])"
   ]
  },
  {
   "cell_type": "markdown",
   "id": "04f40dbd",
   "metadata": {
    "papermill": {
     "duration": 0.00576,
     "end_time": "2022-09-15T22:36:07.989727",
     "exception": false,
     "start_time": "2022-09-15T22:36:07.983967",
     "status": "completed"
    },
    "tags": []
   },
   "source": [
    "# **START TABLE**"
   ]
  },
  {
   "cell_type": "code",
   "execution_count": 3,
   "id": "25fc53cb",
   "metadata": {
    "execution": {
     "iopub.execute_input": "2022-09-15T22:36:08.002825Z",
     "iopub.status.busy": "2022-09-15T22:36:08.002451Z",
     "iopub.status.idle": "2022-09-15T22:36:08.027555Z",
     "shell.execute_reply": "2022-09-15T22:36:08.026560Z"
    },
    "papermill": {
     "duration": 0.034382,
     "end_time": "2022-09-15T22:36:08.029828",
     "exception": false,
     "start_time": "2022-09-15T22:36:07.995446",
     "status": "completed"
    },
    "tags": []
   },
   "outputs": [
    {
     "data": {
      "text/html": [
       "<div>\n",
       "<style scoped>\n",
       "    .dataframe tbody tr th:only-of-type {\n",
       "        vertical-align: middle;\n",
       "    }\n",
       "\n",
       "    .dataframe tbody tr th {\n",
       "        vertical-align: top;\n",
       "    }\n",
       "\n",
       "    .dataframe thead th {\n",
       "        text-align: right;\n",
       "    }\n",
       "</style>\n",
       "<table border=\"1\" class=\"dataframe\">\n",
       "  <thead>\n",
       "    <tr style=\"text-align: right;\">\n",
       "      <th></th>\n",
       "      <th>track_id</th>\n",
       "      <th>race_date</th>\n",
       "      <th>race_number</th>\n",
       "      <th>program_number</th>\n",
       "      <th>weight_carried</th>\n",
       "      <th>jockey</th>\n",
       "      <th>odds</th>\n",
       "      <th>position_at_finish</th>\n",
       "    </tr>\n",
       "  </thead>\n",
       "  <tbody>\n",
       "    <tr>\n",
       "      <th>0</th>\n",
       "      <td>AQU</td>\n",
       "      <td>2019-01-01</td>\n",
       "      <td>1</td>\n",
       "      <td>1</td>\n",
       "      <td>123</td>\n",
       "      <td>Dylan Davis</td>\n",
       "      <td>130</td>\n",
       "      <td>2</td>\n",
       "    </tr>\n",
       "    <tr>\n",
       "      <th>1</th>\n",
       "      <td>AQU</td>\n",
       "      <td>2019-01-01</td>\n",
       "      <td>1</td>\n",
       "      <td>2</td>\n",
       "      <td>120</td>\n",
       "      <td>Junior Alvarado</td>\n",
       "      <td>295</td>\n",
       "      <td>3</td>\n",
       "    </tr>\n",
       "    <tr>\n",
       "      <th>2</th>\n",
       "      <td>AQU</td>\n",
       "      <td>2019-01-01</td>\n",
       "      <td>1</td>\n",
       "      <td>3</td>\n",
       "      <td>118</td>\n",
       "      <td>Jose Lezcano</td>\n",
       "      <td>180</td>\n",
       "      <td>4</td>\n",
       "    </tr>\n",
       "    <tr>\n",
       "      <th>3</th>\n",
       "      <td>AQU</td>\n",
       "      <td>2019-01-01</td>\n",
       "      <td>1</td>\n",
       "      <td>4</td>\n",
       "      <td>123</td>\n",
       "      <td>Jomar Garcia</td>\n",
       "      <td>1280</td>\n",
       "      <td>5</td>\n",
       "    </tr>\n",
       "    <tr>\n",
       "      <th>4</th>\n",
       "      <td>AQU</td>\n",
       "      <td>2019-01-01</td>\n",
       "      <td>1</td>\n",
       "      <td>5</td>\n",
       "      <td>118</td>\n",
       "      <td>Manuel Franco</td>\n",
       "      <td>1150</td>\n",
       "      <td>1</td>\n",
       "    </tr>\n",
       "  </tbody>\n",
       "</table>\n",
       "</div>"
      ],
      "text/plain": [
       "  track_id   race_date  race_number program_number  weight_carried  \\\n",
       "0      AQU  2019-01-01            1            1               123   \n",
       "1      AQU  2019-01-01            1            2               120   \n",
       "2      AQU  2019-01-01            1            3               118   \n",
       "3      AQU  2019-01-01            1            4               123   \n",
       "4      AQU  2019-01-01            1            5               118   \n",
       "\n",
       "            jockey  odds  position_at_finish  \n",
       "0      Dylan Davis   130                   2  \n",
       "1  Junior Alvarado   295                   3  \n",
       "2     Jose Lezcano   180                   4  \n",
       "3     Jomar Garcia  1280                   5  \n",
       "4    Manuel Franco  1150                   1  "
      ]
     },
     "execution_count": 3,
     "metadata": {},
     "output_type": "execute_result"
    }
   ],
   "source": [
    "horse_data.head()"
   ]
  },
  {
   "cell_type": "code",
   "execution_count": 4,
   "id": "19f11426",
   "metadata": {
    "execution": {
     "iopub.execute_input": "2022-09-15T22:36:08.044009Z",
     "iopub.status.busy": "2022-09-15T22:36:08.043610Z",
     "iopub.status.idle": "2022-09-15T22:36:08.073206Z",
     "shell.execute_reply": "2022-09-15T22:36:08.071992Z"
    },
    "papermill": {
     "duration": 0.040048,
     "end_time": "2022-09-15T22:36:08.076011",
     "exception": false,
     "start_time": "2022-09-15T22:36:08.035963",
     "status": "completed"
    },
    "tags": []
   },
   "outputs": [
    {
     "data": {
      "text/html": [
       "<div>\n",
       "<style scoped>\n",
       "    .dataframe tbody tr th:only-of-type {\n",
       "        vertical-align: middle;\n",
       "    }\n",
       "\n",
       "    .dataframe tbody tr th {\n",
       "        vertical-align: top;\n",
       "    }\n",
       "\n",
       "    .dataframe thead th {\n",
       "        text-align: right;\n",
       "    }\n",
       "</style>\n",
       "<table border=\"1\" class=\"dataframe\">\n",
       "  <thead>\n",
       "    <tr style=\"text-align: right;\">\n",
       "      <th></th>\n",
       "      <th>track_id</th>\n",
       "      <th>race_date</th>\n",
       "      <th>race_number</th>\n",
       "      <th>program_number</th>\n",
       "      <th>weight_carried</th>\n",
       "      <th>jockey</th>\n",
       "      <th>odds</th>\n",
       "      <th>position_at_finish</th>\n",
       "    </tr>\n",
       "  </thead>\n",
       "  <tbody>\n",
       "    <tr>\n",
       "      <th>0</th>\n",
       "      <td>AQU</td>\n",
       "      <td>2019-01-01</td>\n",
       "      <td>1</td>\n",
       "      <td>1</td>\n",
       "      <td>123</td>\n",
       "      <td>Dylan Davis</td>\n",
       "      <td>1.30</td>\n",
       "      <td>2</td>\n",
       "    </tr>\n",
       "    <tr>\n",
       "      <th>1</th>\n",
       "      <td>AQU</td>\n",
       "      <td>2019-01-01</td>\n",
       "      <td>1</td>\n",
       "      <td>2</td>\n",
       "      <td>120</td>\n",
       "      <td>Junior Alvarado</td>\n",
       "      <td>2.95</td>\n",
       "      <td>3</td>\n",
       "    </tr>\n",
       "    <tr>\n",
       "      <th>2</th>\n",
       "      <td>AQU</td>\n",
       "      <td>2019-01-01</td>\n",
       "      <td>1</td>\n",
       "      <td>3</td>\n",
       "      <td>118</td>\n",
       "      <td>Jose Lezcano</td>\n",
       "      <td>1.80</td>\n",
       "      <td>4</td>\n",
       "    </tr>\n",
       "    <tr>\n",
       "      <th>3</th>\n",
       "      <td>AQU</td>\n",
       "      <td>2019-01-01</td>\n",
       "      <td>1</td>\n",
       "      <td>4</td>\n",
       "      <td>123</td>\n",
       "      <td>Jomar Garcia</td>\n",
       "      <td>12.80</td>\n",
       "      <td>5</td>\n",
       "    </tr>\n",
       "    <tr>\n",
       "      <th>4</th>\n",
       "      <td>AQU</td>\n",
       "      <td>2019-01-01</td>\n",
       "      <td>1</td>\n",
       "      <td>5</td>\n",
       "      <td>118</td>\n",
       "      <td>Manuel Franco</td>\n",
       "      <td>11.50</td>\n",
       "      <td>1</td>\n",
       "    </tr>\n",
       "    <tr>\n",
       "      <th>...</th>\n",
       "      <td>...</td>\n",
       "      <td>...</td>\n",
       "      <td>...</td>\n",
       "      <td>...</td>\n",
       "      <td>...</td>\n",
       "      <td>...</td>\n",
       "      <td>...</td>\n",
       "      <td>...</td>\n",
       "    </tr>\n",
       "    <tr>\n",
       "      <th>14910</th>\n",
       "      <td>SAR</td>\n",
       "      <td>2019-09-02</td>\n",
       "      <td>11</td>\n",
       "      <td>3</td>\n",
       "      <td>119</td>\n",
       "      <td>Manuel Franco</td>\n",
       "      <td>14.70</td>\n",
       "      <td>2</td>\n",
       "    </tr>\n",
       "    <tr>\n",
       "      <th>14911</th>\n",
       "      <td>SAR</td>\n",
       "      <td>2019-09-02</td>\n",
       "      <td>11</td>\n",
       "      <td>4</td>\n",
       "      <td>119</td>\n",
       "      <td>Jose Lezcano</td>\n",
       "      <td>10.70</td>\n",
       "      <td>5</td>\n",
       "    </tr>\n",
       "    <tr>\n",
       "      <th>14912</th>\n",
       "      <td>SAR</td>\n",
       "      <td>2019-09-02</td>\n",
       "      <td>11</td>\n",
       "      <td>6</td>\n",
       "      <td>119</td>\n",
       "      <td>Eric Cancel</td>\n",
       "      <td>11.30</td>\n",
       "      <td>10</td>\n",
       "    </tr>\n",
       "    <tr>\n",
       "      <th>14913</th>\n",
       "      <td>SAR</td>\n",
       "      <td>2019-09-02</td>\n",
       "      <td>11</td>\n",
       "      <td>7</td>\n",
       "      <td>119</td>\n",
       "      <td>Irad Ortiz Jr.</td>\n",
       "      <td>4.60</td>\n",
       "      <td>7</td>\n",
       "    </tr>\n",
       "    <tr>\n",
       "      <th>14914</th>\n",
       "      <td>SAR</td>\n",
       "      <td>2019-09-02</td>\n",
       "      <td>11</td>\n",
       "      <td>8</td>\n",
       "      <td>119</td>\n",
       "      <td>Luis Saez</td>\n",
       "      <td>1.10</td>\n",
       "      <td>6</td>\n",
       "    </tr>\n",
       "  </tbody>\n",
       "</table>\n",
       "<p>14915 rows × 8 columns</p>\n",
       "</div>"
      ],
      "text/plain": [
       "      track_id   race_date  race_number program_number  weight_carried  \\\n",
       "0          AQU  2019-01-01            1            1               123   \n",
       "1          AQU  2019-01-01            1            2               120   \n",
       "2          AQU  2019-01-01            1            3               118   \n",
       "3          AQU  2019-01-01            1            4               123   \n",
       "4          AQU  2019-01-01            1            5               118   \n",
       "...        ...         ...          ...            ...             ...   \n",
       "14910      SAR  2019-09-02           11            3               119   \n",
       "14911      SAR  2019-09-02           11            4               119   \n",
       "14912      SAR  2019-09-02           11            6               119   \n",
       "14913      SAR  2019-09-02           11            7               119   \n",
       "14914      SAR  2019-09-02           11            8               119   \n",
       "\n",
       "                jockey   odds  position_at_finish  \n",
       "0          Dylan Davis   1.30                   2  \n",
       "1      Junior Alvarado   2.95                   3  \n",
       "2         Jose Lezcano   1.80                   4  \n",
       "3         Jomar Garcia  12.80                   5  \n",
       "4        Manuel Franco  11.50                   1  \n",
       "...                ...    ...                 ...  \n",
       "14910    Manuel Franco  14.70                   2  \n",
       "14911     Jose Lezcano  10.70                   5  \n",
       "14912      Eric Cancel  11.30                  10  \n",
       "14913   Irad Ortiz Jr.   4.60                   7  \n",
       "14914        Luis Saez   1.10                   6  \n",
       "\n",
       "[14915 rows x 8 columns]"
      ]
     },
     "execution_count": 4,
     "metadata": {},
     "output_type": "execute_result"
    }
   ],
   "source": [
    "horse_data['odds'] = horse_data['odds']/100\n",
    "horse_data"
   ]
  },
  {
   "cell_type": "code",
   "execution_count": 5,
   "id": "a9266cb5",
   "metadata": {
    "execution": {
     "iopub.execute_input": "2022-09-15T22:36:08.090899Z",
     "iopub.status.busy": "2022-09-15T22:36:08.089886Z",
     "iopub.status.idle": "2022-09-15T22:36:08.104161Z",
     "shell.execute_reply": "2022-09-15T22:36:08.103383Z"
    },
    "papermill": {
     "duration": 0.023765,
     "end_time": "2022-09-15T22:36:08.106182",
     "exception": false,
     "start_time": "2022-09-15T22:36:08.082417",
     "status": "completed"
    },
    "tags": []
   },
   "outputs": [
    {
     "data": {
      "text/plain": [
       "race_date\n",
       "2019-01-01    62\n",
       "2019-01-04    51\n",
       "2019-01-05    63\n",
       "2019-01-06    51\n",
       "2019-01-10    29\n",
       "              ..\n",
       "2019-12-22    79\n",
       "2019-12-28    80\n",
       "2019-12-29    72\n",
       "2019-12-30    58\n",
       "2019-12-31    58\n",
       "Name: race_date, Length: 217, dtype: int64"
      ]
     },
     "execution_count": 5,
     "metadata": {},
     "output_type": "execute_result"
    }
   ],
   "source": [
    "horse_data.groupby(['race_date'])['race_date'].count()"
   ]
  },
  {
   "cell_type": "code",
   "execution_count": 6,
   "id": "af7a0b8e",
   "metadata": {
    "execution": {
     "iopub.execute_input": "2022-09-15T22:36:08.120477Z",
     "iopub.status.busy": "2022-09-15T22:36:08.120070Z",
     "iopub.status.idle": "2022-09-15T22:36:08.133538Z",
     "shell.execute_reply": "2022-09-15T22:36:08.132550Z"
    },
    "papermill": {
     "duration": 0.023333,
     "end_time": "2022-09-15T22:36:08.135767",
     "exception": false,
     "start_time": "2022-09-15T22:36:08.112434",
     "status": "completed"
    },
    "tags": []
   },
   "outputs": [
    {
     "data": {
      "text/plain": [
       "jockey\n",
       "Cory Orm                       1.0\n",
       "Brian Joseph Hernandez Jr.     1.0\n",
       "Tony Piccone                   2.0\n",
       "Shaun Bridgmohan               2.0\n",
       "Stephane Pasquier              2.0\n",
       "                              ... \n",
       "Kevin Gomez                    9.0\n",
       "Gavin Coetzee                 10.0\n",
       "Andrea Atzeni                 10.0\n",
       "Martin Chuan                  12.0\n",
       "Suguru Hamanaka               13.0\n",
       "Name: position_at_finish, Length: 178, dtype: float64"
      ]
     },
     "execution_count": 6,
     "metadata": {},
     "output_type": "execute_result"
    }
   ],
   "source": [
    "horse_data.groupby(['jockey'])['position_at_finish'].mean().sort_values(ascending=True) #average performance of horse"
   ]
  },
  {
   "cell_type": "code",
   "execution_count": 7,
   "id": "4b8391fb",
   "metadata": {
    "execution": {
     "iopub.execute_input": "2022-09-15T22:36:08.150504Z",
     "iopub.status.busy": "2022-09-15T22:36:08.149737Z",
     "iopub.status.idle": "2022-09-15T22:36:08.323226Z",
     "shell.execute_reply": "2022-09-15T22:36:08.322463Z"
    },
    "papermill": {
     "duration": 0.185626,
     "end_time": "2022-09-15T22:36:08.327763",
     "exception": false,
     "start_time": "2022-09-15T22:36:08.142137",
     "status": "completed"
    },
    "tags": []
   },
   "outputs": [
    {
     "data": {
      "text/plain": [
       "<AxesSubplot:xlabel='track_id', ylabel='count'>"
      ]
     },
     "execution_count": 7,
     "metadata": {},
     "output_type": "execute_result"
    },
    {
     "data": {
      "image/png": "[encoded data removed]",
      "text/plain": [
       "<Figure size 432x288 with 1 Axes>"
      ]
     },
     "metadata": {
      "needs_background": "light"
     },
     "output_type": "display_data"
    }
   ],
   "source": [
    "fig, ax = plt.subplots()\n",
    "sns.countplot(data = horse_data, ax=ax, x='track_id')"
   ]
  },
  {
   "cell_type": "code",
   "execution_count": 8,
   "id": "c4fc55b7",
   "metadata": {
    "execution": {
     "iopub.execute_input": "2022-09-15T22:36:08.351573Z",
     "iopub.status.busy": "2022-09-15T22:36:08.351171Z",
     "iopub.status.idle": "2022-09-15T22:36:08.371129Z",
     "shell.execute_reply": "2022-09-15T22:36:08.369984Z"
    },
    "papermill": {
     "duration": 0.030436,
     "end_time": "2022-09-15T22:36:08.373701",
     "exception": false,
     "start_time": "2022-09-15T22:36:08.343265",
     "status": "completed"
    },
    "tags": []
   },
   "outputs": [
    {
     "data": {
      "text/html": [
       "<div>\n",
       "<style scoped>\n",
       "    .dataframe tbody tr th:only-of-type {\n",
       "        vertical-align: middle;\n",
       "    }\n",
       "\n",
       "    .dataframe tbody tr th {\n",
       "        vertical-align: top;\n",
       "    }\n",
       "\n",
       "    .dataframe thead th {\n",
       "        text-align: right;\n",
       "    }\n",
       "</style>\n",
       "<table border=\"1\" class=\"dataframe\">\n",
       "  <thead>\n",
       "    <tr style=\"text-align: right;\">\n",
       "      <th></th>\n",
       "      <th>track_id</th>\n",
       "      <th>race_date</th>\n",
       "      <th>race_number</th>\n",
       "      <th>program_number</th>\n",
       "      <th>weight_carried</th>\n",
       "      <th>jockey</th>\n",
       "      <th>odds</th>\n",
       "      <th>position_at_finish</th>\n",
       "    </tr>\n",
       "  </thead>\n",
       "  <tbody>\n",
       "    <tr>\n",
       "      <th>0</th>\n",
       "      <td>AQU</td>\n",
       "      <td>2019-01-01</td>\n",
       "      <td>1</td>\n",
       "      <td>1</td>\n",
       "      <td>123</td>\n",
       "      <td>Dylan Davis</td>\n",
       "      <td>1.30</td>\n",
       "      <td>2</td>\n",
       "    </tr>\n",
       "    <tr>\n",
       "      <th>1</th>\n",
       "      <td>AQU</td>\n",
       "      <td>2019-01-01</td>\n",
       "      <td>1</td>\n",
       "      <td>2</td>\n",
       "      <td>120</td>\n",
       "      <td>Junior Alvarado</td>\n",
       "      <td>2.95</td>\n",
       "      <td>3</td>\n",
       "    </tr>\n",
       "    <tr>\n",
       "      <th>2</th>\n",
       "      <td>AQU</td>\n",
       "      <td>2019-01-01</td>\n",
       "      <td>1</td>\n",
       "      <td>3</td>\n",
       "      <td>118</td>\n",
       "      <td>Jose Lezcano</td>\n",
       "      <td>1.80</td>\n",
       "      <td>4</td>\n",
       "    </tr>\n",
       "    <tr>\n",
       "      <th>3</th>\n",
       "      <td>AQU</td>\n",
       "      <td>2019-01-01</td>\n",
       "      <td>1</td>\n",
       "      <td>4</td>\n",
       "      <td>123</td>\n",
       "      <td>Jomar Garcia</td>\n",
       "      <td>12.80</td>\n",
       "      <td>5</td>\n",
       "    </tr>\n",
       "    <tr>\n",
       "      <th>4</th>\n",
       "      <td>AQU</td>\n",
       "      <td>2019-01-01</td>\n",
       "      <td>1</td>\n",
       "      <td>5</td>\n",
       "      <td>118</td>\n",
       "      <td>Manuel Franco</td>\n",
       "      <td>11.50</td>\n",
       "      <td>1</td>\n",
       "    </tr>\n",
       "  </tbody>\n",
       "</table>\n",
       "</div>"
      ],
      "text/plain": [
       "  track_id  race_date  race_number program_number  weight_carried  \\\n",
       "0      AQU 2019-01-01            1            1               123   \n",
       "1      AQU 2019-01-01            1            2               120   \n",
       "2      AQU 2019-01-01            1            3               118   \n",
       "3      AQU 2019-01-01            1            4               123   \n",
       "4      AQU 2019-01-01            1            5               118   \n",
       "\n",
       "            jockey   odds  position_at_finish  \n",
       "0      Dylan Davis   1.30                   2  \n",
       "1  Junior Alvarado   2.95                   3  \n",
       "2     Jose Lezcano   1.80                   4  \n",
       "3     Jomar Garcia  12.80                   5  \n",
       "4    Manuel Franco  11.50                   1  "
      ]
     },
     "execution_count": 8,
     "metadata": {},
     "output_type": "execute_result"
    }
   ],
   "source": [
    "horse_data['race_date'] = pd.to_datetime(horse_data['race_date'])\n",
    "horse_data.head()"
   ]
  },
  {
   "cell_type": "code",
   "execution_count": 9,
   "id": "da7226aa",
   "metadata": {
    "execution": {
     "iopub.execute_input": "2022-09-15T22:36:08.389422Z",
     "iopub.status.busy": "2022-09-15T22:36:08.388496Z",
     "iopub.status.idle": "2022-09-15T22:36:08.922335Z",
     "shell.execute_reply": "2022-09-15T22:36:08.920978Z"
    },
    "papermill": {
     "duration": 0.544055,
     "end_time": "2022-09-15T22:36:08.924757",
     "exception": false,
     "start_time": "2022-09-15T22:36:08.380702",
     "status": "completed"
    },
    "tags": []
   },
   "outputs": [
    {
     "data": {
      "text/plain": [
       "Text(0.5, 1.0, 'Entry counts')"
      ]
     },
     "execution_count": 9,
     "metadata": {},
     "output_type": "execute_result"
    },
    {
     "data": {
      "image/png": "[encoded data removed]",
      "text/plain": [
       "<Figure size 1440x360 with 1 Axes>"
      ]
     },
     "metadata": {
      "needs_background": "light"
     },
     "output_type": "display_data"
    }
   ],
   "source": [
    "fig, ax = plt.subplots(figsize=(20,5))\n",
    "\n",
    "sns.histplot(data=horse_data,hue=\"track_id\", ax=ax,x=\"race_date\")\n",
    "ax.set_title(\"Entry counts\", fontsize=20)"
   ]
  },
  {
   "cell_type": "code",
   "execution_count": 10,
   "id": "12260192",
   "metadata": {
    "execution": {
     "iopub.execute_input": "2022-09-15T22:36:08.941941Z",
     "iopub.status.busy": "2022-09-15T22:36:08.941142Z",
     "iopub.status.idle": "2022-09-15T22:36:09.286200Z",
     "shell.execute_reply": "2022-09-15T22:36:09.285395Z"
    },
    "papermill": {
     "duration": 0.356242,
     "end_time": "2022-09-15T22:36:09.288550",
     "exception": false,
     "start_time": "2022-09-15T22:36:08.932308",
     "status": "completed"
    },
    "tags": []
   },
   "outputs": [
    {
     "data": {
      "text/plain": [
       "<AxesSubplot:xlabel='race_number', ylabel='count'>"
      ]
     },
     "execution_count": 10,
     "metadata": {},
     "output_type": "execute_result"
    },
    {
     "data": {
      "image/png": "[encoded data removed]",
      "text/plain": [
       "<Figure size 1440x360 with 1 Axes>"
      ]
     },
     "metadata": {
      "needs_background": "light"
     },
     "output_type": "display_data"
    }
   ],
   "source": [
    "fig, ax = plt.subplots(figsize=(20,5))\n",
    "sns.countplot(data = horse_data, ax=ax, x = 'race_number', hue = 'track_id')"
   ]
  },
  {
   "cell_type": "code",
   "execution_count": 11,
   "id": "291e32f0",
   "metadata": {
    "execution": {
     "iopub.execute_input": "2022-09-15T22:36:09.306295Z",
     "iopub.status.busy": "2022-09-15T22:36:09.305464Z",
     "iopub.status.idle": "2022-09-15T22:36:09.311361Z",
     "shell.execute_reply": "2022-09-15T22:36:09.310431Z"
    },
    "papermill": {
     "duration": 0.017027,
     "end_time": "2022-09-15T22:36:09.313545",
     "exception": false,
     "start_time": "2022-09-15T22:36:09.296518",
     "status": "completed"
    },
    "tags": []
   },
   "outputs": [],
   "source": [
    "horse_data['race_number'] = horse_data['race_number'].astype('int8')"
   ]
  },
  {
   "cell_type": "code",
   "execution_count": 12,
   "id": "2e6b5b99",
   "metadata": {
    "execution": {
     "iopub.execute_input": "2022-09-15T22:36:09.331395Z",
     "iopub.status.busy": "2022-09-15T22:36:09.330527Z",
     "iopub.status.idle": "2022-09-15T22:36:09.339154Z",
     "shell.execute_reply": "2022-09-15T22:36:09.338430Z"
    },
    "papermill": {
     "duration": 0.019962,
     "end_time": "2022-09-15T22:36:09.341127",
     "exception": false,
     "start_time": "2022-09-15T22:36:09.321165",
     "status": "completed"
    },
    "tags": []
   },
   "outputs": [
    {
     "data": {
      "text/plain": [
       "4      1748\n",
       "3      1743\n",
       "5      1731\n",
       "2      1715\n",
       "1      1708\n",
       "6      1652\n",
       "7      1390\n",
       "8      1066\n",
       "9       761\n",
       "10      535\n",
       "11      333\n",
       "12      201\n",
       "1A      164\n",
       "13       77\n",
       "14       44\n",
       "15       24\n",
       "2B       11\n",
       "16       10\n",
       "3X        1\n",
       "1X        1\n",
       "Name: program_number, dtype: int64"
      ]
     },
     "execution_count": 12,
     "metadata": {},
     "output_type": "execute_result"
    }
   ],
   "source": [
    "horse_data.program_number.value_counts()"
   ]
  },
  {
   "cell_type": "code",
   "execution_count": 13,
   "id": "7fdbec4d",
   "metadata": {
    "execution": {
     "iopub.execute_input": "2022-09-15T22:36:09.358785Z",
     "iopub.status.busy": "2022-09-15T22:36:09.358120Z",
     "iopub.status.idle": "2022-09-15T22:36:09.645573Z",
     "shell.execute_reply": "2022-09-15T22:36:09.644272Z"
    },
    "papermill": {
     "duration": 0.299218,
     "end_time": "2022-09-15T22:36:09.648207",
     "exception": false,
     "start_time": "2022-09-15T22:36:09.348989",
     "status": "completed"
    },
    "tags": []
   },
   "outputs": [
    {
     "data": {
      "text/plain": [
       "<AxesSubplot:xlabel='program_number', ylabel='Count'>"
      ]
     },
     "execution_count": 13,
     "metadata": {},
     "output_type": "execute_result"
    },
    {
     "data": {
      "image/png": "[encoded data removed]",
      "text/plain": [
       "<Figure size 1440x360 with 1 Axes>"
      ]
     },
     "metadata": {
      "needs_background": "light"
     },
     "output_type": "display_data"
    }
   ],
   "source": [
    "fig, ax = plt.subplots(figsize=(20,5))\n",
    "sns.histplot(data = horse_data, ax=ax, x = 'program_number')"
   ]
  },
  {
   "cell_type": "code",
   "execution_count": 14,
   "id": "251d21ef",
   "metadata": {
    "execution": {
     "iopub.execute_input": "2022-09-15T22:36:09.668319Z",
     "iopub.status.busy": "2022-09-15T22:36:09.666285Z",
     "iopub.status.idle": "2022-09-15T22:36:09.996167Z",
     "shell.execute_reply": "2022-09-15T22:36:09.995294Z"
    },
    "papermill": {
     "duration": 0.341857,
     "end_time": "2022-09-15T22:36:09.998596",
     "exception": false,
     "start_time": "2022-09-15T22:36:09.656739",
     "status": "completed"
    },
    "tags": []
   },
   "outputs": [
    {
     "data": {
      "text/plain": [
       "<AxesSubplot:xlabel='weight_carried', ylabel='Density'>"
      ]
     },
     "execution_count": 14,
     "metadata": {},
     "output_type": "execute_result"
    },
    {
     "data": {
      "image/png": "[encoded data removed]",
      "text/plain": [
       "<Figure size 1440x360 with 1 Axes>"
      ]
     },
     "metadata": {
      "needs_background": "light"
     },
     "output_type": "display_data"
    }
   ],
   "source": [
    "fig, ax = plt.subplots(figsize=(20,5))\n",
    "sns.kdeplot(data = horse_data, x = 'weight_carried')"
   ]
  },
  {
   "cell_type": "code",
   "execution_count": 15,
   "id": "ff3616fa",
   "metadata": {
    "execution": {
     "iopub.execute_input": "2022-09-15T22:36:10.017923Z",
     "iopub.status.busy": "2022-09-15T22:36:10.017518Z",
     "iopub.status.idle": "2022-09-15T22:36:10.381988Z",
     "shell.execute_reply": "2022-09-15T22:36:10.380983Z"
    },
    "papermill": {
     "duration": 0.376782,
     "end_time": "2022-09-15T22:36:10.384397",
     "exception": false,
     "start_time": "2022-09-15T22:36:10.007615",
     "status": "completed"
    },
    "tags": []
   },
   "outputs": [
    {
     "data": {
      "text/plain": [
       "<AxesSubplot:xlabel='odds', ylabel='Density'>"
      ]
     },
     "execution_count": 15,
     "metadata": {},
     "output_type": "execute_result"
    },
    {
     "data": {
      "image/png": "[encoded data removed]",
      "text/plain": [
       "<Figure size 1440x360 with 1 Axes>"
      ]
     },
     "metadata": {
      "needs_background": "light"
     },
     "output_type": "display_data"
    }
   ],
   "source": [
    "fig, ax = plt.subplots(figsize=(20,5))\n",
    "sns.kdeplot(data = horse_data, x = 'odds')"
   ]
  },
  {
   "cell_type": "markdown",
   "id": "4c2113bf",
   "metadata": {
    "papermill": {
     "duration": 0.009047,
     "end_time": "2022-09-15T22:36:10.402643",
     "exception": false,
     "start_time": "2022-09-15T22:36:10.393596",
     "status": "completed"
    },
    "tags": []
   },
   "source": [
    "# **RACE TABLE**"
   ]
  },
  {
   "cell_type": "code",
   "execution_count": 16,
   "id": "129e0344",
   "metadata": {
    "execution": {
     "iopub.execute_input": "2022-09-15T22:36:10.422940Z",
     "iopub.status.busy": "2022-09-15T22:36:10.422332Z",
     "iopub.status.idle": "2022-09-15T22:36:10.435218Z",
     "shell.execute_reply": "2022-09-15T22:36:10.434443Z"
    },
    "papermill": {
     "duration": 0.025412,
     "end_time": "2022-09-15T22:36:10.437160",
     "exception": false,
     "start_time": "2022-09-15T22:36:10.411748",
     "status": "completed"
    },
    "tags": []
   },
   "outputs": [
    {
     "data": {
      "text/html": [
       "<div>\n",
       "<style scoped>\n",
       "    .dataframe tbody tr th:only-of-type {\n",
       "        vertical-align: middle;\n",
       "    }\n",
       "\n",
       "    .dataframe tbody tr th {\n",
       "        vertical-align: top;\n",
       "    }\n",
       "\n",
       "    .dataframe thead th {\n",
       "        text-align: right;\n",
       "    }\n",
       "</style>\n",
       "<table border=\"1\" class=\"dataframe\">\n",
       "  <thead>\n",
       "    <tr style=\"text-align: right;\">\n",
       "      <th></th>\n",
       "      <th>track_id</th>\n",
       "      <th>race_date</th>\n",
       "      <th>race_number</th>\n",
       "      <th>distance_id</th>\n",
       "      <th>course_type</th>\n",
       "      <th>track_condition</th>\n",
       "      <th>run_up_distance</th>\n",
       "      <th>race_type</th>\n",
       "      <th>purse</th>\n",
       "      <th>post_time</th>\n",
       "    </tr>\n",
       "  </thead>\n",
       "  <tbody>\n",
       "    <tr>\n",
       "      <th>0</th>\n",
       "      <td>AQU</td>\n",
       "      <td>2019-01-01</td>\n",
       "      <td>1</td>\n",
       "      <td>650</td>\n",
       "      <td>D</td>\n",
       "      <td>MY</td>\n",
       "      <td>36</td>\n",
       "      <td>AOC</td>\n",
       "      <td>80000</td>\n",
       "      <td>1220</td>\n",
       "    </tr>\n",
       "    <tr>\n",
       "      <th>1</th>\n",
       "      <td>AQU</td>\n",
       "      <td>2019-01-01</td>\n",
       "      <td>2</td>\n",
       "      <td>600</td>\n",
       "      <td>D</td>\n",
       "      <td>MY</td>\n",
       "      <td>48</td>\n",
       "      <td>MCL</td>\n",
       "      <td>41000</td>\n",
       "      <td>1250</td>\n",
       "    </tr>\n",
       "    <tr>\n",
       "      <th>2</th>\n",
       "      <td>AQU</td>\n",
       "      <td>2019-01-01</td>\n",
       "      <td>3</td>\n",
       "      <td>550</td>\n",
       "      <td>D</td>\n",
       "      <td>MY</td>\n",
       "      <td>54</td>\n",
       "      <td>MCL</td>\n",
       "      <td>35000</td>\n",
       "      <td>121</td>\n",
       "    </tr>\n",
       "    <tr>\n",
       "      <th>3</th>\n",
       "      <td>AQU</td>\n",
       "      <td>2019-01-01</td>\n",
       "      <td>4</td>\n",
       "      <td>900</td>\n",
       "      <td>D</td>\n",
       "      <td>MY</td>\n",
       "      <td>101</td>\n",
       "      <td>AOC</td>\n",
       "      <td>80000</td>\n",
       "      <td>150</td>\n",
       "    </tr>\n",
       "    <tr>\n",
       "      <th>4</th>\n",
       "      <td>AQU</td>\n",
       "      <td>2019-01-01</td>\n",
       "      <td>5</td>\n",
       "      <td>700</td>\n",
       "      <td>D</td>\n",
       "      <td>MY</td>\n",
       "      <td>60</td>\n",
       "      <td>ALW</td>\n",
       "      <td>64000</td>\n",
       "      <td>220</td>\n",
       "    </tr>\n",
       "  </tbody>\n",
       "</table>\n",
       "</div>"
      ],
      "text/plain": [
       "  track_id   race_date  race_number  distance_id course_type track_condition  \\\n",
       "0      AQU  2019-01-01            1          650           D             MY    \n",
       "1      AQU  2019-01-01            2          600           D             MY    \n",
       "2      AQU  2019-01-01            3          550           D             MY    \n",
       "3      AQU  2019-01-01            4          900           D             MY    \n",
       "4      AQU  2019-01-01            5          700           D             MY    \n",
       "\n",
       "   run_up_distance race_type  purse  post_time  \n",
       "0               36       AOC  80000       1220  \n",
       "1               48       MCL  41000       1250  \n",
       "2               54       MCL  35000        121  \n",
       "3              101       AOC  80000        150  \n",
       "4               60       ALW  64000        220  "
      ]
     },
     "execution_count": 16,
     "metadata": {},
     "output_type": "execute_result"
    }
   ],
   "source": [
    "track_data.head()"
   ]
  },
  {
   "cell_type": "code",
   "execution_count": 17,
   "id": "39d22991",
   "metadata": {
    "execution": {
     "iopub.execute_input": "2022-09-15T22:36:10.458230Z",
     "iopub.status.busy": "2022-09-15T22:36:10.457543Z",
     "iopub.status.idle": "2022-09-15T22:36:10.474075Z",
     "shell.execute_reply": "2022-09-15T22:36:10.473006Z"
    },
    "papermill": {
     "duration": 0.030103,
     "end_time": "2022-09-15T22:36:10.476704",
     "exception": false,
     "start_time": "2022-09-15T22:36:10.446601",
     "status": "completed"
    },
    "tags": []
   },
   "outputs": [
    {
     "name": "stdout",
     "output_type": "stream",
     "text": [
      "<class 'pandas.core.frame.DataFrame'>\n",
      "RangeIndex: 2000 entries, 0 to 1999\n",
      "Data columns (total 10 columns):\n",
      " #   Column           Non-Null Count  Dtype         \n",
      "---  ------           --------------  -----         \n",
      " 0   track_id         2000 non-null   object        \n",
      " 1   race_date        2000 non-null   datetime64[ns]\n",
      " 2   race_number      2000 non-null   int64         \n",
      " 3   distance_id      2000 non-null   int64         \n",
      " 4   course_type      2000 non-null   object        \n",
      " 5   track_condition  2000 non-null   object        \n",
      " 6   run_up_distance  2000 non-null   int64         \n",
      " 7   race_type        2000 non-null   object        \n",
      " 8   purse            2000 non-null   int64         \n",
      " 9   post_time        2000 non-null   int64         \n",
      "dtypes: datetime64[ns](1), int64(5), object(4)\n",
      "memory usage: 156.4+ KB\n"
     ]
    }
   ],
   "source": [
    "track_data['race_date'] = pd.to_datetime(track_data['race_date'])\n",
    "track_data.info()"
   ]
  },
  {
   "cell_type": "code",
   "execution_count": 18,
   "id": "428b4785",
   "metadata": {
    "execution": {
     "iopub.execute_input": "2022-09-15T22:36:10.498576Z",
     "iopub.status.busy": "2022-09-15T22:36:10.498150Z",
     "iopub.status.idle": "2022-09-15T22:36:10.505165Z",
     "shell.execute_reply": "2022-09-15T22:36:10.504079Z"
    },
    "papermill": {
     "duration": 0.020666,
     "end_time": "2022-09-15T22:36:10.507536",
     "exception": false,
     "start_time": "2022-09-15T22:36:10.486870",
     "status": "completed"
    },
    "tags": []
   },
   "outputs": [
    {
     "data": {
      "text/plain": [
       "(2000, 10)"
      ]
     },
     "execution_count": 18,
     "metadata": {},
     "output_type": "execute_result"
    }
   ],
   "source": [
    "track_data.shape"
   ]
  },
  {
   "cell_type": "code",
   "execution_count": 19,
   "id": "76fbafd0",
   "metadata": {
    "execution": {
     "iopub.execute_input": "2022-09-15T22:36:10.530546Z",
     "iopub.status.busy": "2022-09-15T22:36:10.529707Z",
     "iopub.status.idle": "2022-09-15T22:36:10.763148Z",
     "shell.execute_reply": "2022-09-15T22:36:10.762024Z"
    },
    "papermill": {
     "duration": 0.24809,
     "end_time": "2022-09-15T22:36:10.765835",
     "exception": false,
     "start_time": "2022-09-15T22:36:10.517745",
     "status": "completed"
    },
    "tags": []
   },
   "outputs": [
    {
     "data": {
      "text/plain": [
       "<AxesSubplot:xlabel='course_type', ylabel='count'>"
      ]
     },
     "execution_count": 19,
     "metadata": {},
     "output_type": "execute_result"
    },
    {
     "data": {
      "image/png": "[encoded data removed]",
      "text/plain": [
       "<Figure size 432x288 with 1 Axes>"
      ]
     },
     "metadata": {
      "needs_background": "light"
     },
     "output_type": "display_data"
    }
   ],
   "source": [
    "sns.countplot(data = track_data, x = 'course_type')"
   ]
  },
  {
   "cell_type": "code",
   "execution_count": null,
   "id": "3dc377c6",
   "metadata": {
    "papermill": {
     "duration": 0.00956,
     "end_time": "2022-09-15T22:36:10.785451",
     "exception": false,
     "start_time": "2022-09-15T22:36:10.775891",
     "status": "completed"
    },
    "tags": []
   },
   "outputs": [],
   "source": []
  }
 ],
 "metadata": {
  "kernelspec": {
   "display_name": "Python 3",
   "language": "python",
   "name": "python3"
  },
  "language_info": {
   "codemirror_mode": {
    "name": "ipython",
    "version": 3
   },
   "file_extension": ".py",
   "mimetype": "text/x-python",
   "name": "python",
   "nbconvert_exporter": "python",
   "pygments_lexer": "ipython3",
   "version": "3.7.12"
  },
  "papermill": {
   "default_parameters": {},
   "duration": 22.111198,
   "end_time": "2022-09-15T22:36:11.717932",
   "environment_variables": {},
   "exception": null,
   "input_path": "__notebook__.ipynb",
   "output_path": "__notebook__.ipynb",
   "parameters": {},
   "start_time": "2022-09-15T22:35:49.606734",
   "version": "2.3.4"
  }
 },
 "nbformat": 4,
 "nbformat_minor": 5
}
